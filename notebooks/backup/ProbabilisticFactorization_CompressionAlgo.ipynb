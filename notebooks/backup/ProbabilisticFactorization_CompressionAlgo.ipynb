{
 "cells": [
  {
   "cell_type": "code",
   "execution_count": 1,
   "metadata": {
    "collapsed": false
   },
   "outputs": [],
   "source": [
    "import numpy as np\n",
    "import pandas as pd\n",
    "from ntf_cython.random import algo42, algo44, admm, rel_error\n",
    "from ntf_cython.nmf import nmf\n",
    "from collections import OrderedDict\n",
    "import scipy\n",
    "\n",
    "%matplotlib inline"
   ]
  },
  {
   "cell_type": "markdown",
   "metadata": {},
   "source": [
    "## Synthetic Random Matrix"
   ]
  },
  {
   "cell_type": "code",
   "execution_count": 2,
   "metadata": {
    "collapsed": true
   },
   "outputs": [],
   "source": [
    "m = 10000\n",
    "n = 1000\n",
    "k = 100\n",
    "A0 = np.random.randn(m, k)\n",
    "A1 = np.random.randn(k, n)\n",
    "A = A0.dot(A1)"
   ]
  },
  {
   "cell_type": "markdown",
   "metadata": {},
   "source": [
    "## Compression Algorithms"
   ]
  },
  {
   "cell_type": "markdown",
   "metadata": {},
   "source": [
    "## Direct Method"
   ]
  },
  {
   "cell_type": "code",
   "execution_count": 3,
   "metadata": {
    "collapsed": false
   },
   "outputs": [
    {
     "name": "stdout",
     "output_type": "stream",
     "text": [
      "CPU times: user 2.35 s, sys: 118 ms, total: 2.47 s\n",
      "Wall time: 1.34 s\n"
     ]
    }
   ],
   "source": [
    "%time QA, RA = np.linalg.qr(A)"
   ]
  },
  {
   "cell_type": "code",
   "execution_count": 4,
   "metadata": {
    "collapsed": false
   },
   "outputs": [
    {
     "name": "stdout",
     "output_type": "stream",
     "text": [
      "CPU times: user 598 ms, sys: 17.1 ms, total: 615 ms\n",
      "Wall time: 326 ms\n"
     ]
    }
   ],
   "source": [
    "%time QRA = QA.dot(RA)"
   ]
  },
  {
   "cell_type": "code",
   "execution_count": 5,
   "metadata": {
    "collapsed": false
   },
   "outputs": [
    {
     "data": {
      "text/plain": [
       "9.2598453939395887e-16"
      ]
     },
     "execution_count": 5,
     "metadata": {},
     "output_type": "execute_result"
    }
   ],
   "source": [
    "rel_error(A, QRA)"
   ]
  },
  {
   "cell_type": "markdown",
   "metadata": {},
   "source": [
    "## Algo 41. Randomized Range Finder"
   ]
  },
  {
   "cell_type": "code",
   "execution_count": 6,
   "metadata": {
    "collapsed": true
   },
   "outputs": [],
   "source": [
    "def algo41(A, r):\n",
    "    n = A.shape[1]\n",
    "    W = np.random.rand(n, r)\n",
    "    Y = A.dot(W)\n",
    "    Q, R = np.linalg.qr(Y)\n",
    "    return Q"
   ]
  },
  {
   "cell_type": "code",
   "execution_count": 7,
   "metadata": {
    "collapsed": false
   },
   "outputs": [
    {
     "name": "stdout",
     "output_type": "stream",
     "text": [
      "CPU times: user 3 µs, sys: 1 µs, total: 4 µs\n",
      "Wall time: 7.87 µs\n"
     ]
    }
   ],
   "source": [
    "%time\n",
    "r = k\n",
    "Q = algo41(A, r)\n",
    "B = Q.T.dot(A)\n",
    "QB, RB = np.linalg.qr(B)"
   ]
  },
  {
   "cell_type": "code",
   "execution_count": 8,
   "metadata": {
    "collapsed": false
   },
   "outputs": [
    {
     "name": "stdout",
     "output_type": "stream",
     "text": [
      "CPU times: user 113 ms, sys: 11.1 ms, total: 124 ms\n",
      "Wall time: 81.7 ms\n"
     ]
    }
   ],
   "source": [
    "%time QRB = Q.dot(QB).dot(RB)"
   ]
  },
  {
   "cell_type": "code",
   "execution_count": 9,
   "metadata": {
    "collapsed": false
   },
   "outputs": [
    {
     "data": {
      "text/plain": [
       "1.0886781630551195e-14"
      ]
     },
     "execution_count": 9,
     "metadata": {},
     "output_type": "execute_result"
    }
   ],
   "source": [
    "rel_error(A, QRB)"
   ]
  },
  {
   "cell_type": "markdown",
   "metadata": {},
   "source": [
    "## Algo42. Adaptive Randomized Range Finder"
   ]
  },
  {
   "cell_type": "code",
   "execution_count": 10,
   "metadata": {
    "collapsed": false
   },
   "outputs": [
    {
     "name": "stdout",
     "output_type": "stream",
     "text": [
      "CPU times: user 4 µs, sys: 1 µs, total: 5 µs\n",
      "Wall time: 7.87 µs\n"
     ]
    }
   ],
   "source": [
    "%time\n",
    "eps = 0.01\n",
    "r = 5\n",
    "Q = algo42(A, eps, r)\n",
    "B = Q.T.dot(A)\n",
    "QB, RB = np.linalg.qr(B)"
   ]
  },
  {
   "cell_type": "code",
   "execution_count": 11,
   "metadata": {
    "collapsed": false
   },
   "outputs": [
    {
     "name": "stdout",
     "output_type": "stream",
     "text": [
      "CPU times: user 124 ms, sys: 33.7 ms, total: 158 ms\n",
      "Wall time: 89.6 ms\n"
     ]
    }
   ],
   "source": [
    "%time QRB = Q.dot(QB).dot(RB)"
   ]
  },
  {
   "cell_type": "code",
   "execution_count": 12,
   "metadata": {
    "collapsed": false
   },
   "outputs": [
    {
     "data": {
      "text/plain": [
       "3.176463570166674e-14"
      ]
     },
     "execution_count": 12,
     "metadata": {},
     "output_type": "execute_result"
    }
   ],
   "source": [
    "rel_error(A, QRB)"
   ]
  },
  {
   "cell_type": "markdown",
   "metadata": {},
   "source": [
    "## Algo43. Randomized Power Iteration"
   ]
  },
  {
   "cell_type": "code",
   "execution_count": 13,
   "metadata": {
    "collapsed": false
   },
   "outputs": [],
   "source": [
    "def algo43(A, r=100, q=1):\n",
    "    \n",
    "    n = A.shape[1]\n",
    "    W = np.random.normal(size=(n, r))\n",
    "    Y = ((A.dot(A.T))**q).dot(A).dot(W)\n",
    "    Q, _ = np.linalg.qr(Y)\n",
    "    return Q"
   ]
  },
  {
   "cell_type": "code",
   "execution_count": 14,
   "metadata": {
    "collapsed": false
   },
   "outputs": [
    {
     "name": "stdout",
     "output_type": "stream",
     "text": [
      "CPU times: user 10.4 s, sys: 622 ms, total: 11.1 s\n",
      "Wall time: 6.26 s\n"
     ]
    }
   ],
   "source": [
    "%%time\n",
    "q = 1\n",
    "r = k\n",
    "Q = algo43(A, r, q)\n",
    "B = Q.T.dot(A)\n",
    "QB, RB = np.linalg.qr(B)"
   ]
  },
  {
   "cell_type": "code",
   "execution_count": 15,
   "metadata": {
    "collapsed": false
   },
   "outputs": [
    {
     "name": "stdout",
     "output_type": "stream",
     "text": [
      "CPU times: user 114 ms, sys: 17 ms, total: 131 ms\n",
      "Wall time: 72.5 ms\n"
     ]
    }
   ],
   "source": [
    "%time QRB = Q.dot(QB).dot(RB)"
   ]
  },
  {
   "cell_type": "code",
   "execution_count": 16,
   "metadata": {
    "collapsed": false
   },
   "outputs": [
    {
     "data": {
      "text/plain": [
       "1.4296963739579134e-14"
      ]
     },
     "execution_count": 16,
     "metadata": {},
     "output_type": "execute_result"
    }
   ],
   "source": [
    "rel_error(A, QRB)"
   ]
  },
  {
   "cell_type": "markdown",
   "metadata": {},
   "source": [
    "## Algo44. Randomized Subspace Iteration"
   ]
  },
  {
   "cell_type": "code",
   "execution_count": 17,
   "metadata": {
    "collapsed": false
   },
   "outputs": [
    {
     "name": "stdout",
     "output_type": "stream",
     "text": [
      "CPU times: user 503 ms, sys: 21.4 ms, total: 524 ms\n",
      "Wall time: 272 ms\n"
     ]
    }
   ],
   "source": [
    "%%time\n",
    "k = 100\n",
    "q = 1\n",
    "r = k\n",
    "Q = algo44(A, q, r)\n",
    "B = Q.T.dot(A)\n",
    "QB, RB = np.linalg.qr(B)"
   ]
  },
  {
   "cell_type": "code",
   "execution_count": 18,
   "metadata": {
    "collapsed": false
   },
   "outputs": [
    {
     "name": "stdout",
     "output_type": "stream",
     "text": [
      "CPU times: user 118 ms, sys: 23.1 ms, total: 142 ms\n",
      "Wall time: 85.2 ms\n"
     ]
    }
   ],
   "source": [
    "%time QRB = Q.dot(QB).dot(RB)"
   ]
  },
  {
   "cell_type": "code",
   "execution_count": 19,
   "metadata": {
    "collapsed": false
   },
   "outputs": [
    {
     "data": {
      "text/plain": [
       "1.1150750115892608e-15"
      ]
     },
     "execution_count": 19,
     "metadata": {},
     "output_type": "execute_result"
    }
   ],
   "source": [
    "rel_error(A, QRB)"
   ]
  },
  {
   "cell_type": "markdown",
   "metadata": {},
   "source": [
    "## Algo45. Fast Randomized Range Finder"
   ]
  },
  {
   "cell_type": "code",
   "execution_count": 38,
   "metadata": {
    "collapsed": true
   },
   "outputs": [],
   "source": [
    "def compute_complex_diagonal(n):\n",
    "    a = np.random.uniform(size=(n,)) + 1j * np.random.uniform(size=(n,))\n",
    "    return np.diag(a / np.linalg.norm(a))"
   ]
  },
  {
   "cell_type": "code",
   "execution_count": 39,
   "metadata": {
    "collapsed": true
   },
   "outputs": [],
   "source": [
    "def random_permutation_matrix(n, r=None):\n",
    "    \n",
    "    R = np.identity(n)\n",
    "    np.random.shuffle(R)\n",
    "    if r is not None:\n",
    "        R = R[:, :r]\n",
    "    return R"
   ]
  },
  {
   "cell_type": "code",
   "execution_count": 46,
   "metadata": {
    "collapsed": false
   },
   "outputs": [],
   "source": [
    "def compute_unaryDFT(n):\n",
    "    \n",
    "    q = np.tile(np.arange(0,n),n).reshape(n,n)\n",
    "    F = (1/np.sqrt(n)) * np.exp((-2 * 1j * np.pi * q.T * q) / n)\n",
    "    return F"
   ]
  },
  {
   "cell_type": "code",
   "execution_count": 47,
   "metadata": {
    "collapsed": true
   },
   "outputs": [],
   "source": [
    "def SRFT(n, r):\n",
    "    \n",
    "    D = compute_complex_diagonal(n)\n",
    "    F = compute_unaryDFT(n)\n",
    "    R = random_permutation_matrix(n, r)\n",
    "    return np.sqrt(n / r) * np.linalg.multi_dot([D, F, R])\n",
    "    "
   ]
  },
  {
   "cell_type": "code",
   "execution_count": 48,
   "metadata": {
    "collapsed": true
   },
   "outputs": [],
   "source": [
    "def algo45(A, r):\n",
    "    \n",
    "    n = A.shape[1]\n",
    "    W = SRFT(n, r)\n",
    "    Y = A.dot(W)\n",
    "    q, _ = np.linalg.qr(Y)\n",
    "    \n",
    "    return q"
   ]
  },
  {
   "cell_type": "code",
   "execution_count": 49,
   "metadata": {
    "collapsed": false
   },
   "outputs": [
    {
     "name": "stdout",
     "output_type": "stream",
     "text": [
      "CPU times: user 1.27 s, sys: 193 ms, total: 1.47 s\n",
      "Wall time: 846 ms\n"
     ]
    }
   ],
   "source": [
    "%%time\n",
    "k = 100\n",
    "r = k\n",
    "Q = algo45(A,r)\n",
    "B = Q.T.dot(A)\n",
    "QB, RB = np.linalg.qr(B)"
   ]
  },
  {
   "cell_type": "code",
   "execution_count": 50,
   "metadata": {
    "collapsed": false
   },
   "outputs": [
    {
     "name": "stdout",
     "output_type": "stream",
     "text": [
      "CPU times: user 453 ms, sys: 82.4 ms, total: 535 ms\n",
      "Wall time: 293 ms\n"
     ]
    }
   ],
   "source": [
    "%time QRB = Q.dot(QB).dot(RB)"
   ]
  },
  {
   "cell_type": "code",
   "execution_count": 51,
   "metadata": {
    "collapsed": false
   },
   "outputs": [
    {
     "data": {
      "text/plain": [
       "1.410169063511606"
      ]
     },
     "execution_count": 51,
     "metadata": {},
     "output_type": "execute_result"
    }
   ],
   "source": [
    "rel_error(A, QRB)"
   ]
  },
  {
   "cell_type": "markdown",
   "metadata": {},
   "source": [
    "## Algo46: Gaussian Subsampled Random Fourier Transform "
   ]
  },
  {
   "cell_type": "code",
   "execution_count": 28,
   "metadata": {
    "collapsed": true
   },
   "outputs": [],
   "source": [
    "def givens_rotation(n, i, j, theta):\n",
    "    \n",
    "    givens_rotation = np.identity(n)\n",
    "    givens_rotation[i, i] = np.cos(theta)\n",
    "    givens_rotation[j, j] = np.cos(theta)\n",
    "    givens_rotation[i, j] = np.sin(theta)\n",
    "    givens_rotation[j, i] = - np.sin(theta)\n",
    "    return givens_rotation"
   ]
  },
  {
   "cell_type": "code",
   "execution_count": 29,
   "metadata": {
    "collapsed": true
   },
   "outputs": [],
   "source": [
    "def chain_random_givens_rotation(n, r=None):\n",
    "\n",
    "    P = random_permutation_matrix(n, r)\n",
    "    for i in range(n - 1):\n",
    "        P = np.dot(P, givens_rotation(n, i, i + 1, np.random.normal()))\n",
    "    return P"
   ]
  },
  {
   "cell_type": "code",
   "execution_count": 30,
   "metadata": {
    "collapsed": false
   },
   "outputs": [],
   "source": [
    "def GSRFT(n, r, num_iteration):\n",
    "    \n",
    "    params = OrderedDict()\n",
    "    params['D'+str(num_iteration)] = compute_complex_diagonal(n)\n",
    "    i = num_iteration - 1\n",
    "\n",
    "    while (i >= 0) and (i <= num_iteration - 1):\n",
    "        params['theta'+str(i)] = chain_random_givens_rotation(n)\n",
    "        params['D'+str(i)] = compute_complex_diagonal(n)\n",
    "        i = i - 1\n",
    "\n",
    "    F = compute_unaryDFT(n)\n",
    "    R = random_permutation_matrix(n, r)\n",
    "    \n",
    "    a = np.linalg.multi_dot(list(params.values())[:-1])\n",
    "        \n",
    "    return np.linalg.multi_dot([a,params['D0'],F,R])\n",
    "        "
   ]
  },
  {
   "cell_type": "code",
   "execution_count": 31,
   "metadata": {
    "collapsed": true
   },
   "outputs": [],
   "source": [
    "def algo46(A, r, num_iteration=3):\n",
    "    \n",
    "    n = A.shape[1]\n",
    "    W = GSRFT(n, r, num_iteration)\n",
    "    Y = A.dot(W)\n",
    "    q, _ = np.linalg.qr(Y)\n",
    "    \n",
    "    return q"
   ]
  },
  {
   "cell_type": "code",
   "execution_count": 32,
   "metadata": {
    "collapsed": false
   },
   "outputs": [
    {
     "name": "stdout",
     "output_type": "stream",
     "text": [
      "CPU times: user 3min 24s, sys: 9.92 s, total: 3min 34s\n",
      "Wall time: 1min 48s\n"
     ]
    }
   ],
   "source": [
    "%%time\n",
    "k = 100\n",
    "r = k\n",
    "Q = algo46(A,r,3)\n",
    "B = Q.T.dot(A)\n",
    "QB, RB = np.linalg.qr(B)"
   ]
  },
  {
   "cell_type": "code",
   "execution_count": 33,
   "metadata": {
    "collapsed": false
   },
   "outputs": [
    {
     "name": "stdout",
     "output_type": "stream",
     "text": [
      "CPU times: user 390 ms, sys: 77.7 ms, total: 468 ms\n",
      "Wall time: 258 ms\n"
     ]
    }
   ],
   "source": [
    "%time QRB = Q.dot(QB).dot(RB)"
   ]
  },
  {
   "cell_type": "code",
   "execution_count": 34,
   "metadata": {
    "collapsed": false
   },
   "outputs": [
    {
     "data": {
      "text/plain": [
       "1.4129892428977826"
      ]
     },
     "execution_count": 34,
     "metadata": {},
     "output_type": "execute_result"
    }
   ],
   "source": [
    "rel_error(A, QRB)"
   ]
  },
  {
   "cell_type": "markdown",
   "metadata": {},
   "source": [
    "## Algo: Structured Compression Algorithm"
   ]
  },
  {
   "cell_type": "markdown",
   "metadata": {},
   "source": [
    "### based on Figure 1 of the book: Compressed Nonnegative Matrix Factorization Is Fast And Accurate"
   ]
  },
  {
   "cell_type": "code",
   "execution_count": 35,
   "metadata": {
    "collapsed": true
   },
   "outputs": [],
   "source": [
    "def structured_compression(A, r, q, oversampling):\n",
    "    \n",
    "    n = A.shape[1]\n",
    "    W = np.random.normal(size = (n, r + oversampling))\n",
    "    Y = ((A.dot(A.T))**q).dot(A).dot(W)\n",
    "    q, _ = np.linalg.qr(Y)\n",
    "    \n",
    "    return q"
   ]
  },
  {
   "cell_type": "code",
   "execution_count": 39,
   "metadata": {
    "collapsed": false
   },
   "outputs": [
    {
     "name": "stdout",
     "output_type": "stream",
     "text": [
      "CPU times: user 14.8 s, sys: 832 ms, total: 15.6 s\n",
      "Wall time: 10.4 s\n"
     ]
    }
   ],
   "source": [
    "%%time\n",
    "oversampling = 5\n",
    "q = 3\n",
    "r = 200\n",
    "Q = structured_compression(A, r, q, oversampling)\n",
    "B = Q.T.dot(A)\n",
    "QB, RB = np.linalg.qr(B)"
   ]
  },
  {
   "cell_type": "code",
   "execution_count": 40,
   "metadata": {
    "collapsed": false
   },
   "outputs": [
    {
     "name": "stdout",
     "output_type": "stream",
     "text": [
      "CPU times: user 215 ms, sys: 27 ms, total: 242 ms\n",
      "Wall time: 139 ms\n"
     ]
    }
   ],
   "source": [
    "%time QRB = Q.dot(QB).dot(RB)"
   ]
  },
  {
   "cell_type": "code",
   "execution_count": 41,
   "metadata": {
    "collapsed": false
   },
   "outputs": [
    {
     "data": {
      "text/plain": [
       "0.22567490928872153"
      ]
     },
     "execution_count": 41,
     "metadata": {},
     "output_type": "execute_result"
    }
   ],
   "source": [
    "rel_error(A, QRB)"
   ]
  },
  {
   "cell_type": "markdown",
   "metadata": {},
   "source": [
    "## Algo: Count Gauss Algo: How to fake multiply a matrix"
   ]
  },
  {
   "cell_type": "code",
   "execution_count": 211,
   "metadata": {
    "collapsed": true
   },
   "outputs": [],
   "source": [
    "def count_gauss(A, rank, oversampling_factor):\n",
    "    \n",
    "    \"\"\"\n",
    "    Based on Algorithm 1 of the paper https://arxiv.org/pdf/1606.05732v1.pdf\n",
    "    \"\"\"\n",
    "    \n",
    "    d = A.shape[0]\n",
    "    \n",
    "    k = rank * oversampling_factor\n",
    "    \n",
    "    R = np.random.randint(k, size=d)\n",
    "    C = np.arange(d)\n",
    "    D = np.random.choice([-1,1], size=d)\n",
    "    S = scipy.sparse.csc_matrix((D, (R, C)), shape=(k, d))\n",
    "    \n",
    "    G = np.random.randn(rank, k)\n",
    "    #Z = np.linalg.multi_dot([G,S, A])\n",
    "    \n",
    "    print(G.shape)\n",
    "    print(S.T.shape)\n",
    "    Q = S.T.dot(G.T)\n",
    "    Z = G.dot(S.dot(A))\n",
    "    \n",
    "    return Q,Z\n",
    "    "
   ]
  },
  {
   "cell_type": "code",
   "execution_count": 212,
   "metadata": {
    "collapsed": false
   },
   "outputs": [
    {
     "data": {
      "text/plain": [
       "(10000, 1000)"
      ]
     },
     "execution_count": 212,
     "metadata": {},
     "output_type": "execute_result"
    }
   ],
   "source": [
    "A.shape"
   ]
  },
  {
   "cell_type": "code",
   "execution_count": 275,
   "metadata": {
    "collapsed": false
   },
   "outputs": [
    {
     "name": "stdout",
     "output_type": "stream",
     "text": [
      "(1000, 10000)\n",
      "(10000, 10000)\n",
      "CPU times: user 1.86 s, sys: 151 ms, total: 2.01 s\n",
      "Wall time: 1.32 s\n"
     ]
    }
   ],
   "source": [
    "%%time\n",
    "oversampling_factor = 10\n",
    "r = 1000\n",
    "Q, B = count_gauss(A, r, oversampling_factor)\n",
    "QB, RB = np.linalg.qr(B)"
   ]
  },
  {
   "cell_type": "code",
   "execution_count": 276,
   "metadata": {
    "collapsed": false
   },
   "outputs": [
    {
     "data": {
      "text/plain": [
       "((1000, 1000), (1000, 1000))"
      ]
     },
     "execution_count": 276,
     "metadata": {},
     "output_type": "execute_result"
    }
   ],
   "source": [
    "QB.shape,RB.shape"
   ]
  },
  {
   "cell_type": "code",
   "execution_count": 277,
   "metadata": {
    "collapsed": false
   },
   "outputs": [
    {
     "data": {
      "text/plain": [
       "(10000, 1000)"
      ]
     },
     "execution_count": 277,
     "metadata": {},
     "output_type": "execute_result"
    }
   ],
   "source": [
    "Q.shape"
   ]
  },
  {
   "cell_type": "code",
   "execution_count": 278,
   "metadata": {
    "collapsed": false
   },
   "outputs": [
    {
     "data": {
      "text/plain": [
       "((10000, 1000), (1000, 1000), (1000, 1000))"
      ]
     },
     "execution_count": 278,
     "metadata": {},
     "output_type": "execute_result"
    }
   ],
   "source": [
    "Q.shape,QB.shape,RB.shape"
   ]
  },
  {
   "cell_type": "code",
   "execution_count": 279,
   "metadata": {
    "collapsed": false
   },
   "outputs": [],
   "source": [
    "QRB = Q.dot(QB).dot(RB)"
   ]
  },
  {
   "cell_type": "code",
   "execution_count": 280,
   "metadata": {
    "collapsed": false
   },
   "outputs": [
    {
     "data": {
      "text/plain": [
       "3462.9824297333712"
      ]
     },
     "execution_count": 280,
     "metadata": {},
     "output_type": "execute_result"
    }
   ],
   "source": [
    "rel_error(A, QRB)"
   ]
  },
  {
   "cell_type": "code",
   "execution_count": 281,
   "metadata": {
    "collapsed": false
   },
   "outputs": [
    {
     "data": {
      "text/plain": [
       "(10000, 1000)"
      ]
     },
     "execution_count": 281,
     "metadata": {},
     "output_type": "execute_result"
    }
   ],
   "source": [
    "A.shape"
   ]
  },
  {
   "cell_type": "code",
   "execution_count": 100,
   "metadata": {
    "collapsed": false
   },
   "outputs": [
    {
     "data": {
      "text/plain": [
       "(10000, 1000)"
      ]
     },
     "execution_count": 100,
     "metadata": {},
     "output_type": "execute_result"
    }
   ],
   "source": [
    "QRB.shape"
   ]
  },
  {
   "cell_type": "code",
   "execution_count": 101,
   "metadata": {
    "collapsed": false
   },
   "outputs": [
    {
     "data": {
      "text/plain": [
       "((100, 500), (500, 10000), (10000, 1000))"
      ]
     },
     "execution_count": 101,
     "metadata": {},
     "output_type": "execute_result"
    }
   ],
   "source": [
    "G.shape,S.shape,A.shape"
   ]
  },
  {
   "cell_type": "code",
   "execution_count": null,
   "metadata": {
    "collapsed": true
   },
   "outputs": [],
   "source": []
  }
 ],
 "metadata": {
  "kernelspec": {
   "display_name": "IPython (Python 3)",
   "language": "python",
   "name": "python3"
  },
  "language_info": {
   "codemirror_mode": {
    "name": "ipython",
    "version": 3
   },
   "file_extension": ".py",
   "mimetype": "text/x-python",
   "name": "python",
   "nbconvert_exporter": "python",
   "pygments_lexer": "ipython3",
   "version": "3.5.1"
  }
 },
 "nbformat": 4,
 "nbformat_minor": 0
}
