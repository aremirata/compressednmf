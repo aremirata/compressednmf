{
 "cells": [
  {
   "cell_type": "code",
   "execution_count": 1,
   "metadata": {
    "collapsed": false
   },
   "outputs": [],
   "source": [
    "import numpy as np\n",
    "import pandas as pd\n",
    "import matplotlib.pyplot as plt\n",
    "from scipy.sparse import coo_matrix, issparse\n",
    "from scipy.sparse.linalg import norm as spnorm\n",
    "import pickle\n",
    "import sklearn\n",
    "from scipy import sparse\n",
    "from ntf_cython.random import algo42, algo44, admm, rel_error\n",
    "from savvy_factorize.compression import algo41, algo43, algo45, algo46, structured_compression, count_gauss\n",
    "from sklearn.decomposition.nmf import _initialize_nmf\n",
    "from numpy.linalg import norm, solve\n",
    "import seaborn as sns\n",
    "from savvy_factorize.structured_nmf import compression_algo\n",
    "\n",
    "%matplotlib inline"
   ]
  },
  {
   "cell_type": "code",
   "execution_count": 2,
   "metadata": {
    "collapsed": false
   },
   "outputs": [
    {
     "name": "stderr",
     "output_type": "stream",
     "text": [
      "<string>:2: DtypeWarning: Columns (10) have mixed types. Specify dtype option on import or set low_memory=False.\n"
     ]
    },
    {
     "name": "stdout",
     "output_type": "stream",
     "text": [
      "CPU times: user 46.5 s, sys: 6.97 s, total: 53.4 s\n",
      "Wall time: 54.5 s\n"
     ]
    }
   ],
   "source": [
    "%%time\n",
    "df = pd.read_csv('/Users/user/Documents/Medicare_Provider_Util_Payment_PUF_CY2013/Medicare_Provider_Util_Payment_PUF_CY2013.txt', sep= '\\t')"
   ]
  },
  {
   "cell_type": "code",
   "execution_count": 3,
   "metadata": {
    "collapsed": false
   },
   "outputs": [
    {
     "data": {
      "text/plain": [
       "(9287876, 28)"
      ]
     },
     "execution_count": 3,
     "metadata": {},
     "output_type": "execute_result"
    }
   ],
   "source": [
    "#Clean up first row of the data\n",
    "df = df[1:]\n",
    "np.shape(df)"
   ]
  },
  {
   "cell_type": "code",
   "execution_count": 4,
   "metadata": {
    "collapsed": false
   },
   "outputs": [
    {
     "name": "stdout",
     "output_type": "stream",
     "text": [
      "(14822, 1376)\n",
      "CPU times: user 2.61 s, sys: 730 ms, total: 3.34 s\n",
      "Wall time: 3.73 s\n"
     ]
    }
   ],
   "source": [
    "%%time\n",
    "row_name = 'NPI'\n",
    "col_name = 'HCPCS_CODE'\n",
    "measure = 'AVERAGE_SUBMITTED_CHRG_AMT'\n",
    "# filters: averages are calculated by NPI, HCPCS_CODE and PLACE_OF_SERVICE\n",
    "# so need to fix PLACE_OF_SERVICE to not be forced to average averages.\n",
    "# The rest of the filters are up to you.\n",
    "filters = (df.PLACE_OF_SERVICE == 'F')\n",
    "filters &= (df.NPPES_ENTITY_CODE == 'O')\n",
    "filters &= (df.NPPES_PROVIDER_COUNTRY == 'US')\n",
    "# data = df[filters][[row_name, col_name, measure]].dropna().set_index([row_name, col_name])\n",
    "data = df[filters].dropna(subset=[measure]).groupby([row_name, col_name])[measure].max()\n",
    "idx_row = data.index.names.index(row_name)\n",
    "idx_col = data.index.names.index(col_name)\n",
    "M = coo_matrix((data.values,\n",
    "                (data.index.labels[idx_row], data.index.labels[idx_col])),\n",
    "               shape=[len(data.index.levels[idx_row]), len(data.index.levels[idx_col])]).astype(float)\n",
    "print(M.shape)"
   ]
  },
  {
   "cell_type": "code",
   "execution_count": 5,
   "metadata": {
    "collapsed": false
   },
   "outputs": [],
   "source": [
    "m = 10000\n",
    "n = 1000\n",
    "k = 100\n",
    "A0 = np.random.randn(m, k)\n",
    "A1 = np.random.randn(k, n)\n",
    "A = A0.dot(A1)"
   ]
  },
  {
   "cell_type": "code",
   "execution_count": 6,
   "metadata": {
    "collapsed": false
   },
   "outputs": [],
   "source": [
    "def generalized_admm(A, q=1, r=100, max_iter = 1000, eps = 0.01, oversampling = 10, \n",
    "                     oversampling_factor = 10, algo='algo42',random_state=None):\n",
    "    \n",
    "    m, n = A.shape\n",
    "    L, R = compression_algo(A, q, r, max_iter, eps, oversampling,\n",
    "                            oversampling_factor, algo)\n",
    "    r = L.shape[1]\n",
    "    np.random.seed(random_state)\n",
    "    U = np.abs(np.random.randn(A.shape[0], r))\n",
    "    V = np.abs(np.random.randn(r, A.shape[1]))\n",
    "    A0 = L.T.dot(A).dot(R.T)\n",
    "    Y = V.dot(R.T)\n",
    "    #initialize parameters\n",
    "    Lam = np.zeros((m, r))\n",
    "    Phi = np.zeros((r, n))\n",
    "    I = np.eye(r)\n",
    "    lam = 1.\n",
    "    phi = 1.\n",
    "    c = 1.\n",
    "    \n",
    "    for k in range(max_iter):\n",
    "        X = solve(Y.dot(Y.T) + lam * I,\n",
    "                  Y.dot(A0.T) + (lam * U.T - Lam.T).dot(L)).T\n",
    "        Y = solve(X.dot(X.T) + phi * I,\n",
    "                  X.T.dot(A0) + phi * V.dot(R.T) - Phi.dot(R.T))\n",
    "        U = L.dot(X) + Lam / lam\n",
    "        U[U < 0] = 0\n",
    "        V = Y.dot(R) + Phi / phi\n",
    "        V[V < 0] = 0\n",
    "        Lam = Lam + c * lam * (L.dot(X) - U)\n",
    "        Phi = Phi + c * phi * (Y.dot(R) - V)\n",
    "    return U, V\n",
    "    "
   ]
  },
  {
   "cell_type": "code",
   "execution_count": null,
   "metadata": {
    "collapsed": false
   },
   "outputs": [],
   "source": [
    "%%time\n",
    "U, V = generalized_admm(np.array(M.todense()), q=1, r=50, max_iter = 5, eps = 0.00001, oversampling = 10, \n",
    "                     oversampling_factor = 10, algo='algo46',random_state=2)"
   ]
  },
  {
   "cell_type": "code",
   "execution_count": null,
   "metadata": {
    "collapsed": false
   },
   "outputs": [],
   "source": [
    "rel_error(M.todense(), U.dot(V))"
   ]
  },
  {
   "cell_type": "code",
   "execution_count": 9,
   "metadata": {
    "collapsed": false
   },
   "outputs": [
    {
     "data": {
      "text/plain": [
       "(14822, 50)"
      ]
     },
     "execution_count": 9,
     "metadata": {},
     "output_type": "execute_result"
    }
   ],
   "source": [
    "U.shape"
   ]
  },
  {
   "cell_type": "code",
   "execution_count": 11,
   "metadata": {
    "collapsed": false
   },
   "outputs": [
    {
     "data": {
      "text/plain": [
       "(1114, 1376)"
      ]
     },
     "execution_count": 11,
     "metadata": {},
     "output_type": "execute_result"
    }
   ],
   "source": [
    "V.shape"
   ]
  },
  {
   "cell_type": "code",
   "execution_count": 12,
   "metadata": {
    "collapsed": false
   },
   "outputs": [
    {
     "data": {
      "text/plain": [
       "(14822, 1376)"
      ]
     },
     "execution_count": 12,
     "metadata": {},
     "output_type": "execute_result"
    }
   ],
   "source": [
    "U.dot(V).shape"
   ]
  },
  {
   "cell_type": "code",
   "execution_count": 13,
   "metadata": {
    "collapsed": false
   },
   "outputs": [
    {
     "data": {
      "text/plain": [
       "(10000, 1000)"
      ]
     },
     "execution_count": 13,
     "metadata": {},
     "output_type": "execute_result"
    }
   ],
   "source": [
    "A.shape"
   ]
  },
  {
   "cell_type": "code",
   "execution_count": 14,
   "metadata": {
    "collapsed": false
   },
   "outputs": [
    {
     "data": {
      "text/plain": [
       "(array([   0,    0,    0, ..., 1113, 1113, 1113]),\n",
       " array([   0,    1,    2, ..., 1373, 1374, 1375]))"
      ]
     },
     "execution_count": 14,
     "metadata": {},
     "output_type": "execute_result"
    }
   ],
   "source": [
    "np.where(V > 0)"
   ]
  },
  {
   "cell_type": "code",
   "execution_count": 16,
   "metadata": {
    "collapsed": false
   },
   "outputs": [
    {
     "data": {
      "text/plain": [
       "(array([    0,     0,     0, ..., 14821, 14821, 14821]),\n",
       " array([   1,    3,    6, ..., 1068, 1092, 1102]))"
      ]
     },
     "execution_count": 16,
     "metadata": {},
     "output_type": "execute_result"
    }
   ],
   "source": [
    "np.where(U > 0)"
   ]
  },
  {
   "cell_type": "code",
   "execution_count": null,
   "metadata": {
    "collapsed": true
   },
   "outputs": [],
   "source": []
  },
  {
   "cell_type": "code",
   "execution_count": null,
   "metadata": {
    "collapsed": true
   },
   "outputs": [],
   "source": []
  }
 ],
 "metadata": {
  "kernelspec": {
   "display_name": "IPython (Python 3)",
   "language": "python",
   "name": "python3"
  },
  "language_info": {
   "codemirror_mode": {
    "name": "ipython",
    "version": 3
   },
   "file_extension": ".py",
   "mimetype": "text/x-python",
   "name": "python",
   "nbconvert_exporter": "python",
   "pygments_lexer": "ipython3",
   "version": "3.5.1"
  }
 },
 "nbformat": 4,
 "nbformat_minor": 0
}
