{
 "cells": [
  {
   "cell_type": "code",
   "execution_count": 3,
   "metadata": {
    "collapsed": false
   },
   "outputs": [],
   "source": [
    "import numpy as np\n",
    "import pandas as pd\n",
    "import matplotlib.pyplot as plt\n",
    "from scipy.sparse import coo_matrix, issparse\n",
    "from scipy.sparse.linalg import norm as spnorm\n",
    "from ntf_cython.nmf import NMF as NMF_BPP\n",
    "from ntf_cython.nmf import bpp\n",
    "from ntf_cython.random import algo42\n",
    "import scipy.optimize as optimize\n",
    "from sklearn.decomposition.nmf import _initialize_nmf\n",
    "import pickle\n",
    "import sklearn\n",
    "from scipy import sparse\n",
    "from savvy_factorize.compression import algo41, algo43, algo45, algo46, structured_compression, count_gauss\n",
    "from savvy_factorize.selection import xray, SPA\n",
    "from ntf_cython.random import rel_error\n",
    "\n",
    "%matplotlib inline"
   ]
  },
  {
   "cell_type": "code",
   "execution_count": 4,
   "metadata": {
    "collapsed": false
   },
   "outputs": [
    {
     "name": "stderr",
     "output_type": "stream",
     "text": [
      "<string>:2: DtypeWarning: Columns (10) have mixed types. Specify dtype option on import or set low_memory=False.\n"
     ]
    },
    {
     "name": "stdout",
     "output_type": "stream",
     "text": [
      "CPU times: user 51.6 s, sys: 11.9 s, total: 1min 3s\n",
      "Wall time: 1min 5s\n"
     ]
    }
   ],
   "source": [
    "%%time\n",
    "df = pd.read_csv('/Users/user/Documents/Medicare_Provider_Util_Payment_PUF_CY2013/Medicare_Provider_Util_Payment_PUF_CY2013.txt', sep= '\\t')"
   ]
  },
  {
   "cell_type": "code",
   "execution_count": 5,
   "metadata": {
    "collapsed": false
   },
   "outputs": [
    {
     "data": {
      "text/plain": [
       "(9287876, 28)"
      ]
     },
     "execution_count": 5,
     "metadata": {},
     "output_type": "execute_result"
    }
   ],
   "source": [
    "#Clean up first row of the data\n",
    "df = df[1:]\n",
    "np.shape(df)"
   ]
  },
  {
   "cell_type": "code",
   "execution_count": 6,
   "metadata": {
    "collapsed": false
   },
   "outputs": [
    {
     "name": "stdout",
     "output_type": "stream",
     "text": [
      "(14822, 1376)\n",
      "CPU times: user 2.31 s, sys: 780 ms, total: 3.09 s\n",
      "Wall time: 3.09 s\n"
     ]
    }
   ],
   "source": [
    "%%time\n",
    "row_name = 'NPI'\n",
    "col_name = 'HCPCS_CODE'\n",
    "measure = 'AVERAGE_SUBMITTED_CHRG_AMT'\n",
    "# filters: averages are calculated by NPI, HCPCS_CODE and PLACE_OF_SERVICE\n",
    "# so need to fix PLACE_OF_SERVICE to not be forced to average averages.\n",
    "# The rest of the filters are up to you.\n",
    "filters = (df.PLACE_OF_SERVICE == 'F')\n",
    "filters &= (df.NPPES_ENTITY_CODE == 'O')\n",
    "filters &= (df.NPPES_PROVIDER_COUNTRY == 'US')\n",
    "# data = df[filters][[row_name, col_name, measure]].dropna().set_index([row_name, col_name])\n",
    "data = df[filters].dropna(subset=[measure]).groupby([row_name, col_name])[measure].max()\n",
    "idx_row = data.index.names.index(row_name)\n",
    "idx_col = data.index.names.index(col_name)\n",
    "M = coo_matrix((data.values,\n",
    "                (data.index.labels[idx_row], data.index.labels[idx_col])),\n",
    "               shape=[len(data.index.levels[idx_row]), len(data.index.levels[idx_col])]).astype(float)\n",
    "print(M.shape)"
   ]
  },
  {
   "cell_type": "markdown",
   "metadata": {},
   "source": [
    "# SEPARABLE NMF"
   ]
  },
  {
   "cell_type": "code",
   "execution_count": 7,
   "metadata": {
    "collapsed": true
   },
   "outputs": [],
   "source": [
    "def sep_nmf(A, q=1, r=50, max_iter = 1, eps = 0.01, oversampling = 10, \n",
    "                     oversampling_factor = 10, algo='algo42', run_iter=5):\n",
    "    \n",
    "\n",
    "    #H = np.abs(np.random.randn(r, A.shape[1]))\n",
    "    LA = compression_algo(A, r=r, algo=algo)[0]\n",
    "\n",
    "    A_ = LA.T.dot(A)\n",
    "\n",
    "    #check for relative error for the left projected matrix\n",
    "    QA, RA = np.linalg.qr(A_)\n",
    "    QRA = LA.dot(QA).dot(RA)\n",
    "    print(rel_error(A, QRA))\n",
    "\n",
    "    #print(A.shape)\n",
    "    cols = xray(A_, r)\n",
    "    #print(A[:,cols].shape)\n",
    "    H = bpp(A_[:,cols], A_)\n",
    "    #print(H.shape)\n",
    "    W = A[:,cols]\n",
    "    \n",
    "    print(\"Here's the relative error\")\n",
    "    print(rel_error(A, W.dot(H)))\n",
    "        \n",
    "    return W,H"
   ]
  },
  {
   "cell_type": "code",
   "execution_count": 6,
   "metadata": {
    "collapsed": false
   },
   "outputs": [
    {
     "name": "stdout",
     "output_type": "stream",
     "text": [
      "1.00336403976e-14\n",
      "Here's the relative error\n",
      "0.797524013023\n",
      "CPU times: user 3min 13s, sys: 48.9 s, total: 4min 2s\n",
      "Wall time: 2min 22s\n"
     ]
    }
   ],
   "source": [
    "%%time\n",
    "W, H = sep_nmf(np.array(M.todense()))"
   ]
  },
  {
   "cell_type": "markdown",
   "metadata": {},
   "source": [
    "# RANDOMIZED PROJECTED BPP"
   ]
  },
  {
   "cell_type": "code",
   "execution_count": 8,
   "metadata": {
    "collapsed": true
   },
   "outputs": [],
   "source": [
    "import numpy as np\n",
    "from ntf_cython.random import algo42, algo44\n",
    "from savvy_factorize.compression import algo41, algo43, algo45\n",
    "from savvy_factorize.compression import algo46, structured_compression\n",
    "from savvy_factorize.compression import count_gauss\n",
    "from savvy_factorize.selection import xray, SPA\n",
    "from ntf_cython.nmf import bpp\n",
    "from numpy.linalg import solve\n",
    "\n",
    "\n",
    "def compression_left(A, algo=None, q=1, r=100, eps=0.01, oversampling=10,\n",
    "                     oversampling_factor=10):\n",
    "    \"\"\"\n",
    "    Compute the projection matrix with orthonormal columns\n",
    "\n",
    "    Parameters\n",
    "    ----------\n",
    "    A: numpy.array\n",
    "       Input data\n",
    "    q: integer, default: 1\n",
    "       Exponent used in algo43 and algo44\n",
    "    r: integer, default: 100\n",
    "       Target rank\n",
    "    eps: double, default:0.01\n",
    "       Tolerance value used in algo42\n",
    "    oversampling: integer, default: 10\n",
    "       A parameter granting more freedom in the choice of Q\n",
    "       used in structured_compression algorithm\n",
    "    oversampling_factor: integer, default:10\n",
    "       A parameter used in count_gauss compression algorithm\n",
    "    algo: compression algorithm used\n",
    "    \"\"\"\n",
    "    if algo == 'algo41':\n",
    "        L = algo41(A, r)\n",
    "    elif algo == 'algo42':\n",
    "        L = algo42(A, eps, r)\n",
    "    elif algo == 'algo43':\n",
    "        L = algo43(A, q, r)\n",
    "    elif algo == 'algo44':\n",
    "        L = algo44(A, q, r)\n",
    "    elif algo == 'algo45':\n",
    "        L = algo45(A, r)\n",
    "    elif algo == 'algo46':\n",
    "        L = algo46(A, r)\n",
    "    elif algo == 'structured_compression':\n",
    "        L = structured_compression(A, q, r, oversampling)\n",
    "    elif algo == 'count_gaussian':\n",
    "        L, Z = count_gauss(A, r, oversampling_factor)\n",
    "    else:\n",
    "        L, _ = np.linalg.qr(A)\n",
    "\n",
    "    return L\n",
    "\n",
    "\n",
    "def compression_right(A, algo=None, q=1, r=100, eps=0.01, oversampling=10,\n",
    "                      oversampling_factor=10):\n",
    "    \"\"\"\n",
    "    Compute the projection matrix with orthonormal columns\n",
    "\n",
    "    Parameters\n",
    "    ----------\n",
    "    A: numpy.array\n",
    "       Input data\n",
    "    q: integer, default: 1\n",
    "       Exponent used in algo43 and algo44\n",
    "    r: integer, default: 100\n",
    "       Target rank\n",
    "    eps: double, default:0.01\n",
    "       Tolerance value used in algo42\n",
    "    oversampling: integer, default: 10\n",
    "       A parameter granting more freedom in the choice of Q\n",
    "       used in structured_compression algorithm\n",
    "    oversampling_factor: integer, default:10\n",
    "       A parameter used in count_gauss compression algorithm\n",
    "    algo: compression algorithm used\n",
    "    \"\"\"\n",
    "    if algo == 'algo41':\n",
    "        R = algo41(A.T, r).T\n",
    "    elif algo == 'algo42':\n",
    "        R = algo42(A.T, eps, r).T\n",
    "    elif algo == 'algo43':\n",
    "        R = algo43(A.T, q, r).T\n",
    "    elif algo == 'algo44':\n",
    "        R = algo44(A.T, q, r).T\n",
    "    elif algo == 'algo45':\n",
    "        R = algo45(A.T, r).T\n",
    "    elif algo == 'algo46':\n",
    "        R = algo46(A.T, r).T\n",
    "    elif algo == 'structured_compression':\n",
    "        R = structured_compression(A.T, q, r, oversampling).T\n",
    "    elif algo == 'count_gaussian':\n",
    "        R, Zt = count_gauss(A, r, oversampling_factor).T\n",
    "    else:\n",
    "        R, _ = np.linalg.qr(A.T)\n",
    "\n",
    "    return R\n"
   ]
  },
  {
   "cell_type": "code",
   "execution_count": 11,
   "metadata": {
    "collapsed": false
   },
   "outputs": [],
   "source": [
    "def random_projected_sepnmf(A, q=1, r=50, max_iter = 50, eps = 0.01, oversampling = 10, \n",
    "                     oversampling_factor = 10, algo='algo42'):\n",
    "    \n",
    "    #H = np.abs(np.random.randn(r, A.shape[1]))\n",
    "    L = compression_left(A, r=r, algo=algo)\n",
    "    R = compression_right(A, r=r, algo=algo)\n",
    "    A_ = L.T.dot(A)\n",
    "\n",
    "\n",
    "    #print(A.shape)\n",
    "    cols = xray(A_, r)\n",
    "    #print(A[:,cols].shape)\n",
    "    H = bpp(A_[:,cols], A_)\n",
    "    #print(H.shape)\n",
    "    W = A[:,cols]\n",
    "\n",
    "    for _ in range(max_iter):\n",
    "        H = bpp(LA.T.dot(W), LA.T.dot(A), H>0)\n",
    "        W = bpp(RA2.dot(H.T), RA2.dot(A.T), W.T>0).T\n",
    "        print(\"Here's the relative error\")\n",
    "        print(rel_error(A, W.dot(H)))\n",
    "        \n",
    "    return W,H"
   ]
  },
  {
   "cell_type": "code",
   "execution_count": 14,
   "metadata": {
    "collapsed": false
   },
   "outputs": [
    {
     "name": "stderr",
     "output_type": "stream",
     "text": [
      "/Users/user/anaconda3/envs/savvy-factorize/lib/python3.5/site-packages/ntf_cython/nmf.py:196: ConvergenceWarning: Maximum number of iteration 125 reached. Increase it to improve convergence.\n",
      "  ConvergenceWarning)\n",
      "/Users/user/anaconda3/envs/savvy-factorize/lib/python3.5/site-packages/ntf_cython/nmf.py:196: ConvergenceWarning: Maximum number of iteration 135 reached. Increase it to improve convergence.\n",
      "  ConvergenceWarning)\n",
      "/Users/user/anaconda3/envs/savvy-factorize/lib/python3.5/site-packages/ntf_cython/nmf.py:196: ConvergenceWarning: Maximum number of iteration 140 reached. Increase it to improve convergence.\n",
      "  ConvergenceWarning)\n",
      "/Users/user/anaconda3/envs/savvy-factorize/lib/python3.5/site-packages/ntf_cython/nmf.py:196: ConvergenceWarning: Maximum number of iteration 145 reached. Increase it to improve convergence.\n",
      "  ConvergenceWarning)\n",
      "/Users/user/anaconda3/envs/savvy-factorize/lib/python3.5/site-packages/ntf_cython/nmf.py:196: ConvergenceWarning: Maximum number of iteration 155 reached. Increase it to improve convergence.\n",
      "  ConvergenceWarning)\n",
      "/Users/user/anaconda3/envs/savvy-factorize/lib/python3.5/site-packages/ntf_cython/nmf.py:196: ConvergenceWarning: Maximum number of iteration 160 reached. Increase it to improve convergence.\n",
      "  ConvergenceWarning)\n",
      "/Users/user/anaconda3/envs/savvy-factorize/lib/python3.5/site-packages/ntf_cython/nmf.py:196: ConvergenceWarning: Maximum number of iteration 165 reached. Increase it to improve convergence.\n",
      "  ConvergenceWarning)\n",
      "/Users/user/anaconda3/envs/savvy-factorize/lib/python3.5/site-packages/ntf_cython/nmf.py:196: ConvergenceWarning: Maximum number of iteration 170 reached. Increase it to improve convergence.\n",
      "  ConvergenceWarning)\n",
      "/Users/user/anaconda3/envs/savvy-factorize/lib/python3.5/site-packages/ntf_cython/nmf.py:196: ConvergenceWarning: Maximum number of iteration 175 reached. Increase it to improve convergence.\n",
      "  ConvergenceWarning)\n",
      "/Users/user/anaconda3/envs/savvy-factorize/lib/python3.5/site-packages/ntf_cython/nmf.py:196: ConvergenceWarning: Maximum number of iteration 180 reached. Increase it to improve convergence.\n",
      "  ConvergenceWarning)\n",
      "/Users/user/anaconda3/envs/savvy-factorize/lib/python3.5/site-packages/ntf_cython/nmf.py:196: ConvergenceWarning: Maximum number of iteration 185 reached. Increase it to improve convergence.\n",
      "  ConvergenceWarning)\n",
      "/Users/user/anaconda3/envs/savvy-factorize/lib/python3.5/site-packages/ntf_cython/nmf.py:196: ConvergenceWarning: Maximum number of iteration 190 reached. Increase it to improve convergence.\n",
      "  ConvergenceWarning)\n",
      "/Users/user/anaconda3/envs/savvy-factorize/lib/python3.5/site-packages/ntf_cython/nmf.py:196: ConvergenceWarning: Maximum number of iteration 195 reached. Increase it to improve convergence.\n",
      "  ConvergenceWarning)\n",
      "/Users/user/anaconda3/envs/savvy-factorize/lib/python3.5/site-packages/ntf_cython/nmf.py:196: ConvergenceWarning: Maximum number of iteration 200 reached. Increase it to improve convergence.\n",
      "  ConvergenceWarning)\n",
      "/Users/user/anaconda3/envs/savvy-factorize/lib/python3.5/site-packages/ntf_cython/nmf.py:196: ConvergenceWarning: Maximum number of iteration 205 reached. Increase it to improve convergence.\n",
      "  ConvergenceWarning)\n",
      "/Users/user/anaconda3/envs/savvy-factorize/lib/python3.5/site-packages/ntf_cython/nmf.py:196: ConvergenceWarning: Maximum number of iteration 210 reached. Increase it to improve convergence.\n",
      "  ConvergenceWarning)\n",
      "/Users/user/anaconda3/envs/savvy-factorize/lib/python3.5/site-packages/ntf_cython/nmf.py:196: ConvergenceWarning: Maximum number of iteration 215 reached. Increase it to improve convergence.\n",
      "  ConvergenceWarning)\n",
      "/Users/user/anaconda3/envs/savvy-factorize/lib/python3.5/site-packages/ntf_cython/nmf.py:196: ConvergenceWarning: Maximum number of iteration 220 reached. Increase it to improve convergence.\n",
      "  ConvergenceWarning)\n",
      "/Users/user/anaconda3/envs/savvy-factorize/lib/python3.5/site-packages/ntf_cython/nmf.py:196: ConvergenceWarning: Maximum number of iteration 225 reached. Increase it to improve convergence.\n",
      "  ConvergenceWarning)\n",
      "/Users/user/anaconda3/envs/savvy-factorize/lib/python3.5/site-packages/ntf_cython/nmf.py:196: ConvergenceWarning: Maximum number of iteration 230 reached. Increase it to improve convergence.\n",
      "  ConvergenceWarning)\n",
      "/Users/user/anaconda3/envs/savvy-factorize/lib/python3.5/site-packages/ntf_cython/nmf.py:196: ConvergenceWarning: Maximum number of iteration 235 reached. Increase it to improve convergence.\n",
      "  ConvergenceWarning)\n",
      "/Users/user/anaconda3/envs/savvy-factorize/lib/python3.5/site-packages/ntf_cython/nmf.py:196: ConvergenceWarning: Maximum number of iteration 240 reached. Increase it to improve convergence.\n",
      "  ConvergenceWarning)\n",
      "/Users/user/anaconda3/envs/savvy-factorize/lib/python3.5/site-packages/ntf_cython/nmf.py:196: ConvergenceWarning: Maximum number of iteration 245 reached. Increase it to improve convergence.\n",
      "  ConvergenceWarning)\n",
      "/Users/user/anaconda3/envs/savvy-factorize/lib/python3.5/site-packages/ntf_cython/nmf.py:196: ConvergenceWarning: Maximum number of iteration 250 reached. Increase it to improve convergence.\n",
      "  ConvergenceWarning)\n"
     ]
    },
    {
     "ename": "NameError",
     "evalue": "name 'LA' is not defined",
     "output_type": "error",
     "traceback": [
      "\u001b[0;31m---------------------------------------------------------------------------\u001b[0m",
      "\u001b[0;31mNameError\u001b[0m                                 Traceback (most recent call last)",
      "\u001b[0;32m<ipython-input-14-f7408387d9b9>\u001b[0m in \u001b[0;36m<module>\u001b[0;34m()\u001b[0m\n\u001b[0;32m----> 1\u001b[0;31m \u001b[0mget_ipython\u001b[0m\u001b[0;34m(\u001b[0m\u001b[0;34m)\u001b[0m\u001b[0;34m.\u001b[0m\u001b[0mrun_cell_magic\u001b[0m\u001b[0;34m(\u001b[0m\u001b[0;34m'time'\u001b[0m\u001b[0;34m,\u001b[0m \u001b[0;34m''\u001b[0m\u001b[0;34m,\u001b[0m \u001b[0;34m\"W, H = random_projected_sepnmf(np.array(M.todense()),algo='algo41')\"\u001b[0m\u001b[0;34m)\u001b[0m\u001b[0;34m\u001b[0m\u001b[0m\n\u001b[0m",
      "\u001b[0;32m/Users/user/anaconda3/envs/savvy-factorize/lib/python3.5/site-packages/IPython/core/interactiveshell.py\u001b[0m in \u001b[0;36mrun_cell_magic\u001b[0;34m(self, magic_name, line, cell)\u001b[0m\n\u001b[1;32m   2118\u001b[0m             \u001b[0mmagic_arg_s\u001b[0m \u001b[0;34m=\u001b[0m \u001b[0mself\u001b[0m\u001b[0;34m.\u001b[0m\u001b[0mvar_expand\u001b[0m\u001b[0;34m(\u001b[0m\u001b[0mline\u001b[0m\u001b[0;34m,\u001b[0m \u001b[0mstack_depth\u001b[0m\u001b[0;34m)\u001b[0m\u001b[0;34m\u001b[0m\u001b[0m\n\u001b[1;32m   2119\u001b[0m             \u001b[0;32mwith\u001b[0m \u001b[0mself\u001b[0m\u001b[0;34m.\u001b[0m\u001b[0mbuiltin_trap\u001b[0m\u001b[0;34m:\u001b[0m\u001b[0;34m\u001b[0m\u001b[0m\n\u001b[0;32m-> 2120\u001b[0;31m                 \u001b[0mresult\u001b[0m \u001b[0;34m=\u001b[0m \u001b[0mfn\u001b[0m\u001b[0;34m(\u001b[0m\u001b[0mmagic_arg_s\u001b[0m\u001b[0;34m,\u001b[0m \u001b[0mcell\u001b[0m\u001b[0;34m)\u001b[0m\u001b[0;34m\u001b[0m\u001b[0m\n\u001b[0m\u001b[1;32m   2121\u001b[0m             \u001b[0;32mreturn\u001b[0m \u001b[0mresult\u001b[0m\u001b[0;34m\u001b[0m\u001b[0m\n\u001b[1;32m   2122\u001b[0m \u001b[0;34m\u001b[0m\u001b[0m\n",
      "\u001b[0;32m<decorator-gen-60>\u001b[0m in \u001b[0;36mtime\u001b[0;34m(self, line, cell, local_ns)\u001b[0m\n",
      "\u001b[0;32m/Users/user/anaconda3/envs/savvy-factorize/lib/python3.5/site-packages/IPython/core/magic.py\u001b[0m in \u001b[0;36m<lambda>\u001b[0;34m(f, *a, **k)\u001b[0m\n\u001b[1;32m    191\u001b[0m     \u001b[0;31m# but it's overkill for just that one bit of state.\u001b[0m\u001b[0;34m\u001b[0m\u001b[0;34m\u001b[0m\u001b[0m\n\u001b[1;32m    192\u001b[0m     \u001b[0;32mdef\u001b[0m \u001b[0mmagic_deco\u001b[0m\u001b[0;34m(\u001b[0m\u001b[0marg\u001b[0m\u001b[0;34m)\u001b[0m\u001b[0;34m:\u001b[0m\u001b[0;34m\u001b[0m\u001b[0m\n\u001b[0;32m--> 193\u001b[0;31m         \u001b[0mcall\u001b[0m \u001b[0;34m=\u001b[0m \u001b[0;32mlambda\u001b[0m \u001b[0mf\u001b[0m\u001b[0;34m,\u001b[0m \u001b[0;34m*\u001b[0m\u001b[0ma\u001b[0m\u001b[0;34m,\u001b[0m \u001b[0;34m**\u001b[0m\u001b[0mk\u001b[0m\u001b[0;34m:\u001b[0m \u001b[0mf\u001b[0m\u001b[0;34m(\u001b[0m\u001b[0;34m*\u001b[0m\u001b[0ma\u001b[0m\u001b[0;34m,\u001b[0m \u001b[0;34m**\u001b[0m\u001b[0mk\u001b[0m\u001b[0;34m)\u001b[0m\u001b[0;34m\u001b[0m\u001b[0m\n\u001b[0m\u001b[1;32m    194\u001b[0m \u001b[0;34m\u001b[0m\u001b[0m\n\u001b[1;32m    195\u001b[0m         \u001b[0;32mif\u001b[0m \u001b[0mcallable\u001b[0m\u001b[0;34m(\u001b[0m\u001b[0marg\u001b[0m\u001b[0;34m)\u001b[0m\u001b[0;34m:\u001b[0m\u001b[0;34m\u001b[0m\u001b[0m\n",
      "\u001b[0;32m/Users/user/anaconda3/envs/savvy-factorize/lib/python3.5/site-packages/IPython/core/magics/execution.py\u001b[0m in \u001b[0;36mtime\u001b[0;34m(self, line, cell, local_ns)\u001b[0m\n\u001b[1;32m   1175\u001b[0m         \u001b[0;32melse\u001b[0m\u001b[0;34m:\u001b[0m\u001b[0;34m\u001b[0m\u001b[0m\n\u001b[1;32m   1176\u001b[0m             \u001b[0mst\u001b[0m \u001b[0;34m=\u001b[0m \u001b[0mclock2\u001b[0m\u001b[0;34m(\u001b[0m\u001b[0;34m)\u001b[0m\u001b[0;34m\u001b[0m\u001b[0m\n\u001b[0;32m-> 1177\u001b[0;31m             \u001b[0mexec\u001b[0m\u001b[0;34m(\u001b[0m\u001b[0mcode\u001b[0m\u001b[0;34m,\u001b[0m \u001b[0mglob\u001b[0m\u001b[0;34m,\u001b[0m \u001b[0mlocal_ns\u001b[0m\u001b[0;34m)\u001b[0m\u001b[0;34m\u001b[0m\u001b[0m\n\u001b[0m\u001b[1;32m   1178\u001b[0m             \u001b[0mend\u001b[0m \u001b[0;34m=\u001b[0m \u001b[0mclock2\u001b[0m\u001b[0;34m(\u001b[0m\u001b[0;34m)\u001b[0m\u001b[0;34m\u001b[0m\u001b[0m\n\u001b[1;32m   1179\u001b[0m             \u001b[0mout\u001b[0m \u001b[0;34m=\u001b[0m \u001b[0;32mNone\u001b[0m\u001b[0;34m\u001b[0m\u001b[0m\n",
      "\u001b[0;32m<timed exec>\u001b[0m in \u001b[0;36m<module>\u001b[0;34m()\u001b[0m\n",
      "\u001b[0;32m<ipython-input-11-1ad67f5ba92d>\u001b[0m in \u001b[0;36mrandom_projected_sepnmf\u001b[0;34m(A, q, r, max_iter, eps, oversampling, oversampling_factor, algo)\u001b[0m\n\u001b[1;32m     16\u001b[0m \u001b[0;34m\u001b[0m\u001b[0m\n\u001b[1;32m     17\u001b[0m     \u001b[0;32mfor\u001b[0m \u001b[0m_\u001b[0m \u001b[0;32min\u001b[0m \u001b[0mrange\u001b[0m\u001b[0;34m(\u001b[0m\u001b[0mmax_iter\u001b[0m\u001b[0;34m)\u001b[0m\u001b[0;34m:\u001b[0m\u001b[0;34m\u001b[0m\u001b[0m\n\u001b[0;32m---> 18\u001b[0;31m         \u001b[0mH\u001b[0m \u001b[0;34m=\u001b[0m \u001b[0mbpp\u001b[0m\u001b[0;34m(\u001b[0m\u001b[0mLA\u001b[0m\u001b[0;34m.\u001b[0m\u001b[0mT\u001b[0m\u001b[0;34m.\u001b[0m\u001b[0mdot\u001b[0m\u001b[0;34m(\u001b[0m\u001b[0mW\u001b[0m\u001b[0;34m)\u001b[0m\u001b[0;34m,\u001b[0m \u001b[0mLA\u001b[0m\u001b[0;34m.\u001b[0m\u001b[0mT\u001b[0m\u001b[0;34m.\u001b[0m\u001b[0mdot\u001b[0m\u001b[0;34m(\u001b[0m\u001b[0mA\u001b[0m\u001b[0;34m)\u001b[0m\u001b[0;34m,\u001b[0m \u001b[0mH\u001b[0m\u001b[0;34m>\u001b[0m\u001b[0;36m0\u001b[0m\u001b[0;34m)\u001b[0m\u001b[0;34m\u001b[0m\u001b[0m\n\u001b[0m\u001b[1;32m     19\u001b[0m         \u001b[0mW\u001b[0m \u001b[0;34m=\u001b[0m \u001b[0mbpp\u001b[0m\u001b[0;34m(\u001b[0m\u001b[0mRA2\u001b[0m\u001b[0;34m.\u001b[0m\u001b[0mdot\u001b[0m\u001b[0;34m(\u001b[0m\u001b[0mH\u001b[0m\u001b[0;34m.\u001b[0m\u001b[0mT\u001b[0m\u001b[0;34m)\u001b[0m\u001b[0;34m,\u001b[0m \u001b[0mRA2\u001b[0m\u001b[0;34m.\u001b[0m\u001b[0mdot\u001b[0m\u001b[0;34m(\u001b[0m\u001b[0mA\u001b[0m\u001b[0;34m.\u001b[0m\u001b[0mT\u001b[0m\u001b[0;34m)\u001b[0m\u001b[0;34m,\u001b[0m \u001b[0mW\u001b[0m\u001b[0;34m.\u001b[0m\u001b[0mT\u001b[0m\u001b[0;34m>\u001b[0m\u001b[0;36m0\u001b[0m\u001b[0;34m)\u001b[0m\u001b[0;34m.\u001b[0m\u001b[0mT\u001b[0m\u001b[0;34m\u001b[0m\u001b[0m\n\u001b[1;32m     20\u001b[0m         \u001b[0mprint\u001b[0m\u001b[0;34m(\u001b[0m\u001b[0;34m\"Here's the relative error\"\u001b[0m\u001b[0;34m)\u001b[0m\u001b[0;34m\u001b[0m\u001b[0m\n",
      "\u001b[0;31mNameError\u001b[0m: name 'LA' is not defined"
     ]
    }
   ],
   "source": [
    "%%time\n",
    "W, H = random_projected_sepnmf(np.array(M.todense()),algo='algo41')"
   ]
  },
  {
   "cell_type": "code",
   "execution_count": 29,
   "metadata": {
    "collapsed": false
   },
   "outputs": [],
   "source": [
    "def random_projected_bppnmf(A, q=1, r=50, max_iter = 50, eps = 0.01, oversampling = 10, \n",
    "                     oversampling_factor = 10, algo='algo42'):\n",
    "    \n",
    "    #H = np.abs(np.random.randn(r, A.shape[1]))\n",
    "    LA, RA2 = compression_algo(A, r=r, algo=algo)\n",
    "\n",
    "    W = np.random.rand(A.shape[0], r)\n",
    "    H = bpp(W, A)\n",
    "\n",
    "    for _ in range(max_iter):\n",
    "        H = bpp(LA.T.dot(W), LA.T.dot(A), H>0)\n",
    "        W = bpp(RA2.dot(H.T), RA2.dot(A.T), W.T>0).T\n",
    "        print(\"Here's the relative error\")\n",
    "        print(rel_error(A, W.dot(H)))\n",
    "        \n",
    "    return W,H"
   ]
  },
  {
   "cell_type": "code",
   "execution_count": 30,
   "metadata": {
    "collapsed": false
   },
   "outputs": [
    {
     "name": "stdout",
     "output_type": "stream",
     "text": [
      "Here's the relative error\n",
      "0.691565351465\n",
      "Here's the relative error\n",
      "0.526991553701\n",
      "Here's the relative error\n",
      "0.483356052582\n",
      "Here's the relative error\n",
      "0.465404512195\n",
      "Here's the relative error\n",
      "0.453627406344\n",
      "Here's the relative error\n",
      "0.448086638416\n",
      "Here's the relative error\n",
      "0.445599015797\n",
      "Here's the relative error\n",
      "0.44452733471\n",
      "Here's the relative error\n",
      "0.443771296576\n",
      "Here's the relative error\n",
      "0.442974199254\n",
      "Here's the relative error\n",
      "0.44225052699\n",
      "Here's the relative error\n",
      "0.44179146558\n",
      "Here's the relative error\n",
      "0.441533151703\n",
      "Here's the relative error\n",
      "0.441371781349\n",
      "Here's the relative error\n",
      "0.44126032887\n",
      "Here's the relative error\n",
      "0.441180026421\n"
     ]
    },
    {
     "name": "stderr",
     "output_type": "stream",
     "text": [
      "/Users/user/anaconda3/envs/savvy-factorize/lib/python3.5/site-packages/ntf_cython/nmf.py:196: ConvergenceWarning: Maximum number of iteration 250 reached. Increase it to improve convergence.\n",
      "  ConvergenceWarning)\n"
     ]
    },
    {
     "name": "stdout",
     "output_type": "stream",
     "text": [
      "Here's the relative error\n",
      "0.441121526309\n",
      "Here's the relative error\n",
      "0.441078188342\n",
      "Here's the relative error\n",
      "0.441045260454\n",
      "Here's the relative error\n",
      "0.441019085815\n",
      "Here's the relative error\n",
      "0.440997431285\n",
      "Here's the relative error\n",
      "0.440978682224\n",
      "Here's the relative error\n",
      "0.440963104483\n",
      "Here's the relative error\n",
      "0.440949629665\n",
      "Here's the relative error\n",
      "0.440937466448\n",
      "Here's the relative error\n",
      "0.440926322533\n",
      "Here's the relative error\n",
      "0.44091581441\n",
      "Here's the relative error\n",
      "0.440905612387\n",
      "Here's the relative error\n",
      "0.44089547133\n",
      "Here's the relative error\n",
      "0.440885189455\n",
      "Here's the relative error\n",
      "0.440874550331\n",
      "Here's the relative error\n",
      "0.440863339313\n",
      "Here's the relative error\n",
      "0.440851234712\n",
      "Here's the relative error\n",
      "0.440837942175\n",
      "Here's the relative error\n",
      "0.440823158615\n",
      "Here's the relative error\n",
      "0.440806197567\n",
      "Here's the relative error\n",
      "0.440786515221\n",
      "Here's the relative error\n",
      "0.440763969835\n",
      "Here's the relative error\n",
      "0.440738760273\n",
      "Here's the relative error\n",
      "0.440711117315\n",
      "Here's the relative error\n",
      "0.440680963347\n",
      "Here's the relative error\n",
      "0.440649507668\n",
      "Here's the relative error\n",
      "0.440618522085\n",
      "Here's the relative error\n",
      "0.440589746214\n",
      "Here's the relative error\n",
      "0.440565052141\n",
      "Here's the relative error\n",
      "0.440545613718\n",
      "Here's the relative error\n",
      "0.440531297296\n",
      "Here's the relative error\n",
      "0.440521328028\n",
      "Here's the relative error\n",
      "0.440514745786\n",
      "Here's the relative error\n",
      "0.440510600275\n",
      "CPU times: user 6min 6s, sys: 50.7 s, total: 6min 57s\n",
      "Wall time: 3min 36s\n"
     ]
    }
   ],
   "source": [
    "%%time\n",
    "W, H = random_projected_bppnmf(np.array(M.todense()))"
   ]
  },
  {
   "cell_type": "code",
   "execution_count": null,
   "metadata": {
    "collapsed": true
   },
   "outputs": [],
   "source": []
  }
 ],
 "metadata": {
  "anaconda-cloud": {},
  "kernelspec": {
   "display_name": "Python [default]",
   "language": "python",
   "name": "python3"
  },
  "language_info": {
   "codemirror_mode": {
    "name": "ipython",
    "version": 3
   },
   "file_extension": ".py",
   "mimetype": "text/x-python",
   "name": "python",
   "nbconvert_exporter": "python",
   "pygments_lexer": "ipython3",
   "version": "3.5.2"
  }
 },
 "nbformat": 4,
 "nbformat_minor": 0
}
