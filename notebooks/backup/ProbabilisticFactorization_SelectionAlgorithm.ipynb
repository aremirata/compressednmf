{
 "cells": [
  {
   "cell_type": "code",
   "execution_count": 1,
   "metadata": {
    "collapsed": true
   },
   "outputs": [],
   "source": [
    "import numpy as np\n",
    "import scipy.sparse as sps\n",
    "from ntf_cython.nmf import bpp as bpp\n",
    "\n",
    "%matplotlib inline"
   ]
  },
  {
   "cell_type": "markdown",
   "metadata": {},
   "source": [
    "## Synthetic Random Matrix"
   ]
  },
  {
   "cell_type": "code",
   "execution_count": 2,
   "metadata": {
    "collapsed": true
   },
   "outputs": [],
   "source": [
    "m = 10000\n",
    "n = 1000\n",
    "k = 100\n",
    "A0 = np.random.randn(m, k)\n",
    "A1 = np.random.randn(k, n)\n",
    "A = A0.dot(A1)"
   ]
  },
  {
   "cell_type": "code",
   "execution_count": 3,
   "metadata": {
    "collapsed": true
   },
   "outputs": [],
   "source": [
    "def compute_norm(A, p=None, axis=None):\n",
    "    \n",
    "    if sps.issparse(A):\n",
    "        return sps.linalg.norm(A, ord=p, axis=axis)\n",
    "    else:\n",
    "        return np.linalg.norm(A, ord=p, axis=axis)"
   ]
  },
  {
   "cell_type": "code",
   "execution_count": 4,
   "metadata": {
    "collapsed": true
   },
   "outputs": [],
   "source": [
    "def xray(A, r):\n",
    "    \n",
    "    cols= []\n",
    "    R = A\n",
    "    \n",
    "    while len(cols) < r:\n",
    "        \n",
    "        #Find an extreme ray by looping until a column has been chosen which was not previously selected\n",
    "        \n",
    "        while True:\n",
    "            p = np.random.random((1, A.shape[0]))\n",
    "            scores = compute_norm(np.dot(R.T,A), axis = 0)\n",
    "            scores = scores/(np.dot(p, A))\n",
    "            scores[0, cols] = -1\n",
    "            best_col = np.argmax(scores)\n",
    "            \n",
    "            if best_col in cols:\n",
    "                continue\n",
    "            else:\n",
    "                cols.append(best_col)\n",
    "                H = bpp(A[:, cols], A)\n",
    "                R = A - np.dot(A[:, cols], H)\n",
    "                break\n",
    "    return cols"
   ]
  },
  {
   "cell_type": "code",
   "execution_count": 5,
   "metadata": {
    "collapsed": false
   },
   "outputs": [],
   "source": [
    "def SPA(A, r):\n",
    "    \n",
    "    \"\"\"\n",
    "    Based on this paper 'https://www.ncbi.nlm.nih.gov/pmc/articles/PMC3927512/pdf/sensors-08-01321.pdf'\n",
    "    \"\"\"\n",
    "    colnorms = compute_norm(A, p=1, axis=0)\n",
    "    A = A/colnorms\n",
    "    cols = []\n",
    "    m = A.shape[0]\n",
    "    for _ in range(r):\n",
    "        col_norms = np.linalg.norm(A, axis=0)\n",
    "        col_norms[cols] = -1\n",
    "        col_idx = np.argmax(col_norms)\n",
    "        cols.append(col_idx)\n",
    "        col = np.reshape(A[:, col_idx], (m , 1))\n",
    "        A = np.dot((np.eye(m) - np.dot(col, col.T) / col_norms[col_idx]), A)\n",
    "    \n",
    "    return cols\n",
    "    "
   ]
  },
  {
   "cell_type": "code",
   "execution_count": 6,
   "metadata": {
    "collapsed": false
   },
   "outputs": [],
   "source": [
    "cols1 = SPA(A, 20)"
   ]
  },
  {
   "cell_type": "code",
   "execution_count": 17,
   "metadata": {
    "collapsed": false
   },
   "outputs": [
    {
     "data": {
      "text/plain": [
       "[413,\n",
       " 853,\n",
       " 311,\n",
       " 474,\n",
       " 123,\n",
       " 280,\n",
       " 750,\n",
       " 680,\n",
       " 636,\n",
       " 851,\n",
       " 49,\n",
       " 976,\n",
       " 880,\n",
       " 252,\n",
       " 384,\n",
       " 575,\n",
       " 902,\n",
       " 747,\n",
       " 587,\n",
       " 110]"
      ]
     },
     "execution_count": 17,
     "metadata": {},
     "output_type": "execute_result"
    }
   ],
   "source": [
    "cols1"
   ]
  },
  {
   "cell_type": "code",
   "execution_count": 18,
   "metadata": {
    "collapsed": false
   },
   "outputs": [],
   "source": [
    "cols2 = xray(A, 20)"
   ]
  },
  {
   "cell_type": "code",
   "execution_count": 19,
   "metadata": {
    "collapsed": false
   },
   "outputs": [
    {
     "data": {
      "text/plain": [
       "[353,\n",
       " 408,\n",
       " 591,\n",
       " 724,\n",
       " 315,\n",
       " 226,\n",
       " 450,\n",
       " 390,\n",
       " 336,\n",
       " 178,\n",
       " 224,\n",
       " 145,\n",
       " 910,\n",
       " 594,\n",
       " 928,\n",
       " 922,\n",
       " 787,\n",
       " 93,\n",
       " 658,\n",
       " 814]"
      ]
     },
     "execution_count": 19,
     "metadata": {},
     "output_type": "execute_result"
    }
   ],
   "source": [
    "cols2"
   ]
  },
  {
   "cell_type": "code",
   "execution_count": null,
   "metadata": {
    "collapsed": true
   },
   "outputs": [],
   "source": []
  }
 ],
 "metadata": {
  "kernelspec": {
   "display_name": "IPython (Python 3)",
   "language": "python",
   "name": "python3"
  },
  "language_info": {
   "codemirror_mode": {
    "name": "ipython",
    "version": 3
   },
   "file_extension": ".py",
   "mimetype": "text/x-python",
   "name": "python",
   "nbconvert_exporter": "python",
   "pygments_lexer": "ipython3",
   "version": "3.5.1"
  }
 },
 "nbformat": 4,
 "nbformat_minor": 0
}
