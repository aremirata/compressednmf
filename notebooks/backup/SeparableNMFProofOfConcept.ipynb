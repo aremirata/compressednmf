{
 "cells": [
  {
   "cell_type": "code",
   "execution_count": 2,
   "metadata": {
    "collapsed": false
   },
   "outputs": [],
   "source": [
    "import numpy as np\n",
    "import pandas as pd\n",
    "import matplotlib.pyplot as plt\n",
    "from scipy.sparse import coo_matrix, issparse\n",
    "from scipy.sparse.linalg import norm as spnorm\n",
    "from ntf_cython.nmf import NMF as NMF_BPP\n",
    "from ntf_cython.nmf import bpp as bpp\n",
    "from ntf_cython.random import algo42\n",
    "import scipy.optimize as optimize\n",
    "from sklearn.decomposition.nmf import _initialize_nmf\n",
    "import pickle\n",
    "import sklearn\n",
    "from scipy import sparse\n",
    "\n",
    "%matplotlib inline"
   ]
  },
  {
   "cell_type": "code",
   "execution_count": 3,
   "metadata": {
    "collapsed": false
   },
   "outputs": [
    {
     "name": "stderr",
     "output_type": "stream",
     "text": [
      "<string>:2: DtypeWarning: Columns (10) have mixed types. Specify dtype option on import or set low_memory=False.\n"
     ]
    },
    {
     "name": "stdout",
     "output_type": "stream",
     "text": [
      "CPU times: user 1min 6s, sys: 12.5 s, total: 1min 19s\n",
      "Wall time: 1min 23s\n"
     ]
    }
   ],
   "source": [
    "%%time\n",
    "df = pd.read_csv('/Users/user/Documents/Medicare_Provider_Util_Payment_PUF_CY2013/Medicare_Provider_Util_Payment_PUF_CY2013.txt', sep= '\\t')"
   ]
  },
  {
   "cell_type": "code",
   "execution_count": 4,
   "metadata": {
    "collapsed": false
   },
   "outputs": [
    {
     "data": {
      "text/plain": [
       "(9287876, 28)"
      ]
     },
     "execution_count": 4,
     "metadata": {},
     "output_type": "execute_result"
    }
   ],
   "source": [
    "#Clean up first row of the data\n",
    "df = df[1:]\n",
    "np.shape(df)"
   ]
  },
  {
   "cell_type": "code",
   "execution_count": 5,
   "metadata": {
    "collapsed": false
   },
   "outputs": [
    {
     "name": "stdout",
     "output_type": "stream",
     "text": [
      "(14822, 1376)\n",
      "CPU times: user 4.05 s, sys: 1.03 s, total: 5.08 s\n",
      "Wall time: 5.21 s\n"
     ]
    }
   ],
   "source": [
    "%%time\n",
    "row_name = 'NPI'\n",
    "col_name = 'HCPCS_CODE'\n",
    "measure = 'AVERAGE_SUBMITTED_CHRG_AMT'\n",
    "# filters: averages are calculated by NPI, HCPCS_CODE and PLACE_OF_SERVICE\n",
    "# so need to fix PLACE_OF_SERVICE to not be forced to average averages.\n",
    "# The rest of the filters are up to you.\n",
    "filters = (df.PLACE_OF_SERVICE == 'F')\n",
    "filters &= (df.NPPES_ENTITY_CODE == 'O')\n",
    "filters &= (df.NPPES_PROVIDER_COUNTRY == 'US')\n",
    "# data = df[filters][[row_name, col_name, measure]].dropna().set_index([row_name, col_name])\n",
    "data = df[filters].dropna(subset=[measure]).groupby([row_name, col_name])[measure].max()\n",
    "idx_row = data.index.names.index(row_name)\n",
    "idx_col = data.index.names.index(col_name)\n",
    "M = coo_matrix((data.values,\n",
    "                (data.index.labels[idx_row], data.index.labels[idx_col])),\n",
    "               shape=[len(data.index.levels[idx_row]), len(data.index.levels[idx_col])]).astype(float)\n",
    "print(M.shape)"
   ]
  },
  {
   "cell_type": "code",
   "execution_count": 6,
   "metadata": {
    "collapsed": true
   },
   "outputs": [],
   "source": [
    "def reconstruction_error(M, WH):\n",
    "    \"\"\"\n",
    "    This function computes the relative error of a sparse matrix. By concept, this computation is almost the same with\n",
    "    computing the reconstruction error of the factor matrices formed using python non-negative matrix factorization\n",
    "    \n",
    "    Accepts\n",
    "    -------\n",
    "    M  : array-like\n",
    "    WH : the product of the loading matrix W and the coefficient matrix H\n",
    "    \n",
    "    Returns\n",
    "    -------\n",
    "    a float-value corresponding to the reconstruction error\n",
    "    \"\"\"\n",
    "    \n",
    "    nonzero_row, nonzero_col = M.nonzero()\n",
    "    orig = M.todense()[nonzero_row, nonzero_col]\n",
    "    reconstructed = WH[nonzero_row, nonzero_col]\n",
    "    \n",
    "    return np.linalg.norm(orig - reconstructed)"
   ]
  },
  {
   "cell_type": "code",
   "execution_count": 7,
   "metadata": {
    "collapsed": false
   },
   "outputs": [],
   "source": [
    "from operator import truediv as div\n",
    "\n",
    "def NNLSFrob(X, cols):\n",
    "    \"\"\" Compute H, the coefficient matrix, by nonnegative least squares to minimize\n",
    "    the Frobenius norm.  Given the data matrix X and the columns cols, H is\n",
    "             \\arg\\min_{Y \\ge 0} \\| X - X(:, cols) H \\|_F.\n",
    "    Args:\n",
    "        X: The data matrix.\n",
    "        cols: The column indices.\n",
    "    Returns:\n",
    "        The matrix H and the relative resiual.\n",
    "    \"\"\"\n",
    "    ncols = X.shape[1]\n",
    "    H = np.zeros((len(cols), ncols))\n",
    "    for i in xrange(ncols):\n",
    "        sol, res = optimize.nnls(X[:, cols], X[:, i])\n",
    "        H[:, i] = sol\n",
    "    rel_res = np.linalg.norm(X - np.dot(X[:, cols], H), 'fro')\n",
    "    rel_res /= np.linalg.norm(X, 'fro')\n",
    "    return H, rel_res\n",
    "\n",
    "def norm_axis(X, p=None, axis=None):\n",
    "    \"\"\"\n",
    "    Compute entry-wise norms (! not induced/operator norms).\n",
    "    :param X: The input matrix.\n",
    "    :type X: :class:`scipy.sparse` of format csr, csc, coo, bsr, dok, lil, dia\n",
    "    or :class:`numpy.matrix`\n",
    "    :param p: Order of the norm.\n",
    "    :type p: `str` or `float`\n",
    "    \"\"\"\n",
    "    assert 1 in X.shape or p != 2 or axis is not None,\\\n",
    "        \"Computing entry-wise norms only.\"\n",
    "\n",
    "    n = np.linalg.norm(np.mat(X), ord=p, axis=axis)\n",
    "    if axis is None:\n",
    "        return n\n",
    "    else:\n",
    "        return np.array(n)\n",
    "    \n",
    "def elop(X, Y, op):\n",
    "    \"\"\"\n",
    "    Compute element-wise operation of matrix :param:`X` and matrix :param:`Y`.\n",
    "    :param X: First input matrix.\n",
    "    :type X: :class:`scipy.sparse` of format csr, csc, coo, bsr, dok, lil, dia\n",
    "    or :class:`numpy.matrix`\n",
    "    :param Y: Second input matrix.\n",
    "    :type Y: :class:`scipy.sparse` of format csr, csc, coo, bsr, dok, lil, dia\n",
    "    or :class:`numpy.matrix`\n",
    "    :param op: Operation to be performed.\n",
    "    :type op: `func`\n",
    "    \"\"\"\n",
    "    try:\n",
    "        zp1 = op(1, 0)\n",
    "        zp2 = op(0, 0)\n",
    "        zp = zp1 != 0 or zp2 != 0\n",
    "    except:\n",
    "        zp = 0\n",
    "\n",
    "    try:\n",
    "        X[X == 0] = np.finfo(X.dtype).eps\n",
    "        Y[Y == 0] = np.finfo(Y.dtype).eps\n",
    "    except ValueError:\n",
    "        return op(np.mat(X), np.mat(Y))\n",
    "    return op(np.mat(X), np.mat(Y))\n",
    "\n",
    "class SepNMF():\n",
    "    \n",
    "    def __init__(self, V, rank=30, n_run = 10, eps=0.005, oversampling_param = 5, n_power_iter=0,\n",
    "                 min_comp=20):\n",
    "        \n",
    "        self.rank = rank\n",
    "        self.n_run = n_run\n",
    "        self.eps = eps\n",
    "        self.oversampling_param = oversampling_param\n",
    "        self.n_power_iter = n_power_iter\n",
    "        self.min_comp = min_comp\n",
    "        self.V = V\n",
    "        \n",
    "    def qr(self):\n",
    "        \"\"\"\n",
    "        QR compression algorithm\n",
    "        \"\"\"\n",
    "        q, _ = np.linalg.qr(self.V)\n",
    "        return q.T.dot(self.V)\n",
    "\n",
    "    def algo42(self):\n",
    "\n",
    "        q = algo42(self.V, self.eps, self.rank)\n",
    "        return q.T.dot(self.V)\n",
    "\n",
    "    def count_gauss(self):\n",
    "        \"\"\"\n",
    "        Project the columns of the matrix V into the lower dimension\n",
    "        new_dim using count sketch + gaussian algorithm\n",
    "        \"\"\"\n",
    "\n",
    "        old_dim = V.shape[0]\n",
    "\n",
    "        # ksq = new_dim * new_dim\n",
    "        ksq = self.rank * self.oversampling_param  # was not converging for scree plots of damle/sun\n",
    "\n",
    "        R = np.random.randint(ksq, size=old_dim)\n",
    "        C = np.arange(old_dim)\n",
    "        D = np.random.choice([-1, 1], size=old_dim)\n",
    "        S = scipy.sparse.csr_matrix((D, (R, C)), shape=(ksq, old_dim))\n",
    "\n",
    "        G = np.random.randn(self.rank, ksq)\n",
    "        M_red = dot(G, dot(S, self.V))\n",
    "        return M_red.todense() / np.sqrt(self.rank)  \n",
    "    \n",
    "    def structured(self):\n",
    "        \"\"\"\n",
    "        Structured compression algorithm\n",
    "        \"\"\"\n",
    "        n = self.V.shape[1]\n",
    "        comp_level = min(max(self.min_comp, self.rank + self.oversampling_param), n)\n",
    "        omega = np.random.standard_normal(size=(n, comp_level))\n",
    "\n",
    "        mat_h = self.V.dot(omega)\n",
    "        for _ in range(n_power_iter):\n",
    "            mat_h = self.V.dot(self.V.T.dot(mat_h))\n",
    "        q, _ = np.linalg.qr(mat_h)\n",
    "        return q.T.dot(self.V)\n",
    "    \n",
    "    def xray(self, V):\n",
    "        \"\"\"\n",
    "        X-ray algorithm for extreme column selection in separable NMF.\n",
    "        :param V: The data matrix.\n",
    "        :type V: Instance of the :class:`scipy.sparse` sparse matrices\n",
    "        types, :class:`numpy.ndarray`, or :class:`numpy.matrix`.\n",
    "        :return: The indices of the columns chosen by X-ray.\n",
    "        :rtype: List of ints.\n",
    "        \"\"\"\n",
    "        cols = []\n",
    "        R = V\n",
    "        while len(cols) < self.rank:\n",
    "            # Loop until we choose a column that has not been selected.\n",
    "            while True:\n",
    "                p = np.random.random((1, V.shape[0]))\n",
    "                scores = norm_axis(np.dot(R.T, V), axis=0)\n",
    "                scores = elop(scores, np.dot(p, V), div)\n",
    "                scores[0, cols] = -1  # IMPORTANT\n",
    "                best_col = np.argmax(scores)\n",
    "                if best_col in cols:\n",
    "                    # Re-try\n",
    "                    continue\n",
    "                else:\n",
    "                    cols.append(best_col)\n",
    "                    H = bpp(V[:, cols], V)\n",
    "                    R = V - np.dot(V[:, cols], H)\n",
    "                    break\n",
    "        return cols\n",
    "        \n",
    "    \n",
    "    def factorize(self):\n",
    "        \n",
    "        \"\"\"\n",
    "        Compute matrix factorization.\n",
    "        Return fitted factorization model.\n",
    "        \"\"\"\n",
    "        L, _ = np.linalg.qr(self.V)\n",
    "        print(np.sum(L,0))\n",
    "        R, _ = np.linalg.qr(self.V.T)\n",
    "        print(np.sum(R,0))\n",
    "        V = self.qr()\n",
    "        print(np.sum(V,0))\n",
    "        \n",
    "        cols = self.xray(V)\n",
    "        \n",
    "        self.H = np.random.rand(self.rank, V.shape[1])\n",
    "        self.W = self.V[:, cols]\n",
    "        print(self.W.shape)\n",
    "        \n",
    "        for run in range(self.n_run):\n",
    "            \n",
    "            self.H = bpp(self.W, self.V)\n",
    "            self.W = bpp(self.H.T, self.V.T).T\n",
    "        \n",
    "        print(np.sum(self.W,0))\n",
    "        print(np.sum(self.H,0))\n",
    "        #X = L.dot(self.W)\n",
    "        #Y = self.H.dot(R)\n",
    "            \n",
    "        return self.W, self.H"
   ]
  },
  {
   "cell_type": "code",
   "execution_count": 8,
   "metadata": {
    "collapsed": false
   },
   "outputs": [],
   "source": [
    "sepnmf = SepNMF(rank=30, V = M.todense(), n_run = 1, eps=0.005, oversampling_param = 5, n_power_iter=3,\n",
    "                 min_comp=20)"
   ]
  },
  {
   "cell_type": "code",
   "execution_count": 9,
   "metadata": {
    "collapsed": false
   },
   "outputs": [
    {
     "name": "stdout",
     "output_type": "stream",
     "text": [
      "[[-8.88137526 -6.97621789 -1.         ...,  0.44835246  0.63695633\n",
      "   2.83767204]]\n",
      "[[-2.78226727 -2.44487543 -0.18815881 ..., -0.24159281  0.92704619 -1.        ]]\n",
      "[[ -55688.91343987  -58860.15502865   -2953.3333333  ...,   -4833.56240869\n",
      "    -2316.46906498 -142404.84673096]]\n",
      "(14822, 30)\n",
      "[ 0.  0.  0.  0.  0.  0.  0.  0.  0.  0.  0.  0.  0.  0.  0.  0.  0.  0.\n",
      "  0.  0.  0.  0.  0.  0.  0.  0.  0.  0.  0.  0.]\n",
      "[ 1.57771163  0.          0.         ...,  0.          0.          0.        ]\n"
     ]
    }
   ],
   "source": [
    "X, Y = sepnmf.factorize()"
   ]
  },
  {
   "cell_type": "code",
   "execution_count": 13,
   "metadata": {
    "collapsed": false
   },
   "outputs": [
    {
     "data": {
      "text/plain": [
       "(array([], dtype=int64), array([], dtype=int64))"
      ]
     },
     "execution_count": 13,
     "metadata": {},
     "output_type": "execute_result"
    }
   ],
   "source": [
    "np.where(X > 0)"
   ]
  },
  {
   "cell_type": "code",
   "execution_count": 14,
   "metadata": {
    "collapsed": false
   },
   "outputs": [
    {
     "data": {
      "text/plain": [
       "(array([ 7,  8,  9, 10, 18, 24]), array([0, 0, 0, 0, 0, 0]))"
      ]
     },
     "execution_count": 14,
     "metadata": {},
     "output_type": "execute_result"
    }
   ],
   "source": [
    "np.where(Y > 0)"
   ]
  },
  {
   "cell_type": "code",
   "execution_count": 15,
   "metadata": {
    "collapsed": false
   },
   "outputs": [
    {
     "data": {
      "text/plain": [
       "array([[ 0.,  0.,  0., ...,  0.,  0.,  0.],\n",
       "       [ 0.,  0.,  0., ...,  0.,  0.,  0.],\n",
       "       [ 0.,  0.,  0., ...,  0.,  0.,  0.],\n",
       "       ..., \n",
       "       [ 0.,  0.,  0., ...,  0.,  0.,  0.],\n",
       "       [ 0.,  0.,  0., ...,  0.,  0.,  0.],\n",
       "       [ 0.,  0.,  0., ...,  0.,  0.,  0.]])"
      ]
     },
     "execution_count": 15,
     "metadata": {},
     "output_type": "execute_result"
    }
   ],
   "source": [
    "X"
   ]
  },
  {
   "cell_type": "code",
   "execution_count": 11,
   "metadata": {
    "collapsed": true
   },
   "outputs": [],
   "source": [
    "XY = X.dot(Y)"
   ]
  },
  {
   "cell_type": "code",
   "execution_count": 12,
   "metadata": {
    "collapsed": false
   },
   "outputs": [
    {
     "data": {
      "text/plain": [
       "1.0"
      ]
     },
     "execution_count": 12,
     "metadata": {},
     "output_type": "execute_result"
    }
   ],
   "source": [
    "np.linalg.norm(M.todense() - XY)/np.linalg.norm(M.todense())"
   ]
  },
  {
   "cell_type": "code",
   "execution_count": 13,
   "metadata": {
    "collapsed": false
   },
   "outputs": [
    {
     "data": {
      "text/plain": [
       "1228035.0817721039"
      ]
     },
     "execution_count": 13,
     "metadata": {},
     "output_type": "execute_result"
    }
   ],
   "source": [
    "np.linalg.norm(M.todense() - XY)"
   ]
  },
  {
   "cell_type": "code",
   "execution_count": 14,
   "metadata": {
    "collapsed": false
   },
   "outputs": [
    {
     "data": {
      "text/plain": [
       "1228035.0817721039"
      ]
     },
     "execution_count": 14,
     "metadata": {},
     "output_type": "execute_result"
    }
   ],
   "source": [
    "np.linalg.norm(M.todense())"
   ]
  },
  {
   "cell_type": "code",
   "execution_count": 15,
   "metadata": {
    "collapsed": false
   },
   "outputs": [
    {
     "data": {
      "text/plain": [
       "array([ 0.,  0.,  0.,  0.,  0.,  0.,  0.,  0.,  0.,  0.,  0.,  0.,  0.,\n",
       "        0.,  0.,  0.,  0.,  0.,  0.,  0.,  0.,  0.,  0.,  0.,  0.,  0.,\n",
       "        0.,  0.,  0.,  0.])"
      ]
     },
     "execution_count": 15,
     "metadata": {},
     "output_type": "execute_result"
    }
   ],
   "source": [
    "X.sum(0)"
   ]
  },
  {
   "cell_type": "code",
   "execution_count": 27,
   "metadata": {
    "collapsed": false
   },
   "outputs": [
    {
     "data": {
      "text/plain": [
       "[0.70376258897610477]"
      ]
     },
     "execution_count": 27,
     "metadata": {},
     "output_type": "execute_result"
    }
   ],
   "source": [
    "list(filter(lambda x: x>0,Y.sum(0)))"
   ]
  }
 ],
 "metadata": {
  "kernelspec": {
   "display_name": "IPython (Python 3)",
   "language": "python",
   "name": "python3"
  },
  "language_info": {
   "codemirror_mode": {
    "name": "ipython",
    "version": 3
   },
   "file_extension": ".py",
   "mimetype": "text/x-python",
   "name": "python",
   "nbconvert_exporter": "python",
   "pygments_lexer": "ipython3",
   "version": "3.5.1"
  }
 },
 "nbformat": 4,
 "nbformat_minor": 0
}
