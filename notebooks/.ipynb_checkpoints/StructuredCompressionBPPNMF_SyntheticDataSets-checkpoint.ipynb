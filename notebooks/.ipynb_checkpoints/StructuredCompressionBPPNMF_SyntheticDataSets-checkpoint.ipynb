{
 "cells": [
  {
   "cell_type": "code",
   "execution_count": 1,
   "metadata": {
    "collapsed": false
   },
   "outputs": [],
   "source": [
    "import numpy as np\n",
    "import pandas as pd\n",
    "import matplotlib.pyplot as plt\n",
    "from scipy.sparse import coo_matrix, issparse\n",
    "from scipy.sparse.linalg import norm as spnorm\n",
    "import pickle\n",
    "import sklearn\n",
    "from scipy import sparse\n",
    "from ntf_cython.random import rel_error\n",
    "from nmf_compressed.compression import algo41, algo43, algo45, algo46, structured_compression, count_gauss\n",
    "from nmf_compressed.sparse_compression import algo41_sparse\n",
    "from sklearn.decomposition.nmf import _initialize_nmf\n",
    "from nmf_compressed.structured_nmf import structured_randomized_bppnmf\n",
    "from numpy.linalg import norm, solve\n",
    "from ntf_cython.nmf import nmf\n",
    "\n",
    "\n",
    "%matplotlib inline"
   ]
  },
  {
   "cell_type": "markdown",
   "metadata": {},
   "source": [
    "## Using Randomly Generated Synthetic Data"
   ]
  },
  {
   "cell_type": "code",
   "execution_count": 2,
   "metadata": {
    "collapsed": false
   },
   "outputs": [],
   "source": [
    "m = 10000\n",
    "n = 1000\n",
    "np.random.seed(0)\n",
    "A = np.abs(np.random.randn(m, n))\n",
    "r = 400"
   ]
  },
  {
   "cell_type": "markdown",
   "metadata": {},
   "source": [
    "# Dense Random Matrices "
   ]
  },
  {
   "cell_type": "markdown",
   "metadata": {},
   "source": [
    "# COMPRESSED NMF WITH ALGO 42"
   ]
  },
  {
   "cell_type": "code",
   "execution_count": 3,
   "metadata": {
    "collapsed": false
   },
   "outputs": [
    {
     "name": "stdout",
     "output_type": "stream",
     "text": [
      "The matrix is dense. We use compressed block principal pivoting method\n",
      "CPU times: user 5min 47s, sys: 1min 2s, total: 6min 49s\n",
      "Wall time: 4min 1s\n"
     ]
    }
   ],
   "source": [
    "%%time\n",
    "U, V, relative_error = structured_randomized_bppnmf(A, algo='algo42', q=10, r=r, max_iter = 1000, eps = 0.00001, oversampling = 20, \n",
    "                     oversampling_factor = 20, random_state=2)"
   ]
  },
  {
   "cell_type": "code",
   "execution_count": 4,
   "metadata": {
    "collapsed": false
   },
   "outputs": [
    {
     "data": {
      "text/plain": [
       "[<matplotlib.lines.Line2D at 0x1105a32e8>]"
      ]
     },
     "execution_count": 4,
     "metadata": {},
     "output_type": "execute_result"
    },
    {
     "data": {
      "image/png": "[encoded data removed]",
      "text/plain": [
       "<matplotlib.figure.Figure at 0x1103d2748>"
      ]
     },
     "metadata": {},
     "output_type": "display_data"
    }
   ],
   "source": [
    "plt.plot(relative_error)"
   ]
  },
  {
   "cell_type": "code",
   "execution_count": 5,
   "metadata": {
    "collapsed": false
   },
   "outputs": [
    {
     "data": {
      "text/plain": [
       "0.62515477422439136"
      ]
     },
     "execution_count": 5,
     "metadata": {},
     "output_type": "execute_result"
    }
   ],
   "source": [
    "rel_error(A, U.dot(V))"
   ]
  },
  {
   "cell_type": "markdown",
   "metadata": {},
   "source": [
    "# COMPRESSED NMF WITH ALGO 41"
   ]
  },
  {
   "cell_type": "code",
   "execution_count": 7,
   "metadata": {
    "collapsed": false
   },
   "outputs": [
    {
     "name": "stdout",
     "output_type": "stream",
     "text": [
      "The matrix is dense. We use compressed block principal pivoting method\n"
     ]
    },
    {
     "name": "stderr",
     "output_type": "stream",
     "text": [
      "/Users/user/anaconda3/envs/7mw/lib/python3.5/site-packages/sklearn/utils/deprecation.py:52: DeprecationWarning: Class ConvergenceWarning is deprecated; ConvergenceWarning has been moved into the sklearn.exceptions module. It will not be available here from version 0.19\n",
      "  warnings.warn(msg, category=DeprecationWarning)\n",
      "/Users/user/anaconda3/envs/7mw/lib/python3.5/site-packages/ntf_cython/nmf.py:196: ConvergenceWarning: Maximum number of iteration 190 reached. Increase it to improve convergence.\n",
      "  ConvergenceWarning)\n",
      "/Users/user/anaconda3/envs/7mw/lib/python3.5/site-packages/sklearn/utils/deprecation.py:52: DeprecationWarning: Class ConvergenceWarning is deprecated; ConvergenceWarning has been moved into the sklearn.exceptions module. It will not be available here from version 0.19\n",
      "  warnings.warn(msg, category=DeprecationWarning)\n",
      "/Users/user/anaconda3/envs/7mw/lib/python3.5/site-packages/ntf_cython/nmf.py:196: ConvergenceWarning: Maximum number of iteration 195 reached. Increase it to improve convergence.\n",
      "  ConvergenceWarning)\n",
      "/Users/user/anaconda3/envs/7mw/lib/python3.5/site-packages/sklearn/utils/deprecation.py:52: DeprecationWarning: Class ConvergenceWarning is deprecated; ConvergenceWarning has been moved into the sklearn.exceptions module. It will not be available here from version 0.19\n",
      "  warnings.warn(msg, category=DeprecationWarning)\n",
      "/Users/user/anaconda3/envs/7mw/lib/python3.5/site-packages/ntf_cython/nmf.py:196: ConvergenceWarning: Maximum number of iteration 200 reached. Increase it to improve convergence.\n",
      "  ConvergenceWarning)\n",
      "/Users/user/anaconda3/envs/7mw/lib/python3.5/site-packages/sklearn/utils/deprecation.py:52: DeprecationWarning: Class ConvergenceWarning is deprecated; ConvergenceWarning has been moved into the sklearn.exceptions module. It will not be available here from version 0.19\n",
      "  warnings.warn(msg, category=DeprecationWarning)\n",
      "/Users/user/anaconda3/envs/7mw/lib/python3.5/site-packages/sklearn/utils/deprecation.py:52: DeprecationWarning: Class ConvergenceWarning is deprecated; ConvergenceWarning has been moved into the sklearn.exceptions module. It will not be available here from version 0.19\n",
      "  warnings.warn(msg, category=DeprecationWarning)\n",
      "/Users/user/anaconda3/envs/7mw/lib/python3.5/site-packages/sklearn/utils/deprecation.py:52: DeprecationWarning: Class ConvergenceWarning is deprecated; ConvergenceWarning has been moved into the sklearn.exceptions module. It will not be available here from version 0.19\n",
      "  warnings.warn(msg, category=DeprecationWarning)\n",
      "/Users/user/anaconda3/envs/7mw/lib/python3.5/site-packages/sklearn/utils/deprecation.py:52: DeprecationWarning: Class ConvergenceWarning is deprecated; ConvergenceWarning has been moved into the sklearn.exceptions module. It will not be available here from version 0.19\n",
      "  warnings.warn(msg, category=DeprecationWarning)\n",
      "/Users/user/anaconda3/envs/7mw/lib/python3.5/site-packages/sklearn/utils/deprecation.py:52: DeprecationWarning: Class ConvergenceWarning is deprecated; ConvergenceWarning has been moved into the sklearn.exceptions module. It will not be available here from version 0.19\n",
      "  warnings.warn(msg, category=DeprecationWarning)\n"
     ]
    },
    {
     "name": "stdout",
     "output_type": "stream",
     "text": [
      "CPU times: user 47.2 s, sys: 8.26 s, total: 55.5 s\n",
      "Wall time: 34 s\n"
     ]
    }
   ],
   "source": [
    "%%time\n",
    "U, V, relative_error = structured_randomized_bppnmf(A, algo='algo41', q=20, r=r, max_iter = 200, eps = 0.00001, oversampling = 20, \n",
    "                     oversampling_factor = 20, random_state=2)"
   ]
  },
  {
   "cell_type": "code",
   "execution_count": 8,
   "metadata": {
    "collapsed": false
   },
   "outputs": [
    {
     "data": {
      "text/plain": [
       "[<matplotlib.lines.Line2D at 0x11081bdd8>]"
      ]
     },
     "execution_count": 8,
     "metadata": {},
     "output_type": "execute_result"
    },
    {
     "data": {
      "image/png": "[encoded data removed]",
      "text/plain": [
       "<matplotlib.figure.Figure at 0x1109915c0>"
      ]
     },
     "metadata": {},
     "output_type": "display_data"
    }
   ],
   "source": [
    "plt.plot(relative_error)"
   ]
  },
  {
   "cell_type": "markdown",
   "metadata": {},
   "source": [
    "# COMPRESSED BPP WITH QR"
   ]
  },
  {
   "cell_type": "code",
   "execution_count": 9,
   "metadata": {
    "collapsed": false
   },
   "outputs": [
    {
     "name": "stdout",
     "output_type": "stream",
     "text": [
      "The matrix is dense. We use compressed block principal pivoting method\n",
      "CPU times: user 5min 48s, sys: 1min 2s, total: 6min 50s\n",
      "Wall time: 3min 53s\n"
     ]
    }
   ],
   "source": [
    "%%time\n",
    "U, V, relative_error = structured_randomized_bppnmf(A, q=10, r=r, max_iter = 1000, eps = 0.00001, oversampling = 20, \n",
    "                     oversampling_factor = 20, random_state=2)"
   ]
  },
  {
   "cell_type": "code",
   "execution_count": 10,
   "metadata": {
    "collapsed": false
   },
   "outputs": [
    {
     "data": {
      "text/plain": [
       "[<matplotlib.lines.Line2D at 0x10699fac8>]"
      ]
     },
     "execution_count": 10,
     "metadata": {},
     "output_type": "execute_result"
    },
    {
     "data": {
      "image/png": "[encoded data removed]",
      "text/plain": [
       "<matplotlib.figure.Figure at 0x1105b9550>"
      ]
     },
     "metadata": {},
     "output_type": "display_data"
    }
   ],
   "source": [
    "plt.plot(relative_error)"
   ]
  },
  {
   "cell_type": "markdown",
   "metadata": {},
   "source": [
    "# COMPRESSED BPP WITH ALGO43"
   ]
  },
  {
   "cell_type": "code",
   "execution_count": 11,
   "metadata": {
    "collapsed": false
   },
   "outputs": [
    {
     "name": "stdout",
     "output_type": "stream",
     "text": [
      "The matrix is dense. We use compressed block principal pivoting method\n"
     ]
    },
    {
     "name": "stderr",
     "output_type": "stream",
     "text": [
      "/Users/user/anaconda3/envs/7mw/lib/python3.5/site-packages/sklearn/utils/deprecation.py:52: DeprecationWarning: Class ConvergenceWarning is deprecated; ConvergenceWarning has been moved into the sklearn.exceptions module. It will not be available here from version 0.19\n",
      "  warnings.warn(msg, category=DeprecationWarning)\n",
      "/Users/user/anaconda3/envs/7mw/lib/python3.5/site-packages/ntf_cython/nmf.py:196: ConvergenceWarning: Maximum number of iteration 190 reached. Increase it to improve convergence.\n",
      "  ConvergenceWarning)\n",
      "/Users/user/anaconda3/envs/7mw/lib/python3.5/site-packages/sklearn/utils/deprecation.py:52: DeprecationWarning: Class ConvergenceWarning is deprecated; ConvergenceWarning has been moved into the sklearn.exceptions module. It will not be available here from version 0.19\n",
      "  warnings.warn(msg, category=DeprecationWarning)\n",
      "/Users/user/anaconda3/envs/7mw/lib/python3.5/site-packages/ntf_cython/nmf.py:196: ConvergenceWarning: Maximum number of iteration 195 reached. Increase it to improve convergence.\n",
      "  ConvergenceWarning)\n",
      "/Users/user/anaconda3/envs/7mw/lib/python3.5/site-packages/sklearn/utils/deprecation.py:52: DeprecationWarning: Class ConvergenceWarning is deprecated; ConvergenceWarning has been moved into the sklearn.exceptions module. It will not be available here from version 0.19\n",
      "  warnings.warn(msg, category=DeprecationWarning)\n",
      "/Users/user/anaconda3/envs/7mw/lib/python3.5/site-packages/ntf_cython/nmf.py:196: ConvergenceWarning: Maximum number of iteration 200 reached. Increase it to improve convergence.\n",
      "  ConvergenceWarning)\n",
      "/Users/user/anaconda3/envs/7mw/lib/python3.5/site-packages/sklearn/utils/deprecation.py:52: DeprecationWarning: Class ConvergenceWarning is deprecated; ConvergenceWarning has been moved into the sklearn.exceptions module. It will not be available here from version 0.19\n",
      "  warnings.warn(msg, category=DeprecationWarning)\n",
      "/Users/user/anaconda3/envs/7mw/lib/python3.5/site-packages/sklearn/utils/deprecation.py:52: DeprecationWarning: Class ConvergenceWarning is deprecated; ConvergenceWarning has been moved into the sklearn.exceptions module. It will not be available here from version 0.19\n",
      "  warnings.warn(msg, category=DeprecationWarning)\n",
      "/Users/user/anaconda3/envs/7mw/lib/python3.5/site-packages/sklearn/utils/deprecation.py:52: DeprecationWarning: Class ConvergenceWarning is deprecated; ConvergenceWarning has been moved into the sklearn.exceptions module. It will not be available here from version 0.19\n",
      "  warnings.warn(msg, category=DeprecationWarning)\n",
      "/Users/user/anaconda3/envs/7mw/lib/python3.5/site-packages/sklearn/utils/deprecation.py:52: DeprecationWarning: Class ConvergenceWarning is deprecated; ConvergenceWarning has been moved into the sklearn.exceptions module. It will not be available here from version 0.19\n",
      "  warnings.warn(msg, category=DeprecationWarning)\n",
      "/Users/user/anaconda3/envs/7mw/lib/python3.5/site-packages/sklearn/utils/deprecation.py:52: DeprecationWarning: Class ConvergenceWarning is deprecated; ConvergenceWarning has been moved into the sklearn.exceptions module. It will not be available here from version 0.19\n",
      "  warnings.warn(msg, category=DeprecationWarning)\n"
     ]
    },
    {
     "name": "stdout",
     "output_type": "stream",
     "text": [
      "CPU times: user 3min 29s, sys: 38.6 s, total: 4min 8s\n",
      "Wall time: 2min 24s\n"
     ]
    }
   ],
   "source": [
    "%%time\n",
    "U, V, relative_error = structured_randomized_bppnmf(A, algo='algo43', q=10, r=r, max_iter = 1000, eps = 0.00001, oversampling = 20, \n",
    "                     oversampling_factor = 20, random_state=2)"
   ]
  },
  {
   "cell_type": "code",
   "execution_count": 12,
   "metadata": {
    "collapsed": false
   },
   "outputs": [
    {
     "data": {
      "text/plain": [
       "[<matplotlib.lines.Line2D at 0x110a00198>]"
      ]
     },
     "execution_count": 12,
     "metadata": {},
     "output_type": "execute_result"
    },
    {
     "data": {
      "image/png": "[encoded data removed]",
      "text/plain": [
       "<matplotlib.figure.Figure at 0x110583e48>"
      ]
     },
     "metadata": {},
     "output_type": "display_data"
    }
   ],
   "source": [
    "plt.plot(relative_error)"
   ]
  },
  {
   "cell_type": "markdown",
   "metadata": {},
   "source": [
    "## COMPRESSED BPP WITH ALGO44"
   ]
  },
  {
   "cell_type": "code",
   "execution_count": 13,
   "metadata": {
    "collapsed": false
   },
   "outputs": [
    {
     "name": "stdout",
     "output_type": "stream",
     "text": [
      "The matrix is dense. We use compressed block principal pivoting method\n"
     ]
    },
    {
     "name": "stderr",
     "output_type": "stream",
     "text": [
      "/Users/user/anaconda3/envs/7mw/lib/python3.5/site-packages/sklearn/utils/deprecation.py:52: DeprecationWarning: Class ConvergenceWarning is deprecated; ConvergenceWarning has been moved into the sklearn.exceptions module. It will not be available here from version 0.19\n",
      "  warnings.warn(msg, category=DeprecationWarning)\n",
      "/Users/user/anaconda3/envs/7mw/lib/python3.5/site-packages/ntf_cython/nmf.py:196: ConvergenceWarning: Maximum number of iteration 180 reached. Increase it to improve convergence.\n",
      "  ConvergenceWarning)\n",
      "/Users/user/anaconda3/envs/7mw/lib/python3.5/site-packages/sklearn/utils/deprecation.py:52: DeprecationWarning: Class ConvergenceWarning is deprecated; ConvergenceWarning has been moved into the sklearn.exceptions module. It will not be available here from version 0.19\n",
      "  warnings.warn(msg, category=DeprecationWarning)\n",
      "/Users/user/anaconda3/envs/7mw/lib/python3.5/site-packages/ntf_cython/nmf.py:196: ConvergenceWarning: Maximum number of iteration 185 reached. Increase it to improve convergence.\n",
      "  ConvergenceWarning)\n",
      "/Users/user/anaconda3/envs/7mw/lib/python3.5/site-packages/sklearn/utils/deprecation.py:52: DeprecationWarning: Class ConvergenceWarning is deprecated; ConvergenceWarning has been moved into the sklearn.exceptions module. It will not be available here from version 0.19\n",
      "  warnings.warn(msg, category=DeprecationWarning)\n",
      "/Users/user/anaconda3/envs/7mw/lib/python3.5/site-packages/ntf_cython/nmf.py:196: ConvergenceWarning: Maximum number of iteration 190 reached. Increase it to improve convergence.\n",
      "  ConvergenceWarning)\n",
      "/Users/user/anaconda3/envs/7mw/lib/python3.5/site-packages/sklearn/utils/deprecation.py:52: DeprecationWarning: Class ConvergenceWarning is deprecated; ConvergenceWarning has been moved into the sklearn.exceptions module. It will not be available here from version 0.19\n",
      "  warnings.warn(msg, category=DeprecationWarning)\n",
      "/Users/user/anaconda3/envs/7mw/lib/python3.5/site-packages/ntf_cython/nmf.py:196: ConvergenceWarning: Maximum number of iteration 195 reached. Increase it to improve convergence.\n",
      "  ConvergenceWarning)\n",
      "/Users/user/anaconda3/envs/7mw/lib/python3.5/site-packages/sklearn/utils/deprecation.py:52: DeprecationWarning: Class ConvergenceWarning is deprecated; ConvergenceWarning has been moved into the sklearn.exceptions module. It will not be available here from version 0.19\n",
      "  warnings.warn(msg, category=DeprecationWarning)\n",
      "/Users/user/anaconda3/envs/7mw/lib/python3.5/site-packages/ntf_cython/nmf.py:196: ConvergenceWarning: Maximum number of iteration 200 reached. Increase it to improve convergence.\n",
      "  ConvergenceWarning)\n",
      "/Users/user/anaconda3/envs/7mw/lib/python3.5/site-packages/sklearn/utils/deprecation.py:52: DeprecationWarning: Class ConvergenceWarning is deprecated; ConvergenceWarning has been moved into the sklearn.exceptions module. It will not be available here from version 0.19\n",
      "  warnings.warn(msg, category=DeprecationWarning)\n",
      "/Users/user/anaconda3/envs/7mw/lib/python3.5/site-packages/sklearn/utils/deprecation.py:52: DeprecationWarning: Class ConvergenceWarning is deprecated; ConvergenceWarning has been moved into the sklearn.exceptions module. It will not be available here from version 0.19\n",
      "  warnings.warn(msg, category=DeprecationWarning)\n",
      "/Users/user/anaconda3/envs/7mw/lib/python3.5/site-packages/sklearn/utils/deprecation.py:52: DeprecationWarning: Class ConvergenceWarning is deprecated; ConvergenceWarning has been moved into the sklearn.exceptions module. It will not be available here from version 0.19\n",
      "  warnings.warn(msg, category=DeprecationWarning)\n",
      "/Users/user/anaconda3/envs/7mw/lib/python3.5/site-packages/sklearn/utils/deprecation.py:52: DeprecationWarning: Class ConvergenceWarning is deprecated; ConvergenceWarning has been moved into the sklearn.exceptions module. It will not be available here from version 0.19\n",
      "  warnings.warn(msg, category=DeprecationWarning)\n"
     ]
    },
    {
     "name": "stdout",
     "output_type": "stream",
     "text": [
      "CPU times: user 3min 15s, sys: 37.4 s, total: 3min 52s\n",
      "Wall time: 2min 15s\n"
     ]
    }
   ],
   "source": [
    "%%time\n",
    "U, V, relative_error = structured_randomized_bppnmf(A, algo='algo44', q=10, r=r, max_iter = 1000, eps = 0.00001, oversampling = 20, \n",
    "                     oversampling_factor = 20, random_state=2)"
   ]
  },
  {
   "cell_type": "code",
   "execution_count": 14,
   "metadata": {
    "collapsed": false
   },
   "outputs": [
    {
     "data": {
      "text/plain": [
       "[<matplotlib.lines.Line2D at 0x11095fb38>]"
      ]
     },
     "execution_count": 14,
     "metadata": {},
     "output_type": "execute_result"
    },
    {
     "data": {
      "image/png": "[encoded data removed]",
      "text/plain": [
       "<matplotlib.figure.Figure at 0x110d3dc88>"
      ]
     },
     "metadata": {},
     "output_type": "display_data"
    }
   ],
   "source": [
    "plt.plot(relative_error)"
   ]
  },
  {
   "cell_type": "markdown",
   "metadata": {},
   "source": [
    "## COMPRESSED BPP WITH STRUCTURED COMPRESSION"
   ]
  },
  {
   "cell_type": "code",
   "execution_count": 16,
   "metadata": {
    "collapsed": false
   },
   "outputs": [
    {
     "name": "stdout",
     "output_type": "stream",
     "text": [
      "The matrix is dense. We use compressed block principal pivoting method\n",
      "CPU times: user 3min 18s, sys: 38.5 s, total: 3min 57s\n",
      "Wall time: 2min 23s\n"
     ]
    }
   ],
   "source": [
    "%%time\n",
    "U, V, relative_error = structured_randomized_bppnmf(A, algo='structured_compression', q=10, r=r, max_iter = 1000, eps = 0.00001, oversampling = 20, \n",
    "                     oversampling_factor = 20, random_state=2)"
   ]
  },
  {
   "cell_type": "code",
   "execution_count": 17,
   "metadata": {
    "collapsed": false
   },
   "outputs": [
    {
     "data": {
      "text/plain": [
       "[<matplotlib.lines.Line2D at 0x110d68eb8>]"
      ]
     },
     "execution_count": 17,
     "metadata": {},
     "output_type": "execute_result"
    },
    {
     "data": {
      "image/png": "[encoded data removed]",
      "text/plain": [
       "<matplotlib.figure.Figure at 0x110d3dd68>"
      ]
     },
     "metadata": {},
     "output_type": "display_data"
    }
   ],
   "source": [
    "plt.plot(relative_error)"
   ]
  },
  {
   "cell_type": "markdown",
   "metadata": {},
   "source": [
    "## COMPRESSED BPP WITH COUNT GAUSSIAN"
   ]
  },
  {
   "cell_type": "code",
   "execution_count": 18,
   "metadata": {
    "collapsed": false
   },
   "outputs": [
    {
     "name": "stdout",
     "output_type": "stream",
     "text": [
      "The matrix is dense. We use compressed block principal pivoting method\n",
      "CPU times: user 1min 7s, sys: 8.13 s, total: 1min 15s\n",
      "Wall time: 43 s\n"
     ]
    }
   ],
   "source": [
    "%%time\n",
    "U, V, relative_error = structured_randomized_bppnmf(A, algo='count_gauss', q=10, r=r, max_iter = 200, eps = 0.00001, oversampling = 20, \n",
    "                     oversampling_factor = 20, random_state=2)"
   ]
  },
  {
   "cell_type": "code",
   "execution_count": 19,
   "metadata": {
    "collapsed": false
   },
   "outputs": [
    {
     "data": {
      "text/plain": [
       "[<matplotlib.lines.Line2D at 0x10576f710>]"
      ]
     },
     "execution_count": 19,
     "metadata": {},
     "output_type": "execute_result"
    },
    {
     "data": {
      "image/png": "[encoded data removed]",
      "text/plain": [
       "<matplotlib.figure.Figure at 0x110eeb2e8>"
      ]
     },
     "metadata": {},
     "output_type": "display_data"
    }
   ],
   "source": [
    "plt.plot(relative_error)"
   ]
  },
  {
   "cell_type": "markdown",
   "metadata": {},
   "source": [
    "# UNCOMPRESSED BPP IMPLEMENTATION"
   ]
  },
  {
   "cell_type": "code",
   "execution_count": 20,
   "metadata": {
    "collapsed": false
   },
   "outputs": [
    {
     "name": "stdout",
     "output_type": "stream",
     "text": [
      "CPU times: user 3min 10s, sys: 22.1 s, total: 3min 32s\n",
      "Wall time: 2min 5s\n"
     ]
    }
   ],
   "source": [
    "%time W, H, _, _ = nmf(A, n_components=r, max_iter=200, random_state=2)"
   ]
  },
  {
   "cell_type": "code",
   "execution_count": 21,
   "metadata": {
    "collapsed": false
   },
   "outputs": [
    {
     "data": {
      "text/plain": [
       "(10000, 1000)"
      ]
     },
     "execution_count": 21,
     "metadata": {},
     "output_type": "execute_result"
    }
   ],
   "source": [
    "A.shape"
   ]
  },
  {
   "cell_type": "code",
   "execution_count": 22,
   "metadata": {
    "collapsed": false
   },
   "outputs": [
    {
     "data": {
      "text/plain": [
       "0.58445969114193475"
      ]
     },
     "execution_count": 22,
     "metadata": {},
     "output_type": "execute_result"
    }
   ],
   "source": [
    "rel_error(A, W.dot(H))"
   ]
  },
  {
   "cell_type": "code",
   "execution_count": null,
   "metadata": {
    "collapsed": true
   },
   "outputs": [],
   "source": []
  },
  {
   "cell_type": "code",
   "execution_count": null,
   "metadata": {
    "collapsed": true
   },
   "outputs": [],
   "source": []
  }
 ],
 "metadata": {
  "anaconda-cloud": {},
  "kernelspec": {
   "display_name": "7mw",
   "language": "python",
   "name": "7mw"
  },
  "language_info": {
   "codemirror_mode": {
    "name": "ipython",
    "version": 3
   },
   "file_extension": ".py",
   "mimetype": "text/x-python",
   "name": "python",
   "nbconvert_exporter": "python",
   "pygments_lexer": "ipython3",
   "version": "3.5.3"
  }
 },
 "nbformat": 4,
 "nbformat_minor": 1
}
