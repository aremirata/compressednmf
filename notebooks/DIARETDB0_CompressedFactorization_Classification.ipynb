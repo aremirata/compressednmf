{
 "cells": [
  {
   "cell_type": "code",
   "execution_count": 1,
   "metadata": {
    "collapsed": false
   },
   "outputs": [
    {
     "name": "stderr",
     "output_type": "stream",
     "text": [
      "/home/aremirata/.conda/envs/claims/lib/python3.5/site-packages/sklearn/cross_validation.py:41: DeprecationWarning: This module was deprecated in version 0.18 in favor of the model_selection module into which all the refactored classes and functions are moved. Also note that the interface of the new CV iterators are different from that of this module. This module will be removed in 0.20.\n",
      "  \"This module will be removed in 0.20.\", DeprecationWarning)\n"
     ]
    }
   ],
   "source": [
    "%matplotlib inline\n",
    "import sys\n",
    "import numpy as np\n",
    "import pandas as pd\n",
    "from scipy import misc\n",
    "import matplotlib.pyplot as plt\n",
    "from PIL import Image\n",
    "from skimage import color\n",
    "import os\n",
    "import random\n",
    "import seaborn as sns\n",
    "from sklearn.cross_validation import train_test_split\n",
    "from sklearn.externals import joblib\n",
    "from sklearn.metrics import f1_score,accuracy_score\n",
    "from sklearn import metrics\n",
    "sns.set(style=\"white\", palette=\"muted\", color_codes=True)"
   ]
  },
  {
   "cell_type": "code",
   "execution_count": 2,
   "metadata": {
    "collapsed": true
   },
   "outputs": [],
   "source": [
    "from sklearn.externals import joblib\n",
    "import xgboost as xgb"
   ]
  },
  {
   "cell_type": "code",
   "execution_count": 3,
   "metadata": {
    "collapsed": true
   },
   "outputs": [],
   "source": [
    "from sklearn.ensemble import RandomForestClassifier, AdaBoostClassifier\n",
    "from sklearn.discriminant_analysis import QuadraticDiscriminantAnalysis\n",
    "from imblearn.over_sampling import ADASYN, SMOTE, RandomOverSampler\n",
    "from imblearn.under_sampling import RandomUnderSampler\n",
    "from sklearn.linear_model import LogisticRegression"
   ]
  },
  {
   "cell_type": "code",
   "execution_count": 4,
   "metadata": {
    "collapsed": true
   },
   "outputs": [],
   "source": [
    "from sklearn.metrics import auc, roc_curve, recall_score\n",
    "from sklearn.model_selection import StratifiedKFold\n",
    "from imblearn.pipeline import make_pipeline\n",
    "from scipy import interp"
   ]
  },
  {
   "cell_type": "code",
   "execution_count": 5,
   "metadata": {
    "collapsed": true
   },
   "outputs": [],
   "source": [
    "path = '/home/aremirata/thesis/DIARETB30/diaretdb0_v_1_1/resources/images/'\n",
    "images_list = np.sort(os.listdir(path+'diaretdb0_fundus_images/'))\n",
    "labels_files = np.sort(os.listdir(path+'diaretdb0_groundtruths/'))"
   ]
  },
  {
   "cell_type": "code",
   "execution_count": 6,
   "metadata": {
    "collapsed": false
   },
   "outputs": [],
   "source": [
    "image_arrays = []\n",
    "image_name = []\n",
    "for i in images_list:\n",
    "    img = Image.open(path+'diaretdb0_fundus_images/'+i)\n",
    "    img_rs = img.resize((256,256), Image.ANTIALIAS)\n",
    "    a = np.asarray(img_rs)\n",
    "    image_arrays.append(a)\n",
    "    image_name.append(i)"
   ]
  },
  {
   "cell_type": "code",
   "execution_count": 7,
   "metadata": {
    "collapsed": true
   },
   "outputs": [],
   "source": [
    "image_arrays = np.asarray(image_arrays)"
   ]
  },
  {
   "cell_type": "code",
   "execution_count": 8,
   "metadata": {
    "collapsed": true
   },
   "outputs": [],
   "source": [
    "target_labels = []\n",
    "for i in labels_files:\n",
    "    text_file = open(path+'diaretdb0_groundtruths/'+i, \"r\")\n",
    "    target_labels.append(np.asarray(text_file.read().lower().split()))"
   ]
  },
  {
   "cell_type": "code",
   "execution_count": 9,
   "metadata": {
    "collapsed": true
   },
   "outputs": [],
   "source": [
    "target_labels = np.asarray(target_labels)"
   ]
  },
  {
   "cell_type": "code",
   "execution_count": 10,
   "metadata": {
    "collapsed": false
   },
   "outputs": [
    {
     "data": {
      "text/plain": [
       "array(['hardexudates', 'hemorrhages', 'n/a', 'neovascularisation',\n",
       "       'redsmalldots', 'softexudates'],\n",
       "      dtype='<U18')"
      ]
     },
     "execution_count": 10,
     "metadata": {},
     "output_type": "execute_result"
    }
   ],
   "source": [
    "np.unique(target_labels)"
   ]
  },
  {
   "cell_type": "code",
   "execution_count": 11,
   "metadata": {
    "collapsed": false
   },
   "outputs": [
    {
     "name": "stdout",
     "output_type": "stream",
     "text": [
      "(130, 5)\n"
     ]
    }
   ],
   "source": [
    "print(target_labels.shape)"
   ]
  },
  {
   "cell_type": "code",
   "execution_count": 12,
   "metadata": {
    "collapsed": false
   },
   "outputs": [
    {
     "name": "stdout",
     "output_type": "stream",
     "text": [
      "(130, 256, 256, 3)\n"
     ]
    }
   ],
   "source": [
    "print(image_arrays.shape)"
   ]
  },
  {
   "cell_type": "code",
   "execution_count": 13,
   "metadata": {
    "collapsed": true
   },
   "outputs": [],
   "source": [
    "target_labels_encoded = []\n",
    "for i in target_labels:\n",
    "    l = np.asarray([0 if j == 'n/a' else 1 for j in i])\n",
    "    target_labels_encoded.append(l)"
   ]
  },
  {
   "cell_type": "code",
   "execution_count": 14,
   "metadata": {
    "collapsed": true
   },
   "outputs": [],
   "source": [
    "target_labels_encoded = np.asarray(target_labels_encoded)"
   ]
  },
  {
   "cell_type": "code",
   "execution_count": 15,
   "metadata": {
    "collapsed": false
   },
   "outputs": [
    {
     "data": {
      "text/plain": [
       "(130, 5)"
      ]
     },
     "execution_count": 15,
     "metadata": {},
     "output_type": "execute_result"
    }
   ],
   "source": [
    "target_labels_encoded.shape"
   ]
  },
  {
   "cell_type": "code",
   "execution_count": 16,
   "metadata": {
    "collapsed": false
   },
   "outputs": [],
   "source": [
    "target_labels_modified = np.array([i/float(j) if j!=0 else i for i,j in zip(target_labels_encoded,np.sum(target_labels_encoded,axis=1))])"
   ]
  },
  {
   "cell_type": "code",
   "execution_count": 17,
   "metadata": {
    "collapsed": true
   },
   "outputs": [],
   "source": [
    "modified_classes = np.asarray([[1,0] if i==0 else [0,1] for i in np.sum(target_labels_encoded,axis=1)])"
   ]
  },
  {
   "cell_type": "code",
   "execution_count": 18,
   "metadata": {
    "collapsed": false
   },
   "outputs": [],
   "source": [
    "classes_unique = []\n",
    "for i in range(target_labels.shape[1]):\n",
    "    classes_unique = classes_unique + list(np.unique(target_labels[:,i])[np.unique(target_labels[:,i]) != 'n/a'])"
   ]
  },
  {
   "cell_type": "code",
   "execution_count": 19,
   "metadata": {
    "collapsed": false
   },
   "outputs": [
    {
     "data": {
      "text/plain": [
       "['redsmalldots',\n",
       " 'hemorrhages',\n",
       " 'hardexudates',\n",
       " 'softexudates',\n",
       " 'neovascularisation']"
      ]
     },
     "execution_count": 19,
     "metadata": {},
     "output_type": "execute_result"
    }
   ],
   "source": [
    "classes_unique"
   ]
  },
  {
   "cell_type": "code",
   "execution_count": 20,
   "metadata": {
    "collapsed": true
   },
   "outputs": [],
   "source": [
    "modified_class_labels = ['normal','infected']"
   ]
  },
  {
   "cell_type": "code",
   "execution_count": 21,
   "metadata": {
    "collapsed": true
   },
   "outputs": [],
   "source": [
    "normal_retina_ids = np.argwhere(modified_classes[:,0]==1).reshape([-1])\n",
    "affected_retina_ids = np.argwhere(modified_classes[:,0]==0).reshape([-1])"
   ]
  },
  {
   "cell_type": "code",
   "execution_count": 22,
   "metadata": {
    "collapsed": false
   },
   "outputs": [
    {
     "data": {
      "text/plain": [
       "22"
      ]
     },
     "execution_count": 22,
     "metadata": {},
     "output_type": "execute_result"
    }
   ],
   "source": [
    "len(normal_retina_ids)"
   ]
  },
  {
   "cell_type": "code",
   "execution_count": 23,
   "metadata": {
    "collapsed": false
   },
   "outputs": [
    {
     "data": {
      "text/plain": [
       "108"
      ]
     },
     "execution_count": 23,
     "metadata": {},
     "output_type": "execute_result"
    }
   ],
   "source": [
    "len(affected_retina_ids)"
   ]
  },
  {
   "cell_type": "code",
   "execution_count": 24,
   "metadata": {
    "collapsed": true
   },
   "outputs": [],
   "source": [
    "label_dict = {'normal':normal_retina_ids, 'affected': affected_retina_ids}"
   ]
  },
  {
   "cell_type": "code",
   "execution_count": 25,
   "metadata": {
    "collapsed": false
   },
   "outputs": [
    {
     "data": {
      "text/plain": [
       "{'affected': array([  0,   1,   2,   3,   4,   5,   6,   7,   8,   9,  10,  11,  12,\n",
       "         13,  14,  15,  16,  17,  18,  19,  20,  21,  22,  23,  24,  25,\n",
       "         26,  27,  28,  29,  30,  31,  32,  33,  34,  35,  36,  37,  38,\n",
       "         39,  40,  41,  42,  43,  44,  45,  46,  47,  48,  49,  50,  51,\n",
       "         52,  53,  54,  55,  56,  57,  58,  59,  60,  61,  62,  63,  64,\n",
       "         65,  66,  67,  68,  69,  70,  71,  72,  73,  74,  75,  76,  77,\n",
       "         78,  79,  80,  82,  83,  84,  85,  86,  87,  88,  89,  90,  91,\n",
       "         92,  93,  95,  96,  97,  98,  99, 100, 101, 102, 103, 104, 105,\n",
       "        106, 107, 108, 109]),\n",
       " 'normal': array([ 81,  94, 110, 111, 112, 113, 114, 115, 116, 117, 118, 119, 120,\n",
       "        121, 122, 123, 124, 125, 126, 127, 128, 129])}"
      ]
     },
     "execution_count": 25,
     "metadata": {},
     "output_type": "execute_result"
    }
   ],
   "source": [
    "label_dict"
   ]
  },
  {
   "cell_type": "code",
   "execution_count": 26,
   "metadata": {
    "collapsed": false
   },
   "outputs": [],
   "source": [
    "label_df = pd.DataFrame([label_dict]).transpose().reset_index().rename(columns={0:'indices','index':'label'})"
   ]
  },
  {
   "cell_type": "code",
   "execution_count": 27,
   "metadata": {
    "collapsed": false
   },
   "outputs": [
    {
     "data": {
      "text/html": [
       "<div>\n",
       "<style>\n",
       "    .dataframe thead tr:only-child th {\n",
       "        text-align: right;\n",
       "    }\n",
       "\n",
       "    .dataframe thead th {\n",
       "        text-align: left;\n",
       "    }\n",
       "\n",
       "    .dataframe tbody tr th {\n",
       "        vertical-align: top;\n",
       "    }\n",
       "</style>\n",
       "<table border=\"1\" class=\"dataframe\">\n",
       "  <thead>\n",
       "    <tr style=\"text-align: right;\">\n",
       "      <th></th>\n",
       "      <th>label</th>\n",
       "      <th>indices</th>\n",
       "    </tr>\n",
       "  </thead>\n",
       "  <tbody>\n",
       "    <tr>\n",
       "      <th>0</th>\n",
       "      <td>affected</td>\n",
       "      <td>[0, 1, 2, 3, 4, 5, 6, 7, 8, 9, 10, 11, 12, 13,...</td>\n",
       "    </tr>\n",
       "    <tr>\n",
       "      <th>1</th>\n",
       "      <td>normal</td>\n",
       "      <td>[81, 94, 110, 111, 112, 113, 114, 115, 116, 11...</td>\n",
       "    </tr>\n",
       "  </tbody>\n",
       "</table>\n",
       "</div>"
      ],
      "text/plain": [
       "      label                                            indices\n",
       "0  affected  [0, 1, 2, 3, 4, 5, 6, 7, 8, 9, 10, 11, 12, 13,...\n",
       "1    normal  [81, 94, 110, 111, 112, 113, 114, 115, 116, 11..."
      ]
     },
     "execution_count": 27,
     "metadata": {},
     "output_type": "execute_result"
    }
   ],
   "source": [
    "label_df"
   ]
  },
  {
   "cell_type": "code",
   "execution_count": 28,
   "metadata": {
    "collapsed": true
   },
   "outputs": [],
   "source": [
    "label_data = label_df.apply(lambda x: pd.Series(x['indices']), axis=1).stack().reset_index(level=1, drop=True)"
   ]
  },
  {
   "cell_type": "code",
   "execution_count": 29,
   "metadata": {
    "collapsed": false
   },
   "outputs": [],
   "source": [
    "label_data.name = 'index'"
   ]
  },
  {
   "cell_type": "code",
   "execution_count": 30,
   "metadata": {
    "collapsed": false
   },
   "outputs": [],
   "source": [
    "label_dataframe = label_df.drop('indices', axis=1).join(label_data)"
   ]
  },
  {
   "cell_type": "code",
   "execution_count": 31,
   "metadata": {
    "collapsed": false
   },
   "outputs": [
    {
     "data": {
      "text/html": [
       "<div>\n",
       "<style>\n",
       "    .dataframe thead tr:only-child th {\n",
       "        text-align: right;\n",
       "    }\n",
       "\n",
       "    .dataframe thead th {\n",
       "        text-align: left;\n",
       "    }\n",
       "\n",
       "    .dataframe tbody tr th {\n",
       "        vertical-align: top;\n",
       "    }\n",
       "</style>\n",
       "<table border=\"1\" class=\"dataframe\">\n",
       "  <thead>\n",
       "    <tr style=\"text-align: right;\">\n",
       "      <th></th>\n",
       "      <th>label</th>\n",
       "      <th>index</th>\n",
       "    </tr>\n",
       "  </thead>\n",
       "  <tbody>\n",
       "    <tr>\n",
       "      <th>0</th>\n",
       "      <td>affected</td>\n",
       "      <td>0.0</td>\n",
       "    </tr>\n",
       "    <tr>\n",
       "      <th>0</th>\n",
       "      <td>affected</td>\n",
       "      <td>1.0</td>\n",
       "    </tr>\n",
       "    <tr>\n",
       "      <th>0</th>\n",
       "      <td>affected</td>\n",
       "      <td>2.0</td>\n",
       "    </tr>\n",
       "    <tr>\n",
       "      <th>0</th>\n",
       "      <td>affected</td>\n",
       "      <td>3.0</td>\n",
       "    </tr>\n",
       "    <tr>\n",
       "      <th>0</th>\n",
       "      <td>affected</td>\n",
       "      <td>4.0</td>\n",
       "    </tr>\n",
       "  </tbody>\n",
       "</table>\n",
       "</div>"
      ],
      "text/plain": [
       "      label  index\n",
       "0  affected    0.0\n",
       "0  affected    1.0\n",
       "0  affected    2.0\n",
       "0  affected    3.0\n",
       "0  affected    4.0"
      ]
     },
     "execution_count": 31,
     "metadata": {},
     "output_type": "execute_result"
    }
   ],
   "source": [
    "label_dataframe.head()"
   ]
  },
  {
   "cell_type": "code",
   "execution_count": 32,
   "metadata": {
    "collapsed": true
   },
   "outputs": [],
   "source": [
    "targetmap = {'normal':0, 'affected':1}"
   ]
  },
  {
   "cell_type": "code",
   "execution_count": 33,
   "metadata": {
    "collapsed": false
   },
   "outputs": [],
   "source": [
    "label_dataframe['image_name'] = label_dataframe['index'].apply(lambda x: 'image'+str(int(x) + 1).zfill(3)+'.png')\n",
    "label_dataframe['target'] = label_dataframe['label'].apply(lambda x: targetmap[x])\n",
    "del label_dataframe['index']"
   ]
  },
  {
   "cell_type": "code",
   "execution_count": 34,
   "metadata": {
    "collapsed": false
   },
   "outputs": [
    {
     "data": {
      "text/html": [
       "<div>\n",
       "<style>\n",
       "    .dataframe thead tr:only-child th {\n",
       "        text-align: right;\n",
       "    }\n",
       "\n",
       "    .dataframe thead th {\n",
       "        text-align: left;\n",
       "    }\n",
       "\n",
       "    .dataframe tbody tr th {\n",
       "        vertical-align: top;\n",
       "    }\n",
       "</style>\n",
       "<table border=\"1\" class=\"dataframe\">\n",
       "  <thead>\n",
       "    <tr style=\"text-align: right;\">\n",
       "      <th></th>\n",
       "      <th>label</th>\n",
       "      <th>image_name</th>\n",
       "      <th>target</th>\n",
       "    </tr>\n",
       "  </thead>\n",
       "  <tbody>\n",
       "    <tr>\n",
       "      <th>0</th>\n",
       "      <td>affected</td>\n",
       "      <td>image001.png</td>\n",
       "      <td>1</td>\n",
       "    </tr>\n",
       "    <tr>\n",
       "      <th>0</th>\n",
       "      <td>affected</td>\n",
       "      <td>image002.png</td>\n",
       "      <td>1</td>\n",
       "    </tr>\n",
       "    <tr>\n",
       "      <th>0</th>\n",
       "      <td>affected</td>\n",
       "      <td>image003.png</td>\n",
       "      <td>1</td>\n",
       "    </tr>\n",
       "    <tr>\n",
       "      <th>0</th>\n",
       "      <td>affected</td>\n",
       "      <td>image004.png</td>\n",
       "      <td>1</td>\n",
       "    </tr>\n",
       "    <tr>\n",
       "      <th>0</th>\n",
       "      <td>affected</td>\n",
       "      <td>image005.png</td>\n",
       "      <td>1</td>\n",
       "    </tr>\n",
       "  </tbody>\n",
       "</table>\n",
       "</div>"
      ],
      "text/plain": [
       "      label    image_name  target\n",
       "0  affected  image001.png       1\n",
       "0  affected  image002.png       1\n",
       "0  affected  image003.png       1\n",
       "0  affected  image004.png       1\n",
       "0  affected  image005.png       1"
      ]
     },
     "execution_count": 34,
     "metadata": {},
     "output_type": "execute_result"
    }
   ],
   "source": [
    "label_dataframe.head()"
   ]
  },
  {
   "cell_type": "code",
   "execution_count": 35,
   "metadata": {
    "collapsed": false
   },
   "outputs": [],
   "source": [
    "image_arrays_grayscale = []\n",
    "for image in image_arrays:\n",
    "    image_arrays_grayscale.append(color.rgb2gray(image))"
   ]
  },
  {
   "cell_type": "code",
   "execution_count": 36,
   "metadata": {
    "collapsed": false
   },
   "outputs": [
    {
     "data": {
      "text/plain": [
       "(256, 256)"
      ]
     },
     "execution_count": 36,
     "metadata": {},
     "output_type": "execute_result"
    }
   ],
   "source": [
    "image_arrays_grayscale[0].shape"
   ]
  },
  {
   "cell_type": "markdown",
   "metadata": {
    "collapsed": true
   },
   "source": [
    "# Create a DataFrame to Store the Image Data Information"
   ]
  },
  {
   "cell_type": "code",
   "execution_count": 37,
   "metadata": {
    "collapsed": false
   },
   "outputs": [],
   "source": [
    "index = range(0, len(image_arrays_grayscale))\n",
    "df_image = pd.DataFrame(index=index, columns=['image_name','grayscale_image'])\n",
    "for i in range(len(image_arrays_grayscale)):\n",
    "    df_image['image_name'][i] = image_name[i]\n",
    "    df_image['grayscale_image'][i] = image_arrays_grayscale[i]"
   ]
  },
  {
   "cell_type": "code",
   "execution_count": 38,
   "metadata": {
    "collapsed": false
   },
   "outputs": [
    {
     "data": {
      "text/html": [
       "<div>\n",
       "<style>\n",
       "    .dataframe thead tr:only-child th {\n",
       "        text-align: right;\n",
       "    }\n",
       "\n",
       "    .dataframe thead th {\n",
       "        text-align: left;\n",
       "    }\n",
       "\n",
       "    .dataframe tbody tr th {\n",
       "        vertical-align: top;\n",
       "    }\n",
       "</style>\n",
       "<table border=\"1\" class=\"dataframe\">\n",
       "  <thead>\n",
       "    <tr style=\"text-align: right;\">\n",
       "      <th></th>\n",
       "      <th>image_name</th>\n",
       "      <th>grayscale_image</th>\n",
       "    </tr>\n",
       "  </thead>\n",
       "  <tbody>\n",
       "    <tr>\n",
       "      <th>125</th>\n",
       "      <td>image126.png</td>\n",
       "      <td>[[0.0, 0.0, 0.0, 0.0, 0.0, 0.0, 0.0, 0.0, 0.00...</td>\n",
       "    </tr>\n",
       "    <tr>\n",
       "      <th>126</th>\n",
       "      <td>image127.png</td>\n",
       "      <td>[[0.0, 0.0, 0.0, 0.0, 0.0, 0.0, 0.0, 0.0, 0.0,...</td>\n",
       "    </tr>\n",
       "    <tr>\n",
       "      <th>127</th>\n",
       "      <td>image128.png</td>\n",
       "      <td>[[0.0, 0.0, 0.0, 0.0, 0.0, 0.0, 0.0, 0.0, 0.0,...</td>\n",
       "    </tr>\n",
       "    <tr>\n",
       "      <th>128</th>\n",
       "      <td>image129.png</td>\n",
       "      <td>[[0.0, 0.0, 0.0, 0.0, 0.0, 0.0, 0.0, 0.0, 0.0,...</td>\n",
       "    </tr>\n",
       "    <tr>\n",
       "      <th>129</th>\n",
       "      <td>image130.png</td>\n",
       "      <td>[[0.0, 0.0, 0.0, 0.0, 0.0, 0.0, 0.0, 0.0002827...</td>\n",
       "    </tr>\n",
       "  </tbody>\n",
       "</table>\n",
       "</div>"
      ],
      "text/plain": [
       "       image_name                                    grayscale_image\n",
       "125  image126.png  [[0.0, 0.0, 0.0, 0.0, 0.0, 0.0, 0.0, 0.0, 0.00...\n",
       "126  image127.png  [[0.0, 0.0, 0.0, 0.0, 0.0, 0.0, 0.0, 0.0, 0.0,...\n",
       "127  image128.png  [[0.0, 0.0, 0.0, 0.0, 0.0, 0.0, 0.0, 0.0, 0.0,...\n",
       "128  image129.png  [[0.0, 0.0, 0.0, 0.0, 0.0, 0.0, 0.0, 0.0, 0.0,...\n",
       "129  image130.png  [[0.0, 0.0, 0.0, 0.0, 0.0, 0.0, 0.0, 0.0002827..."
      ]
     },
     "execution_count": 38,
     "metadata": {},
     "output_type": "execute_result"
    }
   ],
   "source": [
    "df_image.tail()"
   ]
  },
  {
   "cell_type": "code",
   "execution_count": 39,
   "metadata": {
    "collapsed": true
   },
   "outputs": [],
   "source": [
    "df_image['image_flatten'] = df_image['grayscale_image'].apply(lambda x: x.ravel())"
   ]
  },
  {
   "cell_type": "code",
   "execution_count": 40,
   "metadata": {
    "collapsed": false
   },
   "outputs": [
    {
     "data": {
      "text/html": [
       "<div>\n",
       "<style>\n",
       "    .dataframe thead tr:only-child th {\n",
       "        text-align: right;\n",
       "    }\n",
       "\n",
       "    .dataframe thead th {\n",
       "        text-align: left;\n",
       "    }\n",
       "\n",
       "    .dataframe tbody tr th {\n",
       "        vertical-align: top;\n",
       "    }\n",
       "</style>\n",
       "<table border=\"1\" class=\"dataframe\">\n",
       "  <thead>\n",
       "    <tr style=\"text-align: right;\">\n",
       "      <th></th>\n",
       "      <th>image_name</th>\n",
       "      <th>grayscale_image</th>\n",
       "      <th>image_flatten</th>\n",
       "    </tr>\n",
       "  </thead>\n",
       "  <tbody>\n",
       "    <tr>\n",
       "      <th>0</th>\n",
       "      <td>image001.png</td>\n",
       "      <td>[[0.0, 0.0, 0.0, 0.0, 0.0, 0.0, 0.0, 0.0, 0.0,...</td>\n",
       "      <td>[0.0, 0.0, 0.0, 0.0, 0.0, 0.0, 0.0, 0.0, 0.0, ...</td>\n",
       "    </tr>\n",
       "    <tr>\n",
       "      <th>1</th>\n",
       "      <td>image002.png</td>\n",
       "      <td>[[0.000833333333333, 0.0, 0.000833333333333, 0...</td>\n",
       "      <td>[0.000833333333333, 0.0, 0.000833333333333, 0....</td>\n",
       "    </tr>\n",
       "    <tr>\n",
       "      <th>2</th>\n",
       "      <td>image003.png</td>\n",
       "      <td>[[0.0, 0.0, 0.0, 0.0, 0.0, 0.0, 0.0, 0.0, 0.0,...</td>\n",
       "      <td>[0.0, 0.0, 0.0, 0.0, 0.0, 0.0, 0.0, 0.0, 0.0, ...</td>\n",
       "    </tr>\n",
       "    <tr>\n",
       "      <th>3</th>\n",
       "      <td>image004.png</td>\n",
       "      <td>[[0.0, 0.0, 0.0, 0.0, 0.0, 0.0, 0.0, 0.0, 0.0,...</td>\n",
       "      <td>[0.0, 0.0, 0.0, 0.0, 0.0, 0.0, 0.0, 0.0, 0.0, ...</td>\n",
       "    </tr>\n",
       "    <tr>\n",
       "      <th>4</th>\n",
       "      <td>image005.png</td>\n",
       "      <td>[[0.0, 0.0, 0.0, 0.0, 0.0, 0.0, 0.0, 0.0, 0.0,...</td>\n",
       "      <td>[0.0, 0.0, 0.0, 0.0, 0.0, 0.0, 0.0, 0.0, 0.0, ...</td>\n",
       "    </tr>\n",
       "  </tbody>\n",
       "</table>\n",
       "</div>"
      ],
      "text/plain": [
       "     image_name                                    grayscale_image  \\\n",
       "0  image001.png  [[0.0, 0.0, 0.0, 0.0, 0.0, 0.0, 0.0, 0.0, 0.0,...   \n",
       "1  image002.png  [[0.000833333333333, 0.0, 0.000833333333333, 0...   \n",
       "2  image003.png  [[0.0, 0.0, 0.0, 0.0, 0.0, 0.0, 0.0, 0.0, 0.0,...   \n",
       "3  image004.png  [[0.0, 0.0, 0.0, 0.0, 0.0, 0.0, 0.0, 0.0, 0.0,...   \n",
       "4  image005.png  [[0.0, 0.0, 0.0, 0.0, 0.0, 0.0, 0.0, 0.0, 0.0,...   \n",
       "\n",
       "                                       image_flatten  \n",
       "0  [0.0, 0.0, 0.0, 0.0, 0.0, 0.0, 0.0, 0.0, 0.0, ...  \n",
       "1  [0.000833333333333, 0.0, 0.000833333333333, 0....  \n",
       "2  [0.0, 0.0, 0.0, 0.0, 0.0, 0.0, 0.0, 0.0, 0.0, ...  \n",
       "3  [0.0, 0.0, 0.0, 0.0, 0.0, 0.0, 0.0, 0.0, 0.0, ...  \n",
       "4  [0.0, 0.0, 0.0, 0.0, 0.0, 0.0, 0.0, 0.0, 0.0, ...  "
      ]
     },
     "execution_count": 40,
     "metadata": {},
     "output_type": "execute_result"
    }
   ],
   "source": [
    "df_image.head()"
   ]
  },
  {
   "cell_type": "code",
   "execution_count": 41,
   "metadata": {
    "collapsed": true
   },
   "outputs": [],
   "source": [
    "dataset_df = pd.merge(df_image,label_dataframe,on='image_name',how='inner')"
   ]
  },
  {
   "cell_type": "code",
   "execution_count": 42,
   "metadata": {
    "collapsed": false
   },
   "outputs": [
    {
     "data": {
      "text/html": [
       "<div>\n",
       "<style>\n",
       "    .dataframe thead tr:only-child th {\n",
       "        text-align: right;\n",
       "    }\n",
       "\n",
       "    .dataframe thead th {\n",
       "        text-align: left;\n",
       "    }\n",
       "\n",
       "    .dataframe tbody tr th {\n",
       "        vertical-align: top;\n",
       "    }\n",
       "</style>\n",
       "<table border=\"1\" class=\"dataframe\">\n",
       "  <thead>\n",
       "    <tr style=\"text-align: right;\">\n",
       "      <th></th>\n",
       "      <th>image_name</th>\n",
       "      <th>grayscale_image</th>\n",
       "      <th>image_flatten</th>\n",
       "      <th>label</th>\n",
       "      <th>target</th>\n",
       "    </tr>\n",
       "  </thead>\n",
       "  <tbody>\n",
       "    <tr>\n",
       "      <th>0</th>\n",
       "      <td>image001.png</td>\n",
       "      <td>[[0.0, 0.0, 0.0, 0.0, 0.0, 0.0, 0.0, 0.0, 0.0,...</td>\n",
       "      <td>[0.0, 0.0, 0.0, 0.0, 0.0, 0.0, 0.0, 0.0, 0.0, ...</td>\n",
       "      <td>affected</td>\n",
       "      <td>1</td>\n",
       "    </tr>\n",
       "    <tr>\n",
       "      <th>1</th>\n",
       "      <td>image002.png</td>\n",
       "      <td>[[0.000833333333333, 0.0, 0.000833333333333, 0...</td>\n",
       "      <td>[0.000833333333333, 0.0, 0.000833333333333, 0....</td>\n",
       "      <td>affected</td>\n",
       "      <td>1</td>\n",
       "    </tr>\n",
       "    <tr>\n",
       "      <th>2</th>\n",
       "      <td>image003.png</td>\n",
       "      <td>[[0.0, 0.0, 0.0, 0.0, 0.0, 0.0, 0.0, 0.0, 0.0,...</td>\n",
       "      <td>[0.0, 0.0, 0.0, 0.0, 0.0, 0.0, 0.0, 0.0, 0.0, ...</td>\n",
       "      <td>affected</td>\n",
       "      <td>1</td>\n",
       "    </tr>\n",
       "    <tr>\n",
       "      <th>3</th>\n",
       "      <td>image004.png</td>\n",
       "      <td>[[0.0, 0.0, 0.0, 0.0, 0.0, 0.0, 0.0, 0.0, 0.0,...</td>\n",
       "      <td>[0.0, 0.0, 0.0, 0.0, 0.0, 0.0, 0.0, 0.0, 0.0, ...</td>\n",
       "      <td>affected</td>\n",
       "      <td>1</td>\n",
       "    </tr>\n",
       "    <tr>\n",
       "      <th>4</th>\n",
       "      <td>image005.png</td>\n",
       "      <td>[[0.0, 0.0, 0.0, 0.0, 0.0, 0.0, 0.0, 0.0, 0.0,...</td>\n",
       "      <td>[0.0, 0.0, 0.0, 0.0, 0.0, 0.0, 0.0, 0.0, 0.0, ...</td>\n",
       "      <td>affected</td>\n",
       "      <td>1</td>\n",
       "    </tr>\n",
       "  </tbody>\n",
       "</table>\n",
       "</div>"
      ],
      "text/plain": [
       "     image_name                                    grayscale_image  \\\n",
       "0  image001.png  [[0.0, 0.0, 0.0, 0.0, 0.0, 0.0, 0.0, 0.0, 0.0,...   \n",
       "1  image002.png  [[0.000833333333333, 0.0, 0.000833333333333, 0...   \n",
       "2  image003.png  [[0.0, 0.0, 0.0, 0.0, 0.0, 0.0, 0.0, 0.0, 0.0,...   \n",
       "3  image004.png  [[0.0, 0.0, 0.0, 0.0, 0.0, 0.0, 0.0, 0.0, 0.0,...   \n",
       "4  image005.png  [[0.0, 0.0, 0.0, 0.0, 0.0, 0.0, 0.0, 0.0, 0.0,...   \n",
       "\n",
       "                                       image_flatten     label  target  \n",
       "0  [0.0, 0.0, 0.0, 0.0, 0.0, 0.0, 0.0, 0.0, 0.0, ...  affected       1  \n",
       "1  [0.000833333333333, 0.0, 0.000833333333333, 0....  affected       1  \n",
       "2  [0.0, 0.0, 0.0, 0.0, 0.0, 0.0, 0.0, 0.0, 0.0, ...  affected       1  \n",
       "3  [0.0, 0.0, 0.0, 0.0, 0.0, 0.0, 0.0, 0.0, 0.0, ...  affected       1  \n",
       "4  [0.0, 0.0, 0.0, 0.0, 0.0, 0.0, 0.0, 0.0, 0.0, ...  affected       1  "
      ]
     },
     "execution_count": 42,
     "metadata": {},
     "output_type": "execute_result"
    }
   ],
   "source": [
    "dataset_df.head()"
   ]
  },
  {
   "cell_type": "code",
   "execution_count": 43,
   "metadata": {
    "collapsed": false
   },
   "outputs": [
    {
     "data": {
      "text/plain": [
       "(130, 130, 130)"
      ]
     },
     "execution_count": 43,
     "metadata": {},
     "output_type": "execute_result"
    }
   ],
   "source": [
    "len(dataset_df),len(df_image),len(label_dataframe)"
   ]
  },
  {
   "cell_type": "markdown",
   "metadata": {},
   "source": [
    "# Apply NMF to the DataSet"
   ]
  },
  {
   "cell_type": "code",
   "execution_count": 44,
   "metadata": {
    "collapsed": true
   },
   "outputs": [],
   "source": [
    "data = np.stack(dataset_df['image_flatten'].as_matrix(),axis=0)"
   ]
  },
  {
   "cell_type": "code",
   "execution_count": 45,
   "metadata": {
    "collapsed": false
   },
   "outputs": [
    {
     "data": {
      "text/plain": [
       "(130, 65536)"
      ]
     },
     "execution_count": 45,
     "metadata": {},
     "output_type": "execute_result"
    }
   ],
   "source": [
    "data.shape"
   ]
  },
  {
   "cell_type": "code",
   "execution_count": 46,
   "metadata": {
    "collapsed": true
   },
   "outputs": [],
   "source": [
    "sparsity_value =  np.count_nonzero(data)/np.prod(data.shape)"
   ]
  },
  {
   "cell_type": "code",
   "execution_count": 47,
   "metadata": {
    "collapsed": false
   },
   "outputs": [
    {
     "data": {
      "text/plain": [
       "0.89875769981971154"
      ]
     },
     "execution_count": 47,
     "metadata": {},
     "output_type": "execute_result"
    }
   ],
   "source": [
    "sparsity_value"
   ]
  },
  {
   "cell_type": "markdown",
   "metadata": {},
   "source": [
    "# Compressed BPP Implementation"
   ]
  },
  {
   "cell_type": "code",
   "execution_count": 46,
   "metadata": {
    "collapsed": true
   },
   "outputs": [],
   "source": [
    "from nmf_compressed.structured_nmf import structured_randomized_bppnmf\n",
    "from numpy.linalg import norm, solve\n",
    "from ntf_cython.nmf import nmf\n",
    "from ntf_cython.random import rel_error"
   ]
  },
  {
   "cell_type": "code",
   "execution_count": 47,
   "metadata": {
    "collapsed": false
   },
   "outputs": [
    {
     "name": "stdout",
     "output_type": "stream",
     "text": [
      "The matrix is dense. We use compressed block principal pivoting method\n"
     ]
    },
    {
     "name": "stderr",
     "output_type": "stream",
     "text": [
      "/home/aremirata/.conda/envs/claims/lib/python3.5/site-packages/ntf_cython/nmf.py:196: ConvergenceWarning: Maximum number of iteration 55 reached. Increase it to improve convergence.\n",
      "  ConvergenceWarning)\n",
      "/home/aremirata/.conda/envs/claims/lib/python3.5/site-packages/ntf_cython/nmf.py:196: ConvergenceWarning: Maximum number of iteration 90 reached. Increase it to improve convergence.\n",
      "  ConvergenceWarning)\n",
      "/home/aremirata/.conda/envs/claims/lib/python3.5/site-packages/ntf_cython/nmf.py:196: ConvergenceWarning: Maximum number of iteration 95 reached. Increase it to improve convergence.\n",
      "  ConvergenceWarning)\n",
      "/home/aremirata/.conda/envs/claims/lib/python3.5/site-packages/ntf_cython/nmf.py:196: ConvergenceWarning: Maximum number of iteration 100 reached. Increase it to improve convergence.\n",
      "  ConvergenceWarning)\n",
      "/home/aremirata/.conda/envs/claims/lib/python3.5/site-packages/ntf_cython/nmf.py:196: ConvergenceWarning: Maximum number of iteration 105 reached. Increase it to improve convergence.\n",
      "  ConvergenceWarning)\n",
      "/home/aremirata/.conda/envs/claims/lib/python3.5/site-packages/ntf_cython/nmf.py:196: ConvergenceWarning: Maximum number of iteration 110 reached. Increase it to improve convergence.\n",
      "  ConvergenceWarning)\n",
      "/home/aremirata/.conda/envs/claims/lib/python3.5/site-packages/ntf_cython/nmf.py:196: ConvergenceWarning: Maximum number of iteration 115 reached. Increase it to improve convergence.\n",
      "  ConvergenceWarning)\n",
      "/home/aremirata/.conda/envs/claims/lib/python3.5/site-packages/ntf_cython/nmf.py:196: ConvergenceWarning: Maximum number of iteration 120 reached. Increase it to improve convergence.\n",
      "  ConvergenceWarning)\n",
      "/home/aremirata/.conda/envs/claims/lib/python3.5/site-packages/ntf_cython/nmf.py:196: ConvergenceWarning: Maximum number of iteration 125 reached. Increase it to improve convergence.\n",
      "  ConvergenceWarning)\n",
      "/home/aremirata/.conda/envs/claims/lib/python3.5/site-packages/ntf_cython/nmf.py:196: ConvergenceWarning: Maximum number of iteration 130 reached. Increase it to improve convergence.\n",
      "  ConvergenceWarning)\n",
      "/home/aremirata/.conda/envs/claims/lib/python3.5/site-packages/ntf_cython/nmf.py:196: ConvergenceWarning: Maximum number of iteration 135 reached. Increase it to improve convergence.\n",
      "  ConvergenceWarning)\n",
      "/home/aremirata/.conda/envs/claims/lib/python3.5/site-packages/ntf_cython/nmf.py:196: ConvergenceWarning: Maximum number of iteration 140 reached. Increase it to improve convergence.\n",
      "  ConvergenceWarning)\n",
      "/home/aremirata/.conda/envs/claims/lib/python3.5/site-packages/ntf_cython/nmf.py:196: ConvergenceWarning: Maximum number of iteration 145 reached. Increase it to improve convergence.\n",
      "  ConvergenceWarning)\n",
      "/home/aremirata/.conda/envs/claims/lib/python3.5/site-packages/ntf_cython/nmf.py:196: ConvergenceWarning: Maximum number of iteration 150 reached. Increase it to improve convergence.\n",
      "  ConvergenceWarning)\n",
      "/home/aremirata/.conda/envs/claims/lib/python3.5/site-packages/ntf_cython/nmf.py:196: ConvergenceWarning: Maximum number of iteration 155 reached. Increase it to improve convergence.\n",
      "  ConvergenceWarning)\n",
      "/home/aremirata/.conda/envs/claims/lib/python3.5/site-packages/ntf_cython/nmf.py:196: ConvergenceWarning: Maximum number of iteration 160 reached. Increase it to improve convergence.\n",
      "  ConvergenceWarning)\n",
      "/home/aremirata/.conda/envs/claims/lib/python3.5/site-packages/ntf_cython/nmf.py:196: ConvergenceWarning: Maximum number of iteration 165 reached. Increase it to improve convergence.\n",
      "  ConvergenceWarning)\n",
      "/home/aremirata/.conda/envs/claims/lib/python3.5/site-packages/ntf_cython/nmf.py:196: ConvergenceWarning: Maximum number of iteration 170 reached. Increase it to improve convergence.\n",
      "  ConvergenceWarning)\n",
      "/home/aremirata/.conda/envs/claims/lib/python3.5/site-packages/ntf_cython/nmf.py:196: ConvergenceWarning: Maximum number of iteration 175 reached. Increase it to improve convergence.\n",
      "  ConvergenceWarning)\n",
      "/home/aremirata/.conda/envs/claims/lib/python3.5/site-packages/ntf_cython/nmf.py:196: ConvergenceWarning: Maximum number of iteration 180 reached. Increase it to improve convergence.\n",
      "  ConvergenceWarning)\n",
      "/home/aremirata/.conda/envs/claims/lib/python3.5/site-packages/ntf_cython/nmf.py:196: ConvergenceWarning: Maximum number of iteration 185 reached. Increase it to improve convergence.\n",
      "  ConvergenceWarning)\n",
      "/home/aremirata/.conda/envs/claims/lib/python3.5/site-packages/ntf_cython/nmf.py:196: ConvergenceWarning: Maximum number of iteration 190 reached. Increase it to improve convergence.\n",
      "  ConvergenceWarning)\n",
      "/home/aremirata/.conda/envs/claims/lib/python3.5/site-packages/ntf_cython/nmf.py:196: ConvergenceWarning: Maximum number of iteration 195 reached. Increase it to improve convergence.\n",
      "  ConvergenceWarning)\n",
      "/home/aremirata/.conda/envs/claims/lib/python3.5/site-packages/ntf_cython/nmf.py:196: ConvergenceWarning: Maximum number of iteration 200 reached. Increase it to improve convergence.\n",
      "  ConvergenceWarning)\n",
      "/home/aremirata/.conda/envs/claims/lib/python3.5/site-packages/ntf_cython/nmf.py:196: ConvergenceWarning: Maximum number of iteration 205 reached. Increase it to improve convergence.\n",
      "  ConvergenceWarning)\n",
      "/home/aremirata/.conda/envs/claims/lib/python3.5/site-packages/ntf_cython/nmf.py:196: ConvergenceWarning: Maximum number of iteration 210 reached. Increase it to improve convergence.\n",
      "  ConvergenceWarning)\n",
      "/home/aremirata/.conda/envs/claims/lib/python3.5/site-packages/ntf_cython/nmf.py:196: ConvergenceWarning: Maximum number of iteration 215 reached. Increase it to improve convergence.\n",
      "  ConvergenceWarning)\n",
      "/home/aremirata/.conda/envs/claims/lib/python3.5/site-packages/ntf_cython/nmf.py:196: ConvergenceWarning: Maximum number of iteration 220 reached. Increase it to improve convergence.\n",
      "  ConvergenceWarning)\n",
      "/home/aremirata/.conda/envs/claims/lib/python3.5/site-packages/ntf_cython/nmf.py:196: ConvergenceWarning: Maximum number of iteration 225 reached. Increase it to improve convergence.\n",
      "  ConvergenceWarning)\n",
      "/home/aremirata/.conda/envs/claims/lib/python3.5/site-packages/ntf_cython/nmf.py:196: ConvergenceWarning: Maximum number of iteration 230 reached. Increase it to improve convergence.\n",
      "  ConvergenceWarning)\n",
      "/home/aremirata/.conda/envs/claims/lib/python3.5/site-packages/ntf_cython/nmf.py:196: ConvergenceWarning: Maximum number of iteration 235 reached. Increase it to improve convergence.\n",
      "  ConvergenceWarning)\n",
      "/home/aremirata/.conda/envs/claims/lib/python3.5/site-packages/ntf_cython/nmf.py:196: ConvergenceWarning: Maximum number of iteration 240 reached. Increase it to improve convergence.\n",
      "  ConvergenceWarning)\n",
      "/home/aremirata/.conda/envs/claims/lib/python3.5/site-packages/ntf_cython/nmf.py:196: ConvergenceWarning: Maximum number of iteration 245 reached. Increase it to improve convergence.\n",
      "  ConvergenceWarning)\n",
      "/home/aremirata/.conda/envs/claims/lib/python3.5/site-packages/ntf_cython/nmf.py:196: ConvergenceWarning: Maximum number of iteration 250 reached. Increase it to improve convergence.\n",
      "  ConvergenceWarning)\n",
      "/home/aremirata/.conda/envs/claims/lib/python3.5/site-packages/ntf_cython/nmf.py:196: ConvergenceWarning: Maximum number of iteration 255 reached. Increase it to improve convergence.\n",
      "  ConvergenceWarning)\n",
      "/home/aremirata/.conda/envs/claims/lib/python3.5/site-packages/ntf_cython/nmf.py:196: ConvergenceWarning: Maximum number of iteration 260 reached. Increase it to improve convergence.\n",
      "  ConvergenceWarning)\n",
      "/home/aremirata/.conda/envs/claims/lib/python3.5/site-packages/ntf_cython/nmf.py:196: ConvergenceWarning: Maximum number of iteration 265 reached. Increase it to improve convergence.\n",
      "  ConvergenceWarning)\n",
      "/home/aremirata/.conda/envs/claims/lib/python3.5/site-packages/ntf_cython/nmf.py:196: ConvergenceWarning: Maximum number of iteration 270 reached. Increase it to improve convergence.\n",
      "  ConvergenceWarning)\n",
      "/home/aremirata/.conda/envs/claims/lib/python3.5/site-packages/ntf_cython/nmf.py:196: ConvergenceWarning: Maximum number of iteration 275 reached. Increase it to improve convergence.\n",
      "  ConvergenceWarning)\n",
      "/home/aremirata/.conda/envs/claims/lib/python3.5/site-packages/ntf_cython/nmf.py:196: ConvergenceWarning: Maximum number of iteration 280 reached. Increase it to improve convergence.\n",
      "  ConvergenceWarning)\n",
      "/home/aremirata/.conda/envs/claims/lib/python3.5/site-packages/ntf_cython/nmf.py:196: ConvergenceWarning: Maximum number of iteration 285 reached. Increase it to improve convergence.\n",
      "  ConvergenceWarning)\n",
      "/home/aremirata/.conda/envs/claims/lib/python3.5/site-packages/ntf_cython/nmf.py:196: ConvergenceWarning: Maximum number of iteration 290 reached. Increase it to improve convergence.\n",
      "  ConvergenceWarning)\n",
      "/home/aremirata/.conda/envs/claims/lib/python3.5/site-packages/ntf_cython/nmf.py:196: ConvergenceWarning: Maximum number of iteration 295 reached. Increase it to improve convergence.\n",
      "  ConvergenceWarning)\n",
      "/home/aremirata/.conda/envs/claims/lib/python3.5/site-packages/ntf_cython/nmf.py:196: ConvergenceWarning: Maximum number of iteration 300 reached. Increase it to improve convergence.\n",
      "  ConvergenceWarning)\n",
      "/home/aremirata/.conda/envs/claims/lib/python3.5/site-packages/ntf_cython/nmf.py:196: ConvergenceWarning: Maximum number of iteration 305 reached. Increase it to improve convergence.\n",
      "  ConvergenceWarning)\n",
      "/home/aremirata/.conda/envs/claims/lib/python3.5/site-packages/ntf_cython/nmf.py:196: ConvergenceWarning: Maximum number of iteration 310 reached. Increase it to improve convergence.\n",
      "  ConvergenceWarning)\n",
      "/home/aremirata/.conda/envs/claims/lib/python3.5/site-packages/ntf_cython/nmf.py:196: ConvergenceWarning: Maximum number of iteration 315 reached. Increase it to improve convergence.\n",
      "  ConvergenceWarning)\n",
      "/home/aremirata/.conda/envs/claims/lib/python3.5/site-packages/ntf_cython/nmf.py:196: ConvergenceWarning: Maximum number of iteration 320 reached. Increase it to improve convergence.\n",
      "  ConvergenceWarning)\n",
      "/home/aremirata/.conda/envs/claims/lib/python3.5/site-packages/ntf_cython/nmf.py:196: ConvergenceWarning: Maximum number of iteration 325 reached. Increase it to improve convergence.\n",
      "  ConvergenceWarning)\n",
      "/home/aremirata/.conda/envs/claims/lib/python3.5/site-packages/ntf_cython/nmf.py:196: ConvergenceWarning: Maximum number of iteration 330 reached. Increase it to improve convergence.\n",
      "  ConvergenceWarning)\n",
      "/home/aremirata/.conda/envs/claims/lib/python3.5/site-packages/ntf_cython/nmf.py:196: ConvergenceWarning: Maximum number of iteration 335 reached. Increase it to improve convergence.\n",
      "  ConvergenceWarning)\n",
      "/home/aremirata/.conda/envs/claims/lib/python3.5/site-packages/ntf_cython/nmf.py:196: ConvergenceWarning: Maximum number of iteration 340 reached. Increase it to improve convergence.\n",
      "  ConvergenceWarning)\n",
      "/home/aremirata/.conda/envs/claims/lib/python3.5/site-packages/ntf_cython/nmf.py:196: ConvergenceWarning: Maximum number of iteration 345 reached. Increase it to improve convergence.\n",
      "  ConvergenceWarning)\n",
      "/home/aremirata/.conda/envs/claims/lib/python3.5/site-packages/ntf_cython/nmf.py:196: ConvergenceWarning: Maximum number of iteration 350 reached. Increase it to improve convergence.\n",
      "  ConvergenceWarning)\n",
      "/home/aremirata/.conda/envs/claims/lib/python3.5/site-packages/ntf_cython/nmf.py:196: ConvergenceWarning: Maximum number of iteration 355 reached. Increase it to improve convergence.\n",
      "  ConvergenceWarning)\n",
      "/home/aremirata/.conda/envs/claims/lib/python3.5/site-packages/ntf_cython/nmf.py:196: ConvergenceWarning: Maximum number of iteration 360 reached. Increase it to improve convergence.\n",
      "  ConvergenceWarning)\n",
      "/home/aremirata/.conda/envs/claims/lib/python3.5/site-packages/ntf_cython/nmf.py:196: ConvergenceWarning: Maximum number of iteration 365 reached. Increase it to improve convergence.\n",
      "  ConvergenceWarning)\n",
      "/home/aremirata/.conda/envs/claims/lib/python3.5/site-packages/ntf_cython/nmf.py:196: ConvergenceWarning: Maximum number of iteration 370 reached. Increase it to improve convergence.\n",
      "  ConvergenceWarning)\n",
      "/home/aremirata/.conda/envs/claims/lib/python3.5/site-packages/ntf_cython/nmf.py:196: ConvergenceWarning: Maximum number of iteration 375 reached. Increase it to improve convergence.\n",
      "  ConvergenceWarning)\n",
      "/home/aremirata/.conda/envs/claims/lib/python3.5/site-packages/ntf_cython/nmf.py:196: ConvergenceWarning: Maximum number of iteration 380 reached. Increase it to improve convergence.\n",
      "  ConvergenceWarning)\n",
      "/home/aremirata/.conda/envs/claims/lib/python3.5/site-packages/ntf_cython/nmf.py:196: ConvergenceWarning: Maximum number of iteration 385 reached. Increase it to improve convergence.\n",
      "  ConvergenceWarning)\n",
      "/home/aremirata/.conda/envs/claims/lib/python3.5/site-packages/ntf_cython/nmf.py:196: ConvergenceWarning: Maximum number of iteration 390 reached. Increase it to improve convergence.\n",
      "  ConvergenceWarning)\n",
      "/home/aremirata/.conda/envs/claims/lib/python3.5/site-packages/ntf_cython/nmf.py:196: ConvergenceWarning: Maximum number of iteration 395 reached. Increase it to improve convergence.\n",
      "  ConvergenceWarning)\n",
      "/home/aremirata/.conda/envs/claims/lib/python3.5/site-packages/ntf_cython/nmf.py:196: ConvergenceWarning: Maximum number of iteration 400 reached. Increase it to improve convergence.\n",
      "  ConvergenceWarning)\n",
      "/home/aremirata/.conda/envs/claims/lib/python3.5/site-packages/ntf_cython/nmf.py:196: ConvergenceWarning: Maximum number of iteration 405 reached. Increase it to improve convergence.\n",
      "  ConvergenceWarning)\n",
      "/home/aremirata/.conda/envs/claims/lib/python3.5/site-packages/ntf_cython/nmf.py:196: ConvergenceWarning: Maximum number of iteration 410 reached. Increase it to improve convergence.\n",
      "  ConvergenceWarning)\n",
      "/home/aremirata/.conda/envs/claims/lib/python3.5/site-packages/ntf_cython/nmf.py:196: ConvergenceWarning: Maximum number of iteration 415 reached. Increase it to improve convergence.\n",
      "  ConvergenceWarning)\n",
      "/home/aremirata/.conda/envs/claims/lib/python3.5/site-packages/ntf_cython/nmf.py:196: ConvergenceWarning: Maximum number of iteration 420 reached. Increase it to improve convergence.\n",
      "  ConvergenceWarning)\n",
      "/home/aremirata/.conda/envs/claims/lib/python3.5/site-packages/ntf_cython/nmf.py:196: ConvergenceWarning: Maximum number of iteration 425 reached. Increase it to improve convergence.\n",
      "  ConvergenceWarning)\n",
      "/home/aremirata/.conda/envs/claims/lib/python3.5/site-packages/ntf_cython/nmf.py:196: ConvergenceWarning: Maximum number of iteration 430 reached. Increase it to improve convergence.\n",
      "  ConvergenceWarning)\n",
      "/home/aremirata/.conda/envs/claims/lib/python3.5/site-packages/ntf_cython/nmf.py:196: ConvergenceWarning: Maximum number of iteration 435 reached. Increase it to improve convergence.\n",
      "  ConvergenceWarning)\n",
      "/home/aremirata/.conda/envs/claims/lib/python3.5/site-packages/ntf_cython/nmf.py:196: ConvergenceWarning: Maximum number of iteration 440 reached. Increase it to improve convergence.\n",
      "  ConvergenceWarning)\n",
      "/home/aremirata/.conda/envs/claims/lib/python3.5/site-packages/ntf_cython/nmf.py:196: ConvergenceWarning: Maximum number of iteration 445 reached. Increase it to improve convergence.\n",
      "  ConvergenceWarning)\n",
      "/home/aremirata/.conda/envs/claims/lib/python3.5/site-packages/ntf_cython/nmf.py:196: ConvergenceWarning: Maximum number of iteration 450 reached. Increase it to improve convergence.\n",
      "  ConvergenceWarning)\n",
      "/home/aremirata/.conda/envs/claims/lib/python3.5/site-packages/ntf_cython/nmf.py:196: ConvergenceWarning: Maximum number of iteration 455 reached. Increase it to improve convergence.\n",
      "  ConvergenceWarning)\n",
      "/home/aremirata/.conda/envs/claims/lib/python3.5/site-packages/ntf_cython/nmf.py:196: ConvergenceWarning: Maximum number of iteration 460 reached. Increase it to improve convergence.\n",
      "  ConvergenceWarning)\n",
      "/home/aremirata/.conda/envs/claims/lib/python3.5/site-packages/ntf_cython/nmf.py:196: ConvergenceWarning: Maximum number of iteration 465 reached. Increase it to improve convergence.\n",
      "  ConvergenceWarning)\n",
      "/home/aremirata/.conda/envs/claims/lib/python3.5/site-packages/ntf_cython/nmf.py:196: ConvergenceWarning: Maximum number of iteration 470 reached. Increase it to improve convergence.\n",
      "  ConvergenceWarning)\n",
      "/home/aremirata/.conda/envs/claims/lib/python3.5/site-packages/ntf_cython/nmf.py:196: ConvergenceWarning: Maximum number of iteration 475 reached. Increase it to improve convergence.\n",
      "  ConvergenceWarning)\n",
      "/home/aremirata/.conda/envs/claims/lib/python3.5/site-packages/ntf_cython/nmf.py:196: ConvergenceWarning: Maximum number of iteration 480 reached. Increase it to improve convergence.\n",
      "  ConvergenceWarning)\n",
      "/home/aremirata/.conda/envs/claims/lib/python3.5/site-packages/ntf_cython/nmf.py:196: ConvergenceWarning: Maximum number of iteration 485 reached. Increase it to improve convergence.\n",
      "  ConvergenceWarning)\n",
      "/home/aremirata/.conda/envs/claims/lib/python3.5/site-packages/ntf_cython/nmf.py:196: ConvergenceWarning: Maximum number of iteration 490 reached. Increase it to improve convergence.\n",
      "  ConvergenceWarning)\n",
      "/home/aremirata/.conda/envs/claims/lib/python3.5/site-packages/ntf_cython/nmf.py:196: ConvergenceWarning: Maximum number of iteration 495 reached. Increase it to improve convergence.\n",
      "  ConvergenceWarning)\n",
      "/home/aremirata/.conda/envs/claims/lib/python3.5/site-packages/ntf_cython/nmf.py:196: ConvergenceWarning: Maximum number of iteration 500 reached. Increase it to improve convergence.\n",
      "  ConvergenceWarning)\n"
     ]
    },
    {
     "name": "stdout",
     "output_type": "stream",
     "text": [
      "CPU times: user 22h 57min 33s, sys: 1h 33min 24s, total: 1d 30min 58s\n",
      "Wall time: 4h 35s\n"
     ]
    }
   ],
   "source": [
    "%%time\n",
    "U, V, relative_error = structured_randomized_bppnmf(data, q=10, r=100, max_iter = 200, eps = 0.00001, oversampling = 20, \n",
    "                     oversampling_factor = 20, random_state=42)"
   ]
  },
  {
   "cell_type": "code",
   "execution_count": 49,
   "metadata": {
    "collapsed": false,
    "scrolled": true
   },
   "outputs": [
    {
     "data": {
      "text/plain": [
       "[<matplotlib.lines.Line2D at 0x7faf1bdd6080>]"
      ]
     },
     "execution_count": 49,
     "metadata": {},
     "output_type": "execute_result"
    },
    {
     "name": "stderr",
     "output_type": "stream",
     "text": [
      "/home/aremirata/.conda/envs/claims/lib/python3.5/site-packages/matplotlib/font_manager.py:1297: UserWarning: findfont: Font family ['sans-serif'] not found. Falling back to DejaVu Sans\n",
      "  (prop.get_family(), self.defaultFamily[fontext]))\n"
     ]
    },
    {
     "data": {
      "image/png": "[encoded data removed]",
      "text/plain": [
       "<matplotlib.figure.Figure at 0x7faf1a4546a0>"
      ]
     },
     "metadata": {},
     "output_type": "display_data"
    }
   ],
   "source": [
    "plt.plot(relative_error)"
   ]
  },
  {
   "cell_type": "code",
   "execution_count": 48,
   "metadata": {
    "collapsed": false
   },
   "outputs": [
    {
     "name": "stderr",
     "output_type": "stream",
     "text": [
      "/home/aremirata/.conda/envs/claims/lib/python3.5/site-packages/ipykernel/__main__.py:1: DeprecationWarning: The file '/home/aremirata/thesis/compressednmf/U_compressed.jl' has been generated with a joblib version less than 0.10. Please regenerate this pickle file.\n",
      "  if __name__ == '__main__':\n",
      "/home/aremirata/.conda/envs/claims/lib/python3.5/site-packages/ipykernel/__main__.py:2: DeprecationWarning: The file '/home/aremirata/thesis/compressednmf/V_compressed.jl' has been generated with a joblib version less than 0.10. Please regenerate this pickle file.\n",
      "  from ipykernel import kernelapp as app\n"
     ]
    }
   ],
   "source": [
    "W = joblib.load('/home/aremirata/thesis/compressednmf/U_compressed.jl')\n",
    "H = joblib.load('/home/aremirata/thesis/compressednmf/V_compressed.jl')\n",
    "rel_errors = joblib.load('/home/aremirata/thesis/compressednmf/relative_error_compressed.jl')"
   ]
  },
  {
   "cell_type": "code",
   "execution_count": 49,
   "metadata": {
    "collapsed": true
   },
   "outputs": [],
   "source": [
    "X = W\n",
    "y = np.stack(dataset_df['target'].as_matrix(),axis=0)"
   ]
  },
  {
   "cell_type": "code",
   "execution_count": 50,
   "metadata": {
    "collapsed": false
   },
   "outputs": [],
   "source": [
    "X_train, X_test, y_train, y_test = train_test_split(X, y, test_size=0.33, random_state=42)"
   ]
  },
  {
   "cell_type": "code",
   "execution_count": 51,
   "metadata": {
    "collapsed": true
   },
   "outputs": [],
   "source": [
    "from sklearn.preprocessing import label_binarize\n",
    "from sklearn.multiclass import OneVsRestClassifier\n",
    "from sklearn.metrics import roc_curve, auc\n",
    "from collections import Counter"
   ]
  },
  {
   "cell_type": "code",
   "execution_count": 52,
   "metadata": {
    "collapsed": false
   },
   "outputs": [
    {
     "data": {
      "text/plain": [
       "Counter({0: 17, 1: 70})"
      ]
     },
     "execution_count": 52,
     "metadata": {},
     "output_type": "execute_result"
    }
   ],
   "source": [
    "Counter(y_train)"
   ]
  },
  {
   "cell_type": "code",
   "execution_count": 53,
   "metadata": {
    "collapsed": true
   },
   "outputs": [],
   "source": [
    "def build_models(X, y, classifier=None, samplers=None):\n",
    "    \n",
    "    \"\"\"\n",
    "    Train model using the given training set and validate it through the validation set.\n",
    "    If plot is true, the function plots the roc curve.\n",
    "    \n",
    "    Parameters\n",
    "    ----------\n",
    "    X: 2D-array\n",
    "        Contains features from the dimension reduction methods used\n",
    "        for training the dataset\n",
    "    y: \n",
    "        The target variable we want to predict\n",
    "    classifier: ist\n",
    "        list of Scikit-learn model and its corresponding name\n",
    "    samplers: str\n",
    "        list of list of resampling models from imblearn module\n",
    "    \"\"\"\n",
    "    \n",
    "    best_model = None\n",
    "    best_roc = -1\n",
    "    \n",
    "    cv = StratifiedKFold(n_splits=3)\n",
    "    \n",
    "    pipelines = [['{}-{}'.format(sampler[0], classifier[0]), make_pipeline(sampler[1], classifier[1])] for sampler in samplers]\n",
    "\n",
    "    fig = plt.figure()\n",
    "    ax = fig.add_subplot(1, 1, 1)\n",
    "    \n",
    "    for name, pipeline in pipelines:\n",
    "        mean_tpr = 0.0\n",
    "        mean_fpr = np.linspace(0, 1, 100)\n",
    "        recalls = []\n",
    "        \n",
    "        for train, test in cv.split(X, y):\n",
    "            \n",
    "            pipeline.fit(X[train], y[train])\n",
    "            pred_proba = pipeline.predict_proba(X[test])[:,1]\n",
    "            fpr, tpr, thresholds = roc_curve(y[test], pred_proba)\n",
    "            recalls.append(recall_score(y[test], pred_proba > 0.5))\n",
    "            \n",
    "            mean_tpr += interp(mean_fpr, fpr, tpr)\n",
    "            mean_tpr[0] = 0.0\n",
    "            roc_auc = auc(fpr, tpr)\n",
    "            \n",
    "            if roc_auc > best_roc:\n",
    "                best_roc = roc_auc\n",
    "                best_model = pipeline\n",
    "                \n",
    "\n",
    "        mean_tpr /= cv.get_n_splits(X, y)\n",
    "        mean_tpr[-1] = 1.0\n",
    "        mean_auc = auc(mean_fpr, mean_tpr)\n",
    "        plt.plot(mean_fpr, mean_tpr, linestyle='--',\n",
    "                 label='%s: (AUROC : %.3f), MeanTPR: %.3f)'% (name, mean_auc, np.array(recalls).mean()), lw=2)\n",
    "\n",
    "    plt.plot([0, 1], [0, 1], linestyle='--', lw=2, color='k',\n",
    "             label='Luck')\n",
    "\n",
    "    # make nice plotting\n",
    "    ax.spines['top'].set_visible(False)\n",
    "    ax.spines['right'].set_visible(False)\n",
    "    ax.get_xaxis().tick_bottom()\n",
    "    ax.get_yaxis().tick_left()\n",
    "    ax.spines['left'].set_position(('outward', 10))\n",
    "    ax.spines['bottom'].set_position(('outward', 10))\n",
    "    plt.xlim([0, 1])\n",
    "    plt.ylim([0, 1])\n",
    "    plt.xlabel('False Positive Rate')\n",
    "    plt.ylabel('True Positive Rate')\n",
    "    plt.title('Receiver operating characteristic example')\n",
    "\n",
    "    plt.legend(loc=\"lower right\")\n",
    "\n",
    "    plt.show()\n",
    "    \n",
    "    return best_model"
   ]
  },
  {
   "cell_type": "code",
   "execution_count": 54,
   "metadata": {
    "collapsed": false
   },
   "outputs": [
    {
     "name": "stderr",
     "output_type": "stream",
     "text": [
      "/home/aremirata/.conda/envs/claims/lib/python3.5/site-packages/matplotlib/font_manager.py:1297: UserWarning: findfont: Font family ['sans-serif'] not found. Falling back to DejaVu Sans\n",
      "  (prop.get_family(), self.defaultFamily[fontext]))\n"
     ]
    },
    {
     "data": {
      "image/png": "[encoded data removed]",
      "text/plain": [
       "<matplotlib.figure.Figure at 0x7f48308c6cc0>"
      ]
     },
     "metadata": {},
     "output_type": "display_data"
    }
   ],
   "source": [
    "RANDOM_STATE = 42\n",
    "sampl = [['ADASYN', ADASYN(random_state=RANDOM_STATE)],\n",
    "    ['ROS', RandomOverSampler(random_state=RANDOM_STATE)],\n",
    "    ['SMOTE', SMOTE(random_state=RANDOM_STATE)],\n",
    "        ['RandomUnderSampler', RandomUnderSampler(random_state=RANDOM_STATE)]]\n",
    "nmf_xgb = ['xgbclassifier', xgb.XGBClassifier(learning_rate = 0.05, n_estimators=300, max_depth=3)]\n",
    "nmfxgb_model = build_models(X_train, y_train, nmf_xgb, sampl)"
   ]
  },
  {
   "cell_type": "code",
   "execution_count": 55,
   "metadata": {
    "collapsed": false
   },
   "outputs": [
    {
     "name": "stderr",
     "output_type": "stream",
     "text": [
      "/home/aremirata/.conda/envs/claims/lib/python3.5/site-packages/matplotlib/font_manager.py:1297: UserWarning: findfont: Font family ['sans-serif'] not found. Falling back to DejaVu Sans\n",
      "  (prop.get_family(), self.defaultFamily[fontext]))\n"
     ]
    },
    {
     "data": {
      "image/png": "[encoded data removed]",
      "text/plain": [
       "<matplotlib.figure.Figure at 0x7f48308c6f28>"
      ]
     },
     "metadata": {},
     "output_type": "display_data"
    }
   ],
   "source": [
    "RANDOM_STATE = 42\n",
    "sampl = [['ADASYN', ADASYN(random_state=RANDOM_STATE)],\n",
    "    ['ROS', RandomOverSampler(random_state=RANDOM_STATE)],\n",
    "    ['SMOTE', SMOTE(random_state=RANDOM_STATE)],\n",
    "        ['RandomUnderSampler', RandomUnderSampler(random_state=RANDOM_STATE)]]\n",
    "nmf_xgb = ['xgbclassifier', xgb.XGBClassifier()]\n",
    "nmfxgb_model = build_models(X_train, y_train, nmf_xgb, sampl)"
   ]
  },
  {
   "cell_type": "code",
   "execution_count": 56,
   "metadata": {
    "collapsed": false
   },
   "outputs": [
    {
     "name": "stdout",
     "output_type": "stream",
     "text": [
      "The accuracy score using xgboost classifier is 0.6511627906976745\n",
      "The roc auc score using xgboost classifier is 0.5526315789473684\n"
     ]
    }
   ],
   "source": [
    "xgboost = nmfxgb_model\n",
    "xgboost.fit(X_train, y_train)\n",
    "y_pred_class = xgboost.predict(X_test)\n",
    "y_pred_proba = xgboost.predict_proba(X_test)[:,1]\n",
    "print(\"The accuracy score using {} classifier is {}\".format('xgboost',metrics.accuracy_score(y_test, y_pred_class)))  \n",
    "print(\"The roc auc score using {} classifier is {}\".format('xgboost',metrics.roc_auc_score(y_test, y_pred_proba)))"
   ]
  },
  {
   "cell_type": "code",
   "execution_count": null,
   "metadata": {
    "collapsed": true
   },
   "outputs": [],
   "source": []
  }
 ],
 "metadata": {
  "kernelspec": {
   "display_name": "claims",
   "language": "python",
   "name": "claims"
  },
  "language_info": {
   "codemirror_mode": {
    "name": "ipython",
    "version": 3
   },
   "file_extension": ".py",
   "mimetype": "text/x-python",
   "name": "python",
   "nbconvert_exporter": "python",
   "pygments_lexer": "ipython3",
   "version": "3.5.3"
  }
 },
 "nbformat": 4,
 "nbformat_minor": 2
}
