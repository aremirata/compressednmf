{
 "cells": [
  {
   "cell_type": "code",
   "execution_count": 1,
   "metadata": {
    "collapsed": false
   },
   "outputs": [],
   "source": [
    "import numpy as np\n",
    "import pandas as pd\n",
    "import matplotlib.pyplot as plt\n",
    "from scipy.sparse import coo_matrix, issparse\n",
    "from scipy.sparse.linalg import norm as spnorm\n",
    "import pickle\n",
    "import sklearn\n",
    "from scipy import sparse\n",
    "from ntf_cython.random import rel_error\n",
    "from nmf_compressed.compression import algo41, algo43, algo45, algo46, structured_compression, count_gauss\n",
    "from nmf_compressed.sparse_compression import algo41_sparse\n",
    "from sklearn.decomposition.nmf import _initialize_nmf\n",
    "from nmf_compressed.structured_nmf import structured_randomized_bppnmf\n",
    "from numpy.linalg import norm, solve\n",
    "from ntf_cython.nmf import nmf\n",
    "\n",
    "\n",
    "%matplotlib inline"
   ]
  },
  {
   "cell_type": "markdown",
   "metadata": {},
   "source": [
    "## Using Randomly Generated Synthetic Data"
   ]
  },
  {
   "cell_type": "code",
   "execution_count": 2,
   "metadata": {
    "collapsed": false
   },
   "outputs": [],
   "source": [
    "m = 10000\n",
    "n = 1000\n",
    "np.random.seed(0)\n",
    "A = np.abs(np.random.randn(m, n))\n",
    "r = 400"
   ]
  },
  {
   "cell_type": "markdown",
   "metadata": {},
   "source": [
    "# Dense Random Matrices "
   ]
  },
  {
   "cell_type": "markdown",
   "metadata": {},
   "source": [
    "# COMPRESSED NMF WITH ALGO 42"
   ]
  },
  {
   "cell_type": "code",
   "execution_count": 3,
   "metadata": {
    "collapsed": false
   },
   "outputs": [
    {
     "name": "stdout",
     "output_type": "stream",
     "text": [
      "The matrix is dense. We use compressed block principal pivoting method\n",
      "CPU times: user 16min 40s, sys: 1min 31s, total: 18min 12s\n",
      "Wall time: 10min 45s\n"
     ]
    }
   ],
   "source": [
    "%%time\n",
    "U, V, relative_error = structured_randomized_bppnmf(A, algo='algo42', q=10, r=r, max_iter = 200, eps = 0.00001, oversampling = 20, \n",
    "                     oversampling_factor = 20, random_state=2)"
   ]
  },
  {
   "cell_type": "code",
   "execution_count": 4,
   "metadata": {
    "collapsed": false
   },
   "outputs": [
    {
     "data": {
      "text/plain": [
       "[<matplotlib.lines.Line2D at 0x10aaebcc0>]"
      ]
     },
     "execution_count": 4,
     "metadata": {},
     "output_type": "execute_result"
    },
    {
     "data": {
      "image/png": "[encoded data removed]",
      "text/plain": [
       "<matplotlib.figure.Figure at 0x113a1dbe0>"
      ]
     },
     "metadata": {},
     "output_type": "display_data"
    }
   ],
   "source": [
    "plt.plot(relative_error)"
   ]
  },
  {
   "cell_type": "code",
   "execution_count": 5,
   "metadata": {
    "collapsed": false
   },
   "outputs": [
    {
     "data": {
      "text/plain": [
       "0.56761257692166922"
      ]
     },
     "execution_count": 5,
     "metadata": {},
     "output_type": "execute_result"
    }
   ],
   "source": [
    "rel_error(A, U.dot(V))"
   ]
  },
  {
   "cell_type": "markdown",
   "metadata": {},
   "source": [
    "# COMPRESSED NMF WITH ALGO 41"
   ]
  },
  {
   "cell_type": "code",
   "execution_count": 6,
   "metadata": {
    "collapsed": false
   },
   "outputs": [
    {
     "name": "stdout",
     "output_type": "stream",
     "text": [
      "The matrix is dense. We use compressed block principal pivoting method\n"
     ]
    },
    {
     "name": "stderr",
     "output_type": "stream",
     "text": [
      "/Users/user/anaconda3/envs/7mw/lib/python3.5/site-packages/sklearn/utils/deprecation.py:52: DeprecationWarning: Class ConvergenceWarning is deprecated; ConvergenceWarning has been moved into the sklearn.exceptions module. It will not be available here from version 0.19\n",
      "  warnings.warn(msg, category=DeprecationWarning)\n",
      "/Users/user/anaconda3/envs/7mw/lib/python3.5/site-packages/ntf_cython/nmf.py:196: ConvergenceWarning: Maximum number of iteration 1915 reached. Increase it to improve convergence.\n",
      "  ConvergenceWarning)\n",
      "/Users/user/anaconda3/envs/7mw/lib/python3.5/site-packages/sklearn/utils/deprecation.py:52: DeprecationWarning: Class ConvergenceWarning is deprecated; ConvergenceWarning has been moved into the sklearn.exceptions module. It will not be available here from version 0.19\n",
      "  warnings.warn(msg, category=DeprecationWarning)\n",
      "/Users/user/anaconda3/envs/7mw/lib/python3.5/site-packages/ntf_cython/nmf.py:196: ConvergenceWarning: Maximum number of iteration 1920 reached. Increase it to improve convergence.\n",
      "  ConvergenceWarning)\n",
      "/Users/user/anaconda3/envs/7mw/lib/python3.5/site-packages/sklearn/utils/deprecation.py:52: DeprecationWarning: Class ConvergenceWarning is deprecated; ConvergenceWarning has been moved into the sklearn.exceptions module. It will not be available here from version 0.19\n",
      "  warnings.warn(msg, category=DeprecationWarning)\n",
      "/Users/user/anaconda3/envs/7mw/lib/python3.5/site-packages/ntf_cython/nmf.py:196: ConvergenceWarning: Maximum number of iteration 1925 reached. Increase it to improve convergence.\n",
      "  ConvergenceWarning)\n",
      "/Users/user/anaconda3/envs/7mw/lib/python3.5/site-packages/sklearn/utils/deprecation.py:52: DeprecationWarning: Class ConvergenceWarning is deprecated; ConvergenceWarning has been moved into the sklearn.exceptions module. It will not be available here from version 0.19\n",
      "  warnings.warn(msg, category=DeprecationWarning)\n",
      "/Users/user/anaconda3/envs/7mw/lib/python3.5/site-packages/ntf_cython/nmf.py:196: ConvergenceWarning: Maximum number of iteration 1930 reached. Increase it to improve convergence.\n",
      "  ConvergenceWarning)\n",
      "/Users/user/anaconda3/envs/7mw/lib/python3.5/site-packages/sklearn/utils/deprecation.py:52: DeprecationWarning: Class ConvergenceWarning is deprecated; ConvergenceWarning has been moved into the sklearn.exceptions module. It will not be available here from version 0.19\n",
      "  warnings.warn(msg, category=DeprecationWarning)\n",
      "/Users/user/anaconda3/envs/7mw/lib/python3.5/site-packages/ntf_cython/nmf.py:196: ConvergenceWarning: Maximum number of iteration 1935 reached. Increase it to improve convergence.\n",
      "  ConvergenceWarning)\n",
      "/Users/user/anaconda3/envs/7mw/lib/python3.5/site-packages/sklearn/utils/deprecation.py:52: DeprecationWarning: Class ConvergenceWarning is deprecated; ConvergenceWarning has been moved into the sklearn.exceptions module. It will not be available here from version 0.19\n",
      "  warnings.warn(msg, category=DeprecationWarning)\n",
      "/Users/user/anaconda3/envs/7mw/lib/python3.5/site-packages/ntf_cython/nmf.py:196: ConvergenceWarning: Maximum number of iteration 1940 reached. Increase it to improve convergence.\n",
      "  ConvergenceWarning)\n",
      "/Users/user/anaconda3/envs/7mw/lib/python3.5/site-packages/sklearn/utils/deprecation.py:52: DeprecationWarning: Class ConvergenceWarning is deprecated; ConvergenceWarning has been moved into the sklearn.exceptions module. It will not be available here from version 0.19\n",
      "  warnings.warn(msg, category=DeprecationWarning)\n",
      "/Users/user/anaconda3/envs/7mw/lib/python3.5/site-packages/ntf_cython/nmf.py:196: ConvergenceWarning: Maximum number of iteration 1945 reached. Increase it to improve convergence.\n",
      "  ConvergenceWarning)\n",
      "/Users/user/anaconda3/envs/7mw/lib/python3.5/site-packages/sklearn/utils/deprecation.py:52: DeprecationWarning: Class ConvergenceWarning is deprecated; ConvergenceWarning has been moved into the sklearn.exceptions module. It will not be available here from version 0.19\n",
      "  warnings.warn(msg, category=DeprecationWarning)\n",
      "/Users/user/anaconda3/envs/7mw/lib/python3.5/site-packages/ntf_cython/nmf.py:196: ConvergenceWarning: Maximum number of iteration 1950 reached. Increase it to improve convergence.\n",
      "  ConvergenceWarning)\n",
      "/Users/user/anaconda3/envs/7mw/lib/python3.5/site-packages/sklearn/utils/deprecation.py:52: DeprecationWarning: Class ConvergenceWarning is deprecated; ConvergenceWarning has been moved into the sklearn.exceptions module. It will not be available here from version 0.19\n",
      "  warnings.warn(msg, category=DeprecationWarning)\n",
      "/Users/user/anaconda3/envs/7mw/lib/python3.5/site-packages/ntf_cython/nmf.py:196: ConvergenceWarning: Maximum number of iteration 1955 reached. Increase it to improve convergence.\n",
      "  ConvergenceWarning)\n",
      "/Users/user/anaconda3/envs/7mw/lib/python3.5/site-packages/sklearn/utils/deprecation.py:52: DeprecationWarning: Class ConvergenceWarning is deprecated; ConvergenceWarning has been moved into the sklearn.exceptions module. It will not be available here from version 0.19\n",
      "  warnings.warn(msg, category=DeprecationWarning)\n",
      "/Users/user/anaconda3/envs/7mw/lib/python3.5/site-packages/ntf_cython/nmf.py:196: ConvergenceWarning: Maximum number of iteration 1960 reached. Increase it to improve convergence.\n",
      "  ConvergenceWarning)\n",
      "/Users/user/anaconda3/envs/7mw/lib/python3.5/site-packages/sklearn/utils/deprecation.py:52: DeprecationWarning: Class ConvergenceWarning is deprecated; ConvergenceWarning has been moved into the sklearn.exceptions module. It will not be available here from version 0.19\n",
      "  warnings.warn(msg, category=DeprecationWarning)\n",
      "/Users/user/anaconda3/envs/7mw/lib/python3.5/site-packages/ntf_cython/nmf.py:196: ConvergenceWarning: Maximum number of iteration 1965 reached. Increase it to improve convergence.\n",
      "  ConvergenceWarning)\n",
      "/Users/user/anaconda3/envs/7mw/lib/python3.5/site-packages/sklearn/utils/deprecation.py:52: DeprecationWarning: Class ConvergenceWarning is deprecated; ConvergenceWarning has been moved into the sklearn.exceptions module. It will not be available here from version 0.19\n",
      "  warnings.warn(msg, category=DeprecationWarning)\n",
      "/Users/user/anaconda3/envs/7mw/lib/python3.5/site-packages/ntf_cython/nmf.py:196: ConvergenceWarning: Maximum number of iteration 1970 reached. Increase it to improve convergence.\n",
      "  ConvergenceWarning)\n",
      "/Users/user/anaconda3/envs/7mw/lib/python3.5/site-packages/sklearn/utils/deprecation.py:52: DeprecationWarning: Class ConvergenceWarning is deprecated; ConvergenceWarning has been moved into the sklearn.exceptions module. It will not be available here from version 0.19\n",
      "  warnings.warn(msg, category=DeprecationWarning)\n",
      "/Users/user/anaconda3/envs/7mw/lib/python3.5/site-packages/ntf_cython/nmf.py:196: ConvergenceWarning: Maximum number of iteration 1975 reached. Increase it to improve convergence.\n",
      "  ConvergenceWarning)\n",
      "/Users/user/anaconda3/envs/7mw/lib/python3.5/site-packages/sklearn/utils/deprecation.py:52: DeprecationWarning: Class ConvergenceWarning is deprecated; ConvergenceWarning has been moved into the sklearn.exceptions module. It will not be available here from version 0.19\n",
      "  warnings.warn(msg, category=DeprecationWarning)\n",
      "/Users/user/anaconda3/envs/7mw/lib/python3.5/site-packages/ntf_cython/nmf.py:196: ConvergenceWarning: Maximum number of iteration 1980 reached. Increase it to improve convergence.\n",
      "  ConvergenceWarning)\n",
      "/Users/user/anaconda3/envs/7mw/lib/python3.5/site-packages/sklearn/utils/deprecation.py:52: DeprecationWarning: Class ConvergenceWarning is deprecated; ConvergenceWarning has been moved into the sklearn.exceptions module. It will not be available here from version 0.19\n",
      "  warnings.warn(msg, category=DeprecationWarning)\n",
      "/Users/user/anaconda3/envs/7mw/lib/python3.5/site-packages/ntf_cython/nmf.py:196: ConvergenceWarning: Maximum number of iteration 1985 reached. Increase it to improve convergence.\n",
      "  ConvergenceWarning)\n",
      "/Users/user/anaconda3/envs/7mw/lib/python3.5/site-packages/sklearn/utils/deprecation.py:52: DeprecationWarning: Class ConvergenceWarning is deprecated; ConvergenceWarning has been moved into the sklearn.exceptions module. It will not be available here from version 0.19\n",
      "  warnings.warn(msg, category=DeprecationWarning)\n",
      "/Users/user/anaconda3/envs/7mw/lib/python3.5/site-packages/ntf_cython/nmf.py:196: ConvergenceWarning: Maximum number of iteration 1990 reached. Increase it to improve convergence.\n",
      "  ConvergenceWarning)\n",
      "/Users/user/anaconda3/envs/7mw/lib/python3.5/site-packages/sklearn/utils/deprecation.py:52: DeprecationWarning: Class ConvergenceWarning is deprecated; ConvergenceWarning has been moved into the sklearn.exceptions module. It will not be available here from version 0.19\n",
      "  warnings.warn(msg, category=DeprecationWarning)\n",
      "/Users/user/anaconda3/envs/7mw/lib/python3.5/site-packages/ntf_cython/nmf.py:196: ConvergenceWarning: Maximum number of iteration 1995 reached. Increase it to improve convergence.\n",
      "  ConvergenceWarning)\n",
      "/Users/user/anaconda3/envs/7mw/lib/python3.5/site-packages/sklearn/utils/deprecation.py:52: DeprecationWarning: Class ConvergenceWarning is deprecated; ConvergenceWarning has been moved into the sklearn.exceptions module. It will not be available here from version 0.19\n",
      "  warnings.warn(msg, category=DeprecationWarning)\n",
      "/Users/user/anaconda3/envs/7mw/lib/python3.5/site-packages/ntf_cython/nmf.py:196: ConvergenceWarning: Maximum number of iteration 2000 reached. Increase it to improve convergence.\n",
      "  ConvergenceWarning)\n",
      "/Users/user/anaconda3/envs/7mw/lib/python3.5/site-packages/sklearn/utils/deprecation.py:52: DeprecationWarning: Class ConvergenceWarning is deprecated; ConvergenceWarning has been moved into the sklearn.exceptions module. It will not be available here from version 0.19\n",
      "  warnings.warn(msg, category=DeprecationWarning)\n",
      "/Users/user/anaconda3/envs/7mw/lib/python3.5/site-packages/sklearn/utils/deprecation.py:52: DeprecationWarning: Class ConvergenceWarning is deprecated; ConvergenceWarning has been moved into the sklearn.exceptions module. It will not be available here from version 0.19\n",
      "  warnings.warn(msg, category=DeprecationWarning)\n"
     ]
    },
    {
     "name": "stdout",
     "output_type": "stream",
     "text": [
      "CPU times: user 1h 37min 58s, sys: 3min 8s, total: 1h 41min 6s\n",
      "Wall time: 1h 1min 50s\n"
     ]
    }
   ],
   "source": [
    "%%time\n",
    "U, V, relative_error = structured_randomized_bppnmf(A, algo='algo41', q=20, r=r, max_iter = 200, eps = 0.00001, oversampling = 20, \n",
    "                     oversampling_factor = 20, random_state=2)"
   ]
  },
  {
   "cell_type": "code",
   "execution_count": 7,
   "metadata": {
    "collapsed": false
   },
   "outputs": [
    {
     "data": {
      "text/plain": [
       "[<matplotlib.lines.Line2D at 0x1148e4898>]"
      ]
     },
     "execution_count": 7,
     "metadata": {},
     "output_type": "execute_result"
    },
    {
     "data": {
      "image/png": "[encoded data removed]",
      "text/plain": [
       "<matplotlib.figure.Figure at 0x113a1d6a0>"
      ]
     },
     "metadata": {},
     "output_type": "display_data"
    }
   ],
   "source": [
    "plt.plot(relative_error)"
   ]
  },
  {
   "cell_type": "markdown",
   "metadata": {},
   "source": [
    "# COMPRESSED BPP WITH QR"
   ]
  },
  {
   "cell_type": "code",
   "execution_count": 8,
   "metadata": {
    "collapsed": false
   },
   "outputs": [
    {
     "name": "stdout",
     "output_type": "stream",
     "text": [
      "The matrix is dense. We use compressed block principal pivoting method\n",
      "CPU times: user 16min 28s, sys: 1min 32s, total: 18min 1s\n",
      "Wall time: 10min 50s\n"
     ]
    }
   ],
   "source": [
    "%%time\n",
    "U, V, relative_error = structured_randomized_bppnmf(A, q=10, r=r, max_iter = 200, eps = 0.00001, oversampling = 20, \n",
    "                     oversampling_factor = 20, random_state=2)"
   ]
  },
  {
   "cell_type": "code",
   "execution_count": 9,
   "metadata": {
    "collapsed": false
   },
   "outputs": [
    {
     "data": {
      "text/plain": [
       "[<matplotlib.lines.Line2D at 0x1156b2e10>]"
      ]
     },
     "execution_count": 9,
     "metadata": {},
     "output_type": "execute_result"
    },
    {
     "data": {
      "image/png": "[encoded data removed]",
      "text/plain": [
       "<matplotlib.figure.Figure at 0x1148a9080>"
      ]
     },
     "metadata": {},
     "output_type": "display_data"
    }
   ],
   "source": [
    "plt.plot(relative_error)"
   ]
  },
  {
   "cell_type": "markdown",
   "metadata": {},
   "source": [
    "# COMPRESSED BPP WITH ALGO43"
   ]
  },
  {
   "cell_type": "code",
   "execution_count": 10,
   "metadata": {
    "collapsed": false
   },
   "outputs": [
    {
     "name": "stdout",
     "output_type": "stream",
     "text": [
      "The matrix is dense. We use compressed block principal pivoting method\n"
     ]
    },
    {
     "name": "stderr",
     "output_type": "stream",
     "text": [
      "/Users/user/anaconda3/envs/7mw/lib/python3.5/site-packages/sklearn/utils/deprecation.py:52: DeprecationWarning: Class ConvergenceWarning is deprecated; ConvergenceWarning has been moved into the sklearn.exceptions module. It will not be available here from version 0.19\n",
      "  warnings.warn(msg, category=DeprecationWarning)\n",
      "/Users/user/anaconda3/envs/7mw/lib/python3.5/site-packages/ntf_cython/nmf.py:196: ConvergenceWarning: Maximum number of iteration 1925 reached. Increase it to improve convergence.\n",
      "  ConvergenceWarning)\n",
      "/Users/user/anaconda3/envs/7mw/lib/python3.5/site-packages/sklearn/utils/deprecation.py:52: DeprecationWarning: Class ConvergenceWarning is deprecated; ConvergenceWarning has been moved into the sklearn.exceptions module. It will not be available here from version 0.19\n",
      "  warnings.warn(msg, category=DeprecationWarning)\n",
      "/Users/user/anaconda3/envs/7mw/lib/python3.5/site-packages/ntf_cython/nmf.py:196: ConvergenceWarning: Maximum number of iteration 1930 reached. Increase it to improve convergence.\n",
      "  ConvergenceWarning)\n",
      "/Users/user/anaconda3/envs/7mw/lib/python3.5/site-packages/sklearn/utils/deprecation.py:52: DeprecationWarning: Class ConvergenceWarning is deprecated; ConvergenceWarning has been moved into the sklearn.exceptions module. It will not be available here from version 0.19\n",
      "  warnings.warn(msg, category=DeprecationWarning)\n",
      "/Users/user/anaconda3/envs/7mw/lib/python3.5/site-packages/ntf_cython/nmf.py:196: ConvergenceWarning: Maximum number of iteration 1935 reached. Increase it to improve convergence.\n",
      "  ConvergenceWarning)\n",
      "/Users/user/anaconda3/envs/7mw/lib/python3.5/site-packages/sklearn/utils/deprecation.py:52: DeprecationWarning: Class ConvergenceWarning is deprecated; ConvergenceWarning has been moved into the sklearn.exceptions module. It will not be available here from version 0.19\n",
      "  warnings.warn(msg, category=DeprecationWarning)\n",
      "/Users/user/anaconda3/envs/7mw/lib/python3.5/site-packages/ntf_cython/nmf.py:196: ConvergenceWarning: Maximum number of iteration 1940 reached. Increase it to improve convergence.\n",
      "  ConvergenceWarning)\n",
      "/Users/user/anaconda3/envs/7mw/lib/python3.5/site-packages/sklearn/utils/deprecation.py:52: DeprecationWarning: Class ConvergenceWarning is deprecated; ConvergenceWarning has been moved into the sklearn.exceptions module. It will not be available here from version 0.19\n",
      "  warnings.warn(msg, category=DeprecationWarning)\n",
      "/Users/user/anaconda3/envs/7mw/lib/python3.5/site-packages/ntf_cython/nmf.py:196: ConvergenceWarning: Maximum number of iteration 1945 reached. Increase it to improve convergence.\n",
      "  ConvergenceWarning)\n",
      "/Users/user/anaconda3/envs/7mw/lib/python3.5/site-packages/sklearn/utils/deprecation.py:52: DeprecationWarning: Class ConvergenceWarning is deprecated; ConvergenceWarning has been moved into the sklearn.exceptions module. It will not be available here from version 0.19\n",
      "  warnings.warn(msg, category=DeprecationWarning)\n",
      "/Users/user/anaconda3/envs/7mw/lib/python3.5/site-packages/ntf_cython/nmf.py:196: ConvergenceWarning: Maximum number of iteration 1950 reached. Increase it to improve convergence.\n",
      "  ConvergenceWarning)\n",
      "/Users/user/anaconda3/envs/7mw/lib/python3.5/site-packages/sklearn/utils/deprecation.py:52: DeprecationWarning: Class ConvergenceWarning is deprecated; ConvergenceWarning has been moved into the sklearn.exceptions module. It will not be available here from version 0.19\n",
      "  warnings.warn(msg, category=DeprecationWarning)\n",
      "/Users/user/anaconda3/envs/7mw/lib/python3.5/site-packages/ntf_cython/nmf.py:196: ConvergenceWarning: Maximum number of iteration 1955 reached. Increase it to improve convergence.\n",
      "  ConvergenceWarning)\n",
      "/Users/user/anaconda3/envs/7mw/lib/python3.5/site-packages/sklearn/utils/deprecation.py:52: DeprecationWarning: Class ConvergenceWarning is deprecated; ConvergenceWarning has been moved into the sklearn.exceptions module. It will not be available here from version 0.19\n",
      "  warnings.warn(msg, category=DeprecationWarning)\n",
      "/Users/user/anaconda3/envs/7mw/lib/python3.5/site-packages/ntf_cython/nmf.py:196: ConvergenceWarning: Maximum number of iteration 1960 reached. Increase it to improve convergence.\n",
      "  ConvergenceWarning)\n",
      "/Users/user/anaconda3/envs/7mw/lib/python3.5/site-packages/sklearn/utils/deprecation.py:52: DeprecationWarning: Class ConvergenceWarning is deprecated; ConvergenceWarning has been moved into the sklearn.exceptions module. It will not be available here from version 0.19\n",
      "  warnings.warn(msg, category=DeprecationWarning)\n",
      "/Users/user/anaconda3/envs/7mw/lib/python3.5/site-packages/ntf_cython/nmf.py:196: ConvergenceWarning: Maximum number of iteration 1965 reached. Increase it to improve convergence.\n",
      "  ConvergenceWarning)\n",
      "/Users/user/anaconda3/envs/7mw/lib/python3.5/site-packages/sklearn/utils/deprecation.py:52: DeprecationWarning: Class ConvergenceWarning is deprecated; ConvergenceWarning has been moved into the sklearn.exceptions module. It will not be available here from version 0.19\n",
      "  warnings.warn(msg, category=DeprecationWarning)\n",
      "/Users/user/anaconda3/envs/7mw/lib/python3.5/site-packages/ntf_cython/nmf.py:196: ConvergenceWarning: Maximum number of iteration 1970 reached. Increase it to improve convergence.\n",
      "  ConvergenceWarning)\n",
      "/Users/user/anaconda3/envs/7mw/lib/python3.5/site-packages/sklearn/utils/deprecation.py:52: DeprecationWarning: Class ConvergenceWarning is deprecated; ConvergenceWarning has been moved into the sklearn.exceptions module. It will not be available here from version 0.19\n",
      "  warnings.warn(msg, category=DeprecationWarning)\n",
      "/Users/user/anaconda3/envs/7mw/lib/python3.5/site-packages/ntf_cython/nmf.py:196: ConvergenceWarning: Maximum number of iteration 1975 reached. Increase it to improve convergence.\n",
      "  ConvergenceWarning)\n",
      "/Users/user/anaconda3/envs/7mw/lib/python3.5/site-packages/sklearn/utils/deprecation.py:52: DeprecationWarning: Class ConvergenceWarning is deprecated; ConvergenceWarning has been moved into the sklearn.exceptions module. It will not be available here from version 0.19\n",
      "  warnings.warn(msg, category=DeprecationWarning)\n",
      "/Users/user/anaconda3/envs/7mw/lib/python3.5/site-packages/ntf_cython/nmf.py:196: ConvergenceWarning: Maximum number of iteration 1980 reached. Increase it to improve convergence.\n",
      "  ConvergenceWarning)\n",
      "/Users/user/anaconda3/envs/7mw/lib/python3.5/site-packages/sklearn/utils/deprecation.py:52: DeprecationWarning: Class ConvergenceWarning is deprecated; ConvergenceWarning has been moved into the sklearn.exceptions module. It will not be available here from version 0.19\n",
      "  warnings.warn(msg, category=DeprecationWarning)\n",
      "/Users/user/anaconda3/envs/7mw/lib/python3.5/site-packages/ntf_cython/nmf.py:196: ConvergenceWarning: Maximum number of iteration 1985 reached. Increase it to improve convergence.\n",
      "  ConvergenceWarning)\n",
      "/Users/user/anaconda3/envs/7mw/lib/python3.5/site-packages/sklearn/utils/deprecation.py:52: DeprecationWarning: Class ConvergenceWarning is deprecated; ConvergenceWarning has been moved into the sklearn.exceptions module. It will not be available here from version 0.19\n",
      "  warnings.warn(msg, category=DeprecationWarning)\n",
      "/Users/user/anaconda3/envs/7mw/lib/python3.5/site-packages/ntf_cython/nmf.py:196: ConvergenceWarning: Maximum number of iteration 1990 reached. Increase it to improve convergence.\n",
      "  ConvergenceWarning)\n",
      "/Users/user/anaconda3/envs/7mw/lib/python3.5/site-packages/sklearn/utils/deprecation.py:52: DeprecationWarning: Class ConvergenceWarning is deprecated; ConvergenceWarning has been moved into the sklearn.exceptions module. It will not be available here from version 0.19\n",
      "  warnings.warn(msg, category=DeprecationWarning)\n",
      "/Users/user/anaconda3/envs/7mw/lib/python3.5/site-packages/ntf_cython/nmf.py:196: ConvergenceWarning: Maximum number of iteration 1995 reached. Increase it to improve convergence.\n",
      "  ConvergenceWarning)\n",
      "/Users/user/anaconda3/envs/7mw/lib/python3.5/site-packages/sklearn/utils/deprecation.py:52: DeprecationWarning: Class ConvergenceWarning is deprecated; ConvergenceWarning has been moved into the sklearn.exceptions module. It will not be available here from version 0.19\n",
      "  warnings.warn(msg, category=DeprecationWarning)\n",
      "/Users/user/anaconda3/envs/7mw/lib/python3.5/site-packages/ntf_cython/nmf.py:196: ConvergenceWarning: Maximum number of iteration 2000 reached. Increase it to improve convergence.\n",
      "  ConvergenceWarning)\n",
      "/Users/user/anaconda3/envs/7mw/lib/python3.5/site-packages/sklearn/utils/deprecation.py:52: DeprecationWarning: Class ConvergenceWarning is deprecated; ConvergenceWarning has been moved into the sklearn.exceptions module. It will not be available here from version 0.19\n",
      "  warnings.warn(msg, category=DeprecationWarning)\n",
      "/Users/user/anaconda3/envs/7mw/lib/python3.5/site-packages/sklearn/utils/deprecation.py:52: DeprecationWarning: Class ConvergenceWarning is deprecated; ConvergenceWarning has been moved into the sklearn.exceptions module. It will not be available here from version 0.19\n",
      "  warnings.warn(msg, category=DeprecationWarning)\n"
     ]
    },
    {
     "name": "stdout",
     "output_type": "stream",
     "text": [
      "CPU times: user 1h 30min 43s, sys: 3min 3s, total: 1h 33min 47s\n",
      "Wall time: 59min 56s\n"
     ]
    }
   ],
   "source": [
    "%%time\n",
    "U, V, relative_error = structured_randomized_bppnmf(A, algo='algo43', q=10, r=r, max_iter = 200, eps = 0.00001, oversampling = 20, \n",
    "                     oversampling_factor = 20, random_state=2)"
   ]
  },
  {
   "cell_type": "code",
   "execution_count": 11,
   "metadata": {
    "collapsed": false
   },
   "outputs": [
    {
     "data": {
      "text/plain": [
       "[<matplotlib.lines.Line2D at 0x115456e48>]"
      ]
     },
     "execution_count": 11,
     "metadata": {},
     "output_type": "execute_result"
    },
    {
     "data": {
      "image/png": "[encoded data removed]",
      "text/plain": [
       "<matplotlib.figure.Figure at 0x11554e550>"
      ]
     },
     "metadata": {},
     "output_type": "display_data"
    }
   ],
   "source": [
    "plt.plot(relative_error)"
   ]
  },
  {
   "cell_type": "markdown",
   "metadata": {},
   "source": [
    "## COMPRESSED BPP WITH ALGO44"
   ]
  },
  {
   "cell_type": "code",
   "execution_count": 12,
   "metadata": {
    "collapsed": false
   },
   "outputs": [
    {
     "name": "stdout",
     "output_type": "stream",
     "text": [
      "The matrix is dense. We use compressed block principal pivoting method\n"
     ]
    },
    {
     "name": "stderr",
     "output_type": "stream",
     "text": [
      "/Users/user/anaconda3/envs/7mw/lib/python3.5/site-packages/sklearn/utils/deprecation.py:52: DeprecationWarning: Class ConvergenceWarning is deprecated; ConvergenceWarning has been moved into the sklearn.exceptions module. It will not be available here from version 0.19\n",
      "  warnings.warn(msg, category=DeprecationWarning)\n",
      "/Users/user/anaconda3/envs/7mw/lib/python3.5/site-packages/ntf_cython/nmf.py:196: ConvergenceWarning: Maximum number of iteration 1940 reached. Increase it to improve convergence.\n",
      "  ConvergenceWarning)\n",
      "/Users/user/anaconda3/envs/7mw/lib/python3.5/site-packages/sklearn/utils/deprecation.py:52: DeprecationWarning: Class ConvergenceWarning is deprecated; ConvergenceWarning has been moved into the sklearn.exceptions module. It will not be available here from version 0.19\n",
      "  warnings.warn(msg, category=DeprecationWarning)\n",
      "/Users/user/anaconda3/envs/7mw/lib/python3.5/site-packages/ntf_cython/nmf.py:196: ConvergenceWarning: Maximum number of iteration 1945 reached. Increase it to improve convergence.\n",
      "  ConvergenceWarning)\n",
      "/Users/user/anaconda3/envs/7mw/lib/python3.5/site-packages/sklearn/utils/deprecation.py:52: DeprecationWarning: Class ConvergenceWarning is deprecated; ConvergenceWarning has been moved into the sklearn.exceptions module. It will not be available here from version 0.19\n",
      "  warnings.warn(msg, category=DeprecationWarning)\n",
      "/Users/user/anaconda3/envs/7mw/lib/python3.5/site-packages/ntf_cython/nmf.py:196: ConvergenceWarning: Maximum number of iteration 1950 reached. Increase it to improve convergence.\n",
      "  ConvergenceWarning)\n",
      "/Users/user/anaconda3/envs/7mw/lib/python3.5/site-packages/sklearn/utils/deprecation.py:52: DeprecationWarning: Class ConvergenceWarning is deprecated; ConvergenceWarning has been moved into the sklearn.exceptions module. It will not be available here from version 0.19\n",
      "  warnings.warn(msg, category=DeprecationWarning)\n",
      "/Users/user/anaconda3/envs/7mw/lib/python3.5/site-packages/ntf_cython/nmf.py:196: ConvergenceWarning: Maximum number of iteration 1955 reached. Increase it to improve convergence.\n",
      "  ConvergenceWarning)\n",
      "/Users/user/anaconda3/envs/7mw/lib/python3.5/site-packages/sklearn/utils/deprecation.py:52: DeprecationWarning: Class ConvergenceWarning is deprecated; ConvergenceWarning has been moved into the sklearn.exceptions module. It will not be available here from version 0.19\n",
      "  warnings.warn(msg, category=DeprecationWarning)\n",
      "/Users/user/anaconda3/envs/7mw/lib/python3.5/site-packages/ntf_cython/nmf.py:196: ConvergenceWarning: Maximum number of iteration 1960 reached. Increase it to improve convergence.\n",
      "  ConvergenceWarning)\n",
      "/Users/user/anaconda3/envs/7mw/lib/python3.5/site-packages/sklearn/utils/deprecation.py:52: DeprecationWarning: Class ConvergenceWarning is deprecated; ConvergenceWarning has been moved into the sklearn.exceptions module. It will not be available here from version 0.19\n",
      "  warnings.warn(msg, category=DeprecationWarning)\n",
      "/Users/user/anaconda3/envs/7mw/lib/python3.5/site-packages/ntf_cython/nmf.py:196: ConvergenceWarning: Maximum number of iteration 1965 reached. Increase it to improve convergence.\n",
      "  ConvergenceWarning)\n",
      "/Users/user/anaconda3/envs/7mw/lib/python3.5/site-packages/sklearn/utils/deprecation.py:52: DeprecationWarning: Class ConvergenceWarning is deprecated; ConvergenceWarning has been moved into the sklearn.exceptions module. It will not be available here from version 0.19\n",
      "  warnings.warn(msg, category=DeprecationWarning)\n",
      "/Users/user/anaconda3/envs/7mw/lib/python3.5/site-packages/ntf_cython/nmf.py:196: ConvergenceWarning: Maximum number of iteration 1970 reached. Increase it to improve convergence.\n",
      "  ConvergenceWarning)\n",
      "/Users/user/anaconda3/envs/7mw/lib/python3.5/site-packages/sklearn/utils/deprecation.py:52: DeprecationWarning: Class ConvergenceWarning is deprecated; ConvergenceWarning has been moved into the sklearn.exceptions module. It will not be available here from version 0.19\n",
      "  warnings.warn(msg, category=DeprecationWarning)\n",
      "/Users/user/anaconda3/envs/7mw/lib/python3.5/site-packages/ntf_cython/nmf.py:196: ConvergenceWarning: Maximum number of iteration 1975 reached. Increase it to improve convergence.\n",
      "  ConvergenceWarning)\n",
      "/Users/user/anaconda3/envs/7mw/lib/python3.5/site-packages/sklearn/utils/deprecation.py:52: DeprecationWarning: Class ConvergenceWarning is deprecated; ConvergenceWarning has been moved into the sklearn.exceptions module. It will not be available here from version 0.19\n",
      "  warnings.warn(msg, category=DeprecationWarning)\n",
      "/Users/user/anaconda3/envs/7mw/lib/python3.5/site-packages/ntf_cython/nmf.py:196: ConvergenceWarning: Maximum number of iteration 1980 reached. Increase it to improve convergence.\n",
      "  ConvergenceWarning)\n",
      "/Users/user/anaconda3/envs/7mw/lib/python3.5/site-packages/sklearn/utils/deprecation.py:52: DeprecationWarning: Class ConvergenceWarning is deprecated; ConvergenceWarning has been moved into the sklearn.exceptions module. It will not be available here from version 0.19\n",
      "  warnings.warn(msg, category=DeprecationWarning)\n",
      "/Users/user/anaconda3/envs/7mw/lib/python3.5/site-packages/ntf_cython/nmf.py:196: ConvergenceWarning: Maximum number of iteration 1985 reached. Increase it to improve convergence.\n",
      "  ConvergenceWarning)\n",
      "/Users/user/anaconda3/envs/7mw/lib/python3.5/site-packages/sklearn/utils/deprecation.py:52: DeprecationWarning: Class ConvergenceWarning is deprecated; ConvergenceWarning has been moved into the sklearn.exceptions module. It will not be available here from version 0.19\n",
      "  warnings.warn(msg, category=DeprecationWarning)\n",
      "/Users/user/anaconda3/envs/7mw/lib/python3.5/site-packages/ntf_cython/nmf.py:196: ConvergenceWarning: Maximum number of iteration 1990 reached. Increase it to improve convergence.\n",
      "  ConvergenceWarning)\n",
      "/Users/user/anaconda3/envs/7mw/lib/python3.5/site-packages/sklearn/utils/deprecation.py:52: DeprecationWarning: Class ConvergenceWarning is deprecated; ConvergenceWarning has been moved into the sklearn.exceptions module. It will not be available here from version 0.19\n",
      "  warnings.warn(msg, category=DeprecationWarning)\n",
      "/Users/user/anaconda3/envs/7mw/lib/python3.5/site-packages/ntf_cython/nmf.py:196: ConvergenceWarning: Maximum number of iteration 1995 reached. Increase it to improve convergence.\n",
      "  ConvergenceWarning)\n",
      "/Users/user/anaconda3/envs/7mw/lib/python3.5/site-packages/sklearn/utils/deprecation.py:52: DeprecationWarning: Class ConvergenceWarning is deprecated; ConvergenceWarning has been moved into the sklearn.exceptions module. It will not be available here from version 0.19\n",
      "  warnings.warn(msg, category=DeprecationWarning)\n",
      "/Users/user/anaconda3/envs/7mw/lib/python3.5/site-packages/ntf_cython/nmf.py:196: ConvergenceWarning: Maximum number of iteration 2000 reached. Increase it to improve convergence.\n",
      "  ConvergenceWarning)\n",
      "/Users/user/anaconda3/envs/7mw/lib/python3.5/site-packages/sklearn/utils/deprecation.py:52: DeprecationWarning: Class ConvergenceWarning is deprecated; ConvergenceWarning has been moved into the sklearn.exceptions module. It will not be available here from version 0.19\n",
      "  warnings.warn(msg, category=DeprecationWarning)\n",
      "/Users/user/anaconda3/envs/7mw/lib/python3.5/site-packages/sklearn/utils/deprecation.py:52: DeprecationWarning: Class ConvergenceWarning is deprecated; ConvergenceWarning has been moved into the sklearn.exceptions module. It will not be available here from version 0.19\n",
      "  warnings.warn(msg, category=DeprecationWarning)\n"
     ]
    },
    {
     "name": "stdout",
     "output_type": "stream",
     "text": [
      "CPU times: user 1h 10min 35s, sys: 2min 31s, total: 1h 13min 6s\n",
      "Wall time: 48min 21s\n"
     ]
    }
   ],
   "source": [
    "%%time\n",
    "U, V, relative_error = structured_randomized_bppnmf(A, algo='algo44', q=10, r=r, max_iter = 200, eps = 0.00001, oversampling = 20, \n",
    "                     oversampling_factor = 20, random_state=2)"
   ]
  },
  {
   "cell_type": "code",
   "execution_count": 13,
   "metadata": {
    "collapsed": false
   },
   "outputs": [
    {
     "data": {
      "text/plain": [
       "[<matplotlib.lines.Line2D at 0x116ba7898>]"
      ]
     },
     "execution_count": 13,
     "metadata": {},
     "output_type": "execute_result"
    },
    {
     "data": {
      "image/png": "[encoded data removed]",
      "text/plain": [
       "<matplotlib.figure.Figure at 0x116b8f5f8>"
      ]
     },
     "metadata": {},
     "output_type": "display_data"
    }
   ],
   "source": [
    "plt.plot(relative_error)"
   ]
  },
  {
   "cell_type": "markdown",
   "metadata": {},
   "source": [
    "## COMPRESSED BPP WITH STRUCTURED COMPRESSION"
   ]
  },
  {
   "cell_type": "code",
   "execution_count": 14,
   "metadata": {
    "collapsed": false
   },
   "outputs": [
    {
     "name": "stderr",
     "output_type": "stream",
     "text": [
      "ERROR:root:Cell magic `%%200` not found.\n"
     ]
    }
   ],
   "source": [
    "%%200\n",
    "U, V, relative_error = structured_randomized_bppnmf(A, algo='structured_compression', q=10, r=r, max_iter = 200, eps = 0.00001, oversampling = 20, \n",
    "                     oversampling_factor = 20, random_state=2)"
   ]
  },
  {
   "cell_type": "code",
   "execution_count": 15,
   "metadata": {
    "collapsed": false
   },
   "outputs": [
    {
     "data": {
      "text/plain": [
       "[<matplotlib.lines.Line2D at 0x1169a05c0>]"
      ]
     },
     "execution_count": 15,
     "metadata": {},
     "output_type": "execute_result"
    },
    {
     "data": {
      "image/png": "[encoded data removed]",
      "text/plain": [
       "<matplotlib.figure.Figure at 0x1156dfe80>"
      ]
     },
     "metadata": {},
     "output_type": "display_data"
    }
   ],
   "source": [
    "plt.plot(relative_error)"
   ]
  },
  {
   "cell_type": "markdown",
   "metadata": {},
   "source": [
    "## COMPRESSED BPP WITH COUNT GAUSSIAN"
   ]
  },
  {
   "cell_type": "code",
   "execution_count": 16,
   "metadata": {
    "collapsed": false
   },
   "outputs": [
    {
     "name": "stdout",
     "output_type": "stream",
     "text": [
      "The matrix is dense. We use compressed block principal pivoting method\n",
      "CPU times: user 14min 38s, sys: 58.3 s, total: 15min 37s\n",
      "Wall time: 9min 53s\n"
     ]
    }
   ],
   "source": [
    "%%time\n",
    "U, V, relative_error = structured_randomized_bppnmf(A, algo='count_gauss', q=10, r=r, max_iter = 200, eps = 0.00001, oversampling = 20, \n",
    "                     oversampling_factor = 20, random_state=2)"
   ]
  },
  {
   "cell_type": "code",
   "execution_count": 17,
   "metadata": {
    "collapsed": false
   },
   "outputs": [
    {
     "data": {
      "text/plain": [
       "[<matplotlib.lines.Line2D at 0x1253f7898>]"
      ]
     },
     "execution_count": 17,
     "metadata": {},
     "output_type": "execute_result"
    },
    {
     "data": {
      "image/png": "[encoded data removed]",
      "text/plain": [
       "<matplotlib.figure.Figure at 0x116b97da0>"
      ]
     },
     "metadata": {},
     "output_type": "display_data"
    }
   ],
   "source": [
    "plt.plot(relative_error)"
   ]
  },
  {
   "cell_type": "markdown",
   "metadata": {},
   "source": [
    "# UNCOMPRESSED BPP IMPLEMENTATION"
   ]
  },
  {
   "cell_type": "code",
   "execution_count": 18,
   "metadata": {
    "collapsed": false
   },
   "outputs": [
    {
     "name": "stdout",
     "output_type": "stream",
     "text": [
      "CPU times: user 2h 12min 32s, sys: 5min 15s, total: 2h 17min 47s\n",
      "Wall time: 1h 34min 45s\n"
     ]
    }
   ],
   "source": [
    "%time W, H, _, _ = nmf(A, n_components=r, max_iter=200, random_state=2)"
   ]
  },
  {
   "cell_type": "code",
   "execution_count": 19,
   "metadata": {
    "collapsed": false
   },
   "outputs": [
    {
     "data": {
      "text/plain": [
       "(10000, 1000)"
      ]
     },
     "execution_count": 19,
     "metadata": {},
     "output_type": "execute_result"
    }
   ],
   "source": [
    "A.shape"
   ]
  },
  {
   "cell_type": "code",
   "execution_count": 20,
   "metadata": {
    "collapsed": false
   },
   "outputs": [
    {
     "data": {
      "text/plain": [
       "0.45477368945833208"
      ]
     },
     "execution_count": 20,
     "metadata": {},
     "output_type": "execute_result"
    }
   ],
   "source": [
    "rel_error(A, W.dot(H))"
   ]
  },
  {
   "cell_type": "code",
   "execution_count": null,
   "metadata": {
    "collapsed": true
   },
   "outputs": [],
   "source": []
  },
  {
   "cell_type": "code",
   "execution_count": null,
   "metadata": {
    "collapsed": true
   },
   "outputs": [],
   "source": []
  },
  {
   "cell_type": "code",
   "execution_count": null,
   "metadata": {
    "collapsed": true
   },
   "outputs": [],
   "source": []
  }
 ],
 "metadata": {
  "anaconda-cloud": {},
  "kernelspec": {
   "display_name": "7mw",
   "language": "python",
   "name": "7mw"
  },
  "language_info": {
   "codemirror_mode": {
    "name": "ipython",
    "version": 3
   },
   "file_extension": ".py",
   "mimetype": "text/x-python",
   "name": "python",
   "nbconvert_exporter": "python",
   "pygments_lexer": "ipython3",
   "version": "3.5.3"
  }
 },
 "nbformat": 4,
 "nbformat_minor": 1
}
